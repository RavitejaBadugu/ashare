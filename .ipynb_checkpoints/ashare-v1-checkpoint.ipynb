{
 "cells": [
  {
   "cell_type": "code",
   "execution_count": 1,
   "metadata": {
    "execution": {
     "iopub.execute_input": "2021-07-30T13:14:04.507681Z",
     "iopub.status.busy": "2021-07-30T13:14:04.507210Z",
     "iopub.status.idle": "2021-07-30T13:14:05.286901Z",
     "shell.execute_reply": "2021-07-30T13:14:05.286009Z",
     "shell.execute_reply.started": "2021-07-30T13:14:04.507560Z"
    },
    "id": "TEmKI38UJapr"
   },
   "outputs": [],
   "source": [
    "import numpy as np\n",
    "import pandas as pd\n",
    "import matplotlib.pyplot as plt\n",
    "import seaborn as sn\n",
    "import random as rn\n",
    "import pickle\n",
    "from tqdm import tqdm\n",
    "%matplotlib inline"
   ]
  },
  {
   "cell_type": "code",
   "execution_count": 2,
   "metadata": {
    "execution": {
     "iopub.execute_input": "2021-07-30T13:14:05.288580Z",
     "iopub.status.busy": "2021-07-30T13:14:05.288247Z",
     "iopub.status.idle": "2021-07-30T13:14:05.294092Z",
     "shell.execute_reply": "2021-07-30T13:14:05.291915Z",
     "shell.execute_reply.started": "2021-07-30T13:14:05.288543Z"
    }
   },
   "outputs": [],
   "source": [
    "import os\n",
    "os.environ['PYTHONHASHSEED'] = '0'"
   ]
  },
  {
   "cell_type": "code",
   "execution_count": 3,
   "metadata": {
    "execution": {
     "iopub.execute_input": "2021-07-30T13:14:05.296719Z",
     "iopub.status.busy": "2021-07-30T13:14:05.296282Z",
     "iopub.status.idle": "2021-07-30T13:14:05.302202Z",
     "shell.execute_reply": "2021-07-30T13:14:05.300991Z",
     "shell.execute_reply.started": "2021-07-30T13:14:05.296620Z"
    }
   },
   "outputs": [],
   "source": [
    "np.random.seed(42)"
   ]
  },
  {
   "cell_type": "code",
   "execution_count": 4,
   "metadata": {
    "execution": {
     "iopub.execute_input": "2021-07-30T13:14:05.461919Z",
     "iopub.status.busy": "2021-07-30T13:14:05.461524Z",
     "iopub.status.idle": "2021-07-30T13:14:05.466517Z",
     "shell.execute_reply": "2021-07-30T13:14:05.465573Z",
     "shell.execute_reply.started": "2021-07-30T13:14:05.461886Z"
    }
   },
   "outputs": [],
   "source": [
    "rn.seed(42)"
   ]
  },
  {
   "cell_type": "code",
   "execution_count": 5,
   "metadata": {
    "execution": {
     "iopub.execute_input": "2021-07-30T13:14:07.036995Z",
     "iopub.status.busy": "2021-07-30T13:14:07.036577Z",
     "iopub.status.idle": "2021-07-30T13:14:07.040916Z",
     "shell.execute_reply": "2021-07-30T13:14:07.039793Z",
     "shell.execute_reply.started": "2021-07-30T13:14:07.036963Z"
    }
   },
   "outputs": [],
   "source": [
    "pd.options.display.max_columns = None"
   ]
  },
  {
   "cell_type": "code",
   "execution_count": 6,
   "metadata": {
    "execution": {
     "iopub.execute_input": "2021-07-30T12:54:29.025803Z",
     "iopub.status.busy": "2021-07-30T12:54:29.025453Z",
     "iopub.status.idle": "2021-07-30T12:54:29.030041Z",
     "shell.execute_reply": "2021-07-30T12:54:29.028930Z",
     "shell.execute_reply.started": "2021-07-30T12:54:29.025774Z"
    }
   },
   "outputs": [],
   "source": [
    "#!wget --header=\"Host: storage.googleapis.com\" --header=\"User-Agent: Mozilla/5.0 (Windows NT 10.0; Win64; x64) AppleWebKit/537.36 (KHTML, like Gecko) Chrome/92.0.4515.107 Safari/537.36\" --header=\"Accept: text/html,application/xhtml+xml,application/xml;q=0.9,image/avif,image/webp,image/apng,*/*;q=0.8,application/signed-exchange;v=b3;q=0.9\" --header=\"Accept-Language: en-US,en;q=0.9\" --header=\"Referer: https://www.kaggle.com/\" \"https://storage.googleapis.com/kaggle-competitions-data/kaggle-v2/9994/752467/bundle/archive.zip?GoogleAccessId=web-data@kaggle-161607.iam.gserviceaccount.com&Expires=1627830051&Signature=NRH9U6%2ByuQtWzzPMuPWhgW%2Bo83w065WJboMDE1JrjiH9ge%2BXoz2AI7SD62hDf%2FTj3%2BJ88P%2BStgxZvDWhz3M4At%2F%2BlNlMA66anfPgN3mOFIn%2Fdleho%2BX6D43E6%2BxL94O9L7S%2B658KBJEYgQ%2BZT8ffCL3Wy2bBMdRtoNFsFrAKOrlGlb6BxVBFVJ8aaDzE0CkrTEv%2Fn5fPtNtMF7EgsV8QCt1tEhYFymym1gYCVT%2BW2WNtg71sgwOP%2FKf6cTfYM35NmESPGkLlpGmjzWHicT7U0y9SEWo74K6VJKUHIfLijc6w8KBnPP6I8FDtSvQoParl4sYRtBjn5SyClNdQuGjZhw%3D%3D&response-content-disposition=attachment%3B+filename%3Dashrae-energy-prediction.zip\" -c -O 'ashrae-energy-prediction.zip'"
   ]
  },
  {
   "cell_type": "code",
   "execution_count": 7,
   "metadata": {
    "execution": {
     "iopub.execute_input": "2021-07-30T12:54:29.216194Z",
     "iopub.status.busy": "2021-07-30T12:54:29.215854Z",
     "iopub.status.idle": "2021-07-30T12:54:29.220253Z",
     "shell.execute_reply": "2021-07-30T12:54:29.219262Z",
     "shell.execute_reply.started": "2021-07-30T12:54:29.216163Z"
    }
   },
   "outputs": [],
   "source": [
    "#!unzip ashrae-energy-prediction.zip"
   ]
  },
  {
   "cell_type": "code",
   "execution_count": 8,
   "metadata": {
    "execution": {
     "iopub.execute_input": "2021-07-30T12:54:29.416124Z",
     "iopub.status.busy": "2021-07-30T12:54:29.415791Z",
     "iopub.status.idle": "2021-07-30T12:54:43.845754Z",
     "shell.execute_reply": "2021-07-30T12:54:43.844930Z",
     "shell.execute_reply.started": "2021-07-30T12:54:29.416094Z"
    },
    "id": "hd5_42Q5Jap2"
   },
   "outputs": [],
   "source": [
    "build=pd.read_csv(\"../input/ashrae-energy-prediction/building_metadata.csv\")\n",
    "df=pd.read_csv(\"../input/ashrae-energy-prediction/train.csv\")\n",
    "weather=pd.read_csv(\"../input/ashrae-energy-prediction/weather_train.csv\")"
   ]
  },
  {
   "cell_type": "code",
   "execution_count": 9,
   "metadata": {
    "execution": {
     "iopub.execute_input": "2021-07-30T12:54:43.847397Z",
     "iopub.status.busy": "2021-07-30T12:54:43.847071Z",
     "iopub.status.idle": "2021-07-30T12:54:43.854471Z",
     "shell.execute_reply": "2021-07-30T12:54:43.853740Z",
     "shell.execute_reply.started": "2021-07-30T12:54:43.847363Z"
    },
    "id": "34uTYUt8Jap3"
   },
   "outputs": [],
   "source": [
    "feature_changes={}"
   ]
  },
  {
   "cell_type": "code",
   "execution_count": 10,
   "metadata": {
    "execution": {
     "iopub.execute_input": "2021-07-30T12:54:43.856475Z",
     "iopub.status.busy": "2021-07-30T12:54:43.856138Z",
     "iopub.status.idle": "2021-07-30T12:54:43.867479Z",
     "shell.execute_reply": "2021-07-30T12:54:43.866624Z",
     "shell.execute_reply.started": "2021-07-30T12:54:43.856436Z"
    }
   },
   "outputs": [],
   "source": [
    "encoders={}"
   ]
  },
  {
   "cell_type": "code",
   "execution_count": 11,
   "metadata": {
    "execution": {
     "iopub.execute_input": "2021-07-30T12:54:43.869388Z",
     "iopub.status.busy": "2021-07-30T12:54:43.869048Z",
     "iopub.status.idle": "2021-07-30T12:54:43.899788Z",
     "shell.execute_reply": "2021-07-30T12:54:43.899045Z",
     "shell.execute_reply.started": "2021-07-30T12:54:43.869355Z"
    },
    "id": "XtHm9c9AJap3",
    "outputId": "a7c0a2c2-d9be-4b9a-a32a-3ec16ba59e12",
    "scrolled": true
   },
   "outputs": [
    {
     "name": "stdout",
     "output_type": "stream",
     "text": [
      "<class 'pandas.core.frame.DataFrame'>\n",
      "RangeIndex: 1449 entries, 0 to 1448\n",
      "Data columns (total 6 columns):\n",
      " #   Column       Non-Null Count  Dtype  \n",
      "---  ------       --------------  -----  \n",
      " 0   site_id      1449 non-null   int64  \n",
      " 1   building_id  1449 non-null   int64  \n",
      " 2   primary_use  1449 non-null   object \n",
      " 3   square_feet  1449 non-null   int64  \n",
      " 4   year_built   675 non-null    float64\n",
      " 5   floor_count  355 non-null    float64\n",
      "dtypes: float64(2), int64(3), object(1)\n",
      "memory usage: 68.0+ KB\n"
     ]
    }
   ],
   "source": [
    "build.info()"
   ]
  },
  {
   "cell_type": "code",
   "execution_count": 12,
   "metadata": {
    "execution": {
     "iopub.execute_input": "2021-07-30T12:54:43.901261Z",
     "iopub.status.busy": "2021-07-30T12:54:43.900956Z",
     "iopub.status.idle": "2021-07-30T12:54:43.913108Z",
     "shell.execute_reply": "2021-07-30T12:54:43.912155Z",
     "shell.execute_reply.started": "2021-07-30T12:54:43.901229Z"
    },
    "id": "ubCw8VqmJap4",
    "outputId": "4c6ce8a3-216f-487d-92ed-0d314493c493"
   },
   "outputs": [
    {
     "name": "stdout",
     "output_type": "stream",
     "text": [
      "<class 'pandas.core.frame.DataFrame'>\n",
      "RangeIndex: 20216100 entries, 0 to 20216099\n",
      "Data columns (total 4 columns):\n",
      " #   Column         Dtype  \n",
      "---  ------         -----  \n",
      " 0   building_id    int64  \n",
      " 1   meter          int64  \n",
      " 2   timestamp      object \n",
      " 3   meter_reading  float64\n",
      "dtypes: float64(1), int64(2), object(1)\n",
      "memory usage: 616.9+ MB\n"
     ]
    }
   ],
   "source": [
    "df.info()"
   ]
  },
  {
   "cell_type": "code",
   "execution_count": 13,
   "metadata": {
    "execution": {
     "iopub.execute_input": "2021-07-30T12:54:43.914666Z",
     "iopub.status.busy": "2021-07-30T12:54:43.914315Z",
     "iopub.status.idle": "2021-07-30T12:54:47.338038Z",
     "shell.execute_reply": "2021-07-30T12:54:47.337206Z",
     "shell.execute_reply.started": "2021-07-30T12:54:43.914631Z"
    },
    "id": "13Lbr7JhJap5"
   },
   "outputs": [],
   "source": [
    "df['timestamp']=pd.to_datetime(df['timestamp'])"
   ]
  },
  {
   "cell_type": "code",
   "execution_count": 14,
   "metadata": {
    "execution": {
     "iopub.execute_input": "2021-07-30T12:54:47.339744Z",
     "iopub.status.busy": "2021-07-30T12:54:47.339387Z",
     "iopub.status.idle": "2021-07-30T12:54:47.367562Z",
     "shell.execute_reply": "2021-07-30T12:54:47.366649Z",
     "shell.execute_reply.started": "2021-07-30T12:54:47.339707Z"
    },
    "id": "ybdNlkwWJap5",
    "outputId": "2149ac48-1afc-4f42-950e-223c460878b4"
   },
   "outputs": [
    {
     "name": "stdout",
     "output_type": "stream",
     "text": [
      "<class 'pandas.core.frame.DataFrame'>\n",
      "RangeIndex: 139773 entries, 0 to 139772\n",
      "Data columns (total 9 columns):\n",
      " #   Column              Non-Null Count   Dtype  \n",
      "---  ------              --------------   -----  \n",
      " 0   site_id             139773 non-null  int64  \n",
      " 1   timestamp           139773 non-null  object \n",
      " 2   air_temperature     139718 non-null  float64\n",
      " 3   cloud_coverage      70600 non-null   float64\n",
      " 4   dew_temperature     139660 non-null  float64\n",
      " 5   precip_depth_1_hr   89484 non-null   float64\n",
      " 6   sea_level_pressure  129155 non-null  float64\n",
      " 7   wind_direction      133505 non-null  float64\n",
      " 8   wind_speed          139469 non-null  float64\n",
      "dtypes: float64(7), int64(1), object(1)\n",
      "memory usage: 9.6+ MB\n"
     ]
    }
   ],
   "source": [
    "weather.info()"
   ]
  },
  {
   "cell_type": "code",
   "execution_count": 15,
   "metadata": {
    "execution": {
     "iopub.execute_input": "2021-07-30T12:54:47.370512Z",
     "iopub.status.busy": "2021-07-30T12:54:47.370186Z",
     "iopub.status.idle": "2021-07-30T12:54:47.406849Z",
     "shell.execute_reply": "2021-07-30T12:54:47.406140Z",
     "shell.execute_reply.started": "2021-07-30T12:54:47.370478Z"
    }
   },
   "outputs": [
    {
     "data": {
      "text/plain": [
       "site_id                0.000000\n",
       "timestamp              0.000000\n",
       "air_temperature        0.039350\n",
       "cloud_coverage        49.489529\n",
       "dew_temperature        0.080845\n",
       "precip_depth_1_hr     35.979052\n",
       "sea_level_pressure     7.596603\n",
       "wind_direction         4.484414\n",
       "wind_speed             0.217496\n",
       "dtype: float64"
      ]
     },
     "execution_count": 15,
     "metadata": {},
     "output_type": "execute_result"
    }
   ],
   "source": [
    "weather.isna().sum()/weather.shape[0]*100"
   ]
  },
  {
   "cell_type": "code",
   "execution_count": 16,
   "metadata": {
    "execution": {
     "iopub.execute_input": "2021-07-30T12:54:47.408979Z",
     "iopub.status.busy": "2021-07-30T12:54:47.408657Z",
     "iopub.status.idle": "2021-07-30T12:54:47.419855Z",
     "shell.execute_reply": "2021-07-30T12:54:47.418844Z",
     "shell.execute_reply.started": "2021-07-30T12:54:47.408946Z"
    }
   },
   "outputs": [
    {
     "data": {
      "text/plain": [
       "site_id         0.000000\n",
       "building_id     0.000000\n",
       "primary_use     0.000000\n",
       "square_feet     0.000000\n",
       "year_built     53.416149\n",
       "floor_count    75.500345\n",
       "dtype: float64"
      ]
     },
     "execution_count": 16,
     "metadata": {},
     "output_type": "execute_result"
    }
   ],
   "source": [
    "build.isna().sum()/build.shape[0]*100"
   ]
  },
  {
   "cell_type": "code",
   "execution_count": 17,
   "metadata": {
    "execution": {
     "iopub.execute_input": "2021-07-30T12:54:47.424408Z",
     "iopub.status.busy": "2021-07-30T12:54:47.422893Z",
     "iopub.status.idle": "2021-07-30T12:54:47.438962Z",
     "shell.execute_reply": "2021-07-30T12:54:47.438269Z",
     "shell.execute_reply.started": "2021-07-30T12:54:47.424383Z"
    },
    "id": "Gk1crB0oJap5",
    "outputId": "a22982b7-54a6-450c-a2d2-197b683b8f54"
   },
   "outputs": [
    {
     "data": {
      "text/html": [
       "<div>\n",
       "<style scoped>\n",
       "    .dataframe tbody tr th:only-of-type {\n",
       "        vertical-align: middle;\n",
       "    }\n",
       "\n",
       "    .dataframe tbody tr th {\n",
       "        vertical-align: top;\n",
       "    }\n",
       "\n",
       "    .dataframe thead th {\n",
       "        text-align: right;\n",
       "    }\n",
       "</style>\n",
       "<table border=\"1\" class=\"dataframe\">\n",
       "  <thead>\n",
       "    <tr style=\"text-align: right;\">\n",
       "      <th></th>\n",
       "      <th>building_id</th>\n",
       "      <th>meter</th>\n",
       "      <th>timestamp</th>\n",
       "      <th>meter_reading</th>\n",
       "    </tr>\n",
       "  </thead>\n",
       "  <tbody>\n",
       "    <tr>\n",
       "      <th>0</th>\n",
       "      <td>0</td>\n",
       "      <td>0</td>\n",
       "      <td>2016-01-01</td>\n",
       "      <td>0.0</td>\n",
       "    </tr>\n",
       "    <tr>\n",
       "      <th>1</th>\n",
       "      <td>1</td>\n",
       "      <td>0</td>\n",
       "      <td>2016-01-01</td>\n",
       "      <td>0.0</td>\n",
       "    </tr>\n",
       "    <tr>\n",
       "      <th>2</th>\n",
       "      <td>2</td>\n",
       "      <td>0</td>\n",
       "      <td>2016-01-01</td>\n",
       "      <td>0.0</td>\n",
       "    </tr>\n",
       "    <tr>\n",
       "      <th>3</th>\n",
       "      <td>3</td>\n",
       "      <td>0</td>\n",
       "      <td>2016-01-01</td>\n",
       "      <td>0.0</td>\n",
       "    </tr>\n",
       "    <tr>\n",
       "      <th>4</th>\n",
       "      <td>4</td>\n",
       "      <td>0</td>\n",
       "      <td>2016-01-01</td>\n",
       "      <td>0.0</td>\n",
       "    </tr>\n",
       "  </tbody>\n",
       "</table>\n",
       "</div>"
      ],
      "text/plain": [
       "   building_id  meter  timestamp  meter_reading\n",
       "0            0      0 2016-01-01            0.0\n",
       "1            1      0 2016-01-01            0.0\n",
       "2            2      0 2016-01-01            0.0\n",
       "3            3      0 2016-01-01            0.0\n",
       "4            4      0 2016-01-01            0.0"
      ]
     },
     "execution_count": 17,
     "metadata": {},
     "output_type": "execute_result"
    }
   ],
   "source": [
    "df.head()"
   ]
  },
  {
   "cell_type": "code",
   "execution_count": 18,
   "metadata": {
    "execution": {
     "iopub.execute_input": "2021-07-30T12:54:47.440666Z",
     "iopub.status.busy": "2021-07-30T12:54:47.440119Z",
     "iopub.status.idle": "2021-07-30T12:54:47.764962Z",
     "shell.execute_reply": "2021-07-30T12:54:47.763968Z",
     "shell.execute_reply.started": "2021-07-30T12:54:47.440631Z"
    },
    "id": "ZfGVDOf5Jap5",
    "outputId": "f3a078c7-5171-48ef-a104-e0c68c7e06f8"
   },
   "outputs": [
    {
     "data": {
      "text/plain": [
       "1449"
      ]
     },
     "execution_count": 18,
     "metadata": {},
     "output_type": "execute_result"
    }
   ],
   "source": [
    "#no.of buildings are taken\n",
    "df['building_id'].nunique()"
   ]
  },
  {
   "cell_type": "code",
   "execution_count": 19,
   "metadata": {
    "execution": {
     "iopub.execute_input": "2021-07-30T12:54:47.766760Z",
     "iopub.status.busy": "2021-07-30T12:54:47.766403Z",
     "iopub.status.idle": "2021-07-30T12:54:48.274683Z",
     "shell.execute_reply": "2021-07-30T12:54:48.273738Z",
     "shell.execute_reply.started": "2021-07-30T12:54:47.766723Z"
    }
   },
   "outputs": [
    {
     "data": {
      "text/plain": [
       "building_id\n",
       "0       8784\n",
       "1       8784\n",
       "2       8784\n",
       "3       8784\n",
       "4       8784\n",
       "        ... \n",
       "1444    7445\n",
       "1445    7449\n",
       "1446    7472\n",
       "1447    7471\n",
       "1448    7452\n",
       "Name: timestamp, Length: 1449, dtype: int64"
      ]
     },
     "execution_count": 19,
     "metadata": {},
     "output_type": "execute_result"
    }
   ],
   "source": [
    "df.groupby('building_id')['timestamp'].count()"
   ]
  },
  {
   "cell_type": "markdown",
   "metadata": {},
   "source": [
    "clearly we can see that not all buildings are having complete one year data"
   ]
  },
  {
   "cell_type": "code",
   "execution_count": 20,
   "metadata": {
    "execution": {
     "iopub.execute_input": "2021-07-30T12:54:48.276355Z",
     "iopub.status.busy": "2021-07-30T12:54:48.276008Z",
     "iopub.status.idle": "2021-07-30T12:54:48.390895Z",
     "shell.execute_reply": "2021-07-30T12:54:48.389897Z",
     "shell.execute_reply.started": "2021-07-30T12:54:48.276318Z"
    },
    "id": "hwuCC28YJap6",
    "outputId": "555cbb8d-86da-4ad5-c555-9e5d701d3eff"
   },
   "outputs": [
    {
     "data": {
      "text/plain": [
       "array([0, 3, 1, 2])"
      ]
     },
     "execution_count": 20,
     "metadata": {},
     "output_type": "execute_result"
    }
   ],
   "source": [
    "#types of meter\n",
    "#{0: electricity, 1: chilledwater, 2: steam, 3: hotwater}\n",
    "df['meter'].unique(\n",
    ")"
   ]
  },
  {
   "cell_type": "code",
   "execution_count": 21,
   "metadata": {
    "execution": {
     "iopub.execute_input": "2021-07-30T12:54:48.392815Z",
     "iopub.status.busy": "2021-07-30T12:54:48.392422Z",
     "iopub.status.idle": "2021-07-30T12:54:50.111199Z",
     "shell.execute_reply": "2021-07-30T12:54:50.110232Z",
     "shell.execute_reply.started": "2021-07-30T12:54:48.392776Z"
    },
    "id": "kiZv1iA5Jap6",
    "outputId": "c23f3921-51d2-4000-fb3b-fc7287586081"
   },
   "outputs": [
    {
     "name": "stderr",
     "output_type": "stream",
     "text": [
      "/opt/conda/lib/python3.7/site-packages/seaborn/_decorators.py:43: FutureWarning: Pass the following variable as a keyword arg: x. From version 0.12, the only valid positional argument will be `data`, and passing other arguments without an explicit keyword will result in an error or misinterpretation.\n",
      "  FutureWarning\n"
     ]
    },
    {
     "data": {
      "text/plain": [
       "<AxesSubplot:xlabel='meter', ylabel='count'>"
      ]
     },
     "execution_count": 21,
     "metadata": {},
     "output_type": "execute_result"
    },
    {
     "data": {
      "image/png": "[encoded data removed]",
      "text/plain": [
       "<Figure size 432x288 with 1 Axes>"
      ]
     },
     "metadata": {
      "needs_background": "light"
     },
     "output_type": "display_data"
    }
   ],
   "source": [
    "sn.countplot(df['meter'])"
   ]
  },
  {
   "cell_type": "code",
   "execution_count": 22,
   "metadata": {
    "execution": {
     "iopub.execute_input": "2021-07-30T12:54:50.113088Z",
     "iopub.status.busy": "2021-07-30T12:54:50.112749Z",
     "iopub.status.idle": "2021-07-30T12:54:51.599736Z",
     "shell.execute_reply": "2021-07-30T12:54:51.598762Z",
     "shell.execute_reply.started": "2021-07-30T12:54:50.113052Z"
    },
    "id": "xG1hStFeJap6",
    "outputId": "ec9655ff-5360-4943-9299-5ca0d5b72ba6"
   },
   "outputs": [
    {
     "data": {
      "text/html": [
       "<div>\n",
       "<style scoped>\n",
       "    .dataframe tbody tr th:only-of-type {\n",
       "        vertical-align: middle;\n",
       "    }\n",
       "\n",
       "    .dataframe tbody tr th {\n",
       "        vertical-align: top;\n",
       "    }\n",
       "\n",
       "    .dataframe thead th {\n",
       "        text-align: right;\n",
       "    }\n",
       "</style>\n",
       "<table border=\"1\" class=\"dataframe\">\n",
       "  <thead>\n",
       "    <tr style=\"text-align: right;\">\n",
       "      <th>meter</th>\n",
       "      <th>0</th>\n",
       "      <th>1</th>\n",
       "      <th>2</th>\n",
       "      <th>3</th>\n",
       "    </tr>\n",
       "    <tr>\n",
       "      <th>building_id</th>\n",
       "      <th></th>\n",
       "      <th></th>\n",
       "      <th></th>\n",
       "      <th></th>\n",
       "    </tr>\n",
       "  </thead>\n",
       "  <tbody>\n",
       "    <tr>\n",
       "      <th>0</th>\n",
       "      <td>1.286461e+06</td>\n",
       "      <td>0.0</td>\n",
       "      <td>0.0</td>\n",
       "      <td>0.0</td>\n",
       "    </tr>\n",
       "    <tr>\n",
       "      <th>1</th>\n",
       "      <td>6.576176e+05</td>\n",
       "      <td>0.0</td>\n",
       "      <td>0.0</td>\n",
       "      <td>0.0</td>\n",
       "    </tr>\n",
       "    <tr>\n",
       "      <th>2</th>\n",
       "      <td>1.278194e+05</td>\n",
       "      <td>0.0</td>\n",
       "      <td>0.0</td>\n",
       "      <td>0.0</td>\n",
       "    </tr>\n",
       "    <tr>\n",
       "      <th>3</th>\n",
       "      <td>2.069071e+06</td>\n",
       "      <td>0.0</td>\n",
       "      <td>0.0</td>\n",
       "      <td>0.0</td>\n",
       "    </tr>\n",
       "    <tr>\n",
       "      <th>4</th>\n",
       "      <td>8.578074e+06</td>\n",
       "      <td>0.0</td>\n",
       "      <td>0.0</td>\n",
       "      <td>0.0</td>\n",
       "    </tr>\n",
       "    <tr>\n",
       "      <th>...</th>\n",
       "      <td>...</td>\n",
       "      <td>...</td>\n",
       "      <td>...</td>\n",
       "      <td>...</td>\n",
       "    </tr>\n",
       "    <tr>\n",
       "      <th>1444</th>\n",
       "      <td>5.570443e+04</td>\n",
       "      <td>0.0</td>\n",
       "      <td>0.0</td>\n",
       "      <td>0.0</td>\n",
       "    </tr>\n",
       "    <tr>\n",
       "      <th>1445</th>\n",
       "      <td>3.525474e+04</td>\n",
       "      <td>0.0</td>\n",
       "      <td>0.0</td>\n",
       "      <td>0.0</td>\n",
       "    </tr>\n",
       "    <tr>\n",
       "      <th>1446</th>\n",
       "      <td>2.684063e+04</td>\n",
       "      <td>0.0</td>\n",
       "      <td>0.0</td>\n",
       "      <td>0.0</td>\n",
       "    </tr>\n",
       "    <tr>\n",
       "      <th>1447</th>\n",
       "      <td>1.397959e+06</td>\n",
       "      <td>0.0</td>\n",
       "      <td>0.0</td>\n",
       "      <td>0.0</td>\n",
       "    </tr>\n",
       "    <tr>\n",
       "      <th>1448</th>\n",
       "      <td>2.487921e+04</td>\n",
       "      <td>0.0</td>\n",
       "      <td>0.0</td>\n",
       "      <td>0.0</td>\n",
       "    </tr>\n",
       "  </tbody>\n",
       "</table>\n",
       "<p>1449 rows × 4 columns</p>\n",
       "</div>"
      ],
      "text/plain": [
       "meter                   0    1    2    3\n",
       "building_id                             \n",
       "0            1.286461e+06  0.0  0.0  0.0\n",
       "1            6.576176e+05  0.0  0.0  0.0\n",
       "2            1.278194e+05  0.0  0.0  0.0\n",
       "3            2.069071e+06  0.0  0.0  0.0\n",
       "4            8.578074e+06  0.0  0.0  0.0\n",
       "...                   ...  ...  ...  ...\n",
       "1444         5.570443e+04  0.0  0.0  0.0\n",
       "1445         3.525474e+04  0.0  0.0  0.0\n",
       "1446         2.684063e+04  0.0  0.0  0.0\n",
       "1447         1.397959e+06  0.0  0.0  0.0\n",
       "1448         2.487921e+04  0.0  0.0  0.0\n",
       "\n",
       "[1449 rows x 4 columns]"
      ]
     },
     "execution_count": 22,
     "metadata": {},
     "output_type": "execute_result"
    }
   ],
   "source": [
    "#meter_reading for each building caused by which type of meter\n",
    "pd.crosstab(df['building_id'],df['meter'],values=df['meter_reading'],aggfunc='sum').fillna(value=0)"
   ]
  },
  {
   "cell_type": "code",
   "execution_count": 23,
   "metadata": {
    "execution": {
     "iopub.execute_input": "2021-07-30T12:54:51.601410Z",
     "iopub.status.busy": "2021-07-30T12:54:51.601059Z",
     "iopub.status.idle": "2021-07-30T12:54:52.813924Z",
     "shell.execute_reply": "2021-07-30T12:54:52.812943Z",
     "shell.execute_reply.started": "2021-07-30T12:54:51.601374Z"
    },
    "id": "UenrUlO9Jap6"
   },
   "outputs": [],
   "source": [
    "#taking meter_reading as per day for each meter \n",
    "temp=pd.crosstab(df['timestamp'],df['meter'],values=df['meter_reading'],aggfunc='sum')"
   ]
  },
  {
   "cell_type": "code",
   "execution_count": 24,
   "metadata": {
    "execution": {
     "iopub.execute_input": "2021-07-30T12:54:52.815747Z",
     "iopub.status.busy": "2021-07-30T12:54:52.815361Z",
     "iopub.status.idle": "2021-07-30T12:54:52.821391Z",
     "shell.execute_reply": "2021-07-30T12:54:52.820420Z",
     "shell.execute_reply.started": "2021-07-30T12:54:52.815708Z"
    },
    "id": "q6KweMJ-Jap7"
   },
   "outputs": [],
   "source": [
    "temp.rename(columns={0:'m0',1:'m1',2:'m2',3:'m3'},inplace=True)"
   ]
  },
  {
   "cell_type": "code",
   "execution_count": 25,
   "metadata": {
    "execution": {
     "iopub.execute_input": "2021-07-30T12:54:52.823005Z",
     "iopub.status.busy": "2021-07-30T12:54:52.822672Z",
     "iopub.status.idle": "2021-07-30T12:54:52.842212Z",
     "shell.execute_reply": "2021-07-30T12:54:52.841475Z",
     "shell.execute_reply.started": "2021-07-30T12:54:52.822973Z"
    },
    "id": "GSXWtKh1Jap7",
    "outputId": "d282dcca-547a-4143-e449-fdd0589ab134"
   },
   "outputs": [
    {
     "data": {
      "text/html": [
       "<div>\n",
       "<style scoped>\n",
       "    .dataframe tbody tr th:only-of-type {\n",
       "        vertical-align: middle;\n",
       "    }\n",
       "\n",
       "    .dataframe tbody tr th {\n",
       "        vertical-align: top;\n",
       "    }\n",
       "\n",
       "    .dataframe thead th {\n",
       "        text-align: right;\n",
       "    }\n",
       "</style>\n",
       "<table border=\"1\" class=\"dataframe\">\n",
       "  <thead>\n",
       "    <tr style=\"text-align: right;\">\n",
       "      <th>meter</th>\n",
       "      <th>m0</th>\n",
       "      <th>m1</th>\n",
       "      <th>m2</th>\n",
       "      <th>m3</th>\n",
       "    </tr>\n",
       "    <tr>\n",
       "      <th>timestamp</th>\n",
       "      <th></th>\n",
       "      <th></th>\n",
       "      <th></th>\n",
       "      <th></th>\n",
       "    </tr>\n",
       "  </thead>\n",
       "  <tbody>\n",
       "    <tr>\n",
       "      <th>2016-01-01 00:00:00</th>\n",
       "      <td>146796.9708</td>\n",
       "      <td>52396.5669</td>\n",
       "      <td>3.924435e+06</td>\n",
       "      <td>87655.1681</td>\n",
       "    </tr>\n",
       "    <tr>\n",
       "      <th>2016-01-01 01:00:00</th>\n",
       "      <td>166439.5826</td>\n",
       "      <td>59582.4064</td>\n",
       "      <td>3.964789e+06</td>\n",
       "      <td>60670.8718</td>\n",
       "    </tr>\n",
       "    <tr>\n",
       "      <th>2016-01-01 02:00:00</th>\n",
       "      <td>166652.5184</td>\n",
       "      <td>58646.9936</td>\n",
       "      <td>9.660917e+05</td>\n",
       "      <td>68204.1314</td>\n",
       "    </tr>\n",
       "    <tr>\n",
       "      <th>2016-01-01 03:00:00</th>\n",
       "      <td>166988.5308</td>\n",
       "      <td>55827.6281</td>\n",
       "      <td>7.249452e+05</td>\n",
       "      <td>61265.7329</td>\n",
       "    </tr>\n",
       "    <tr>\n",
       "      <th>2016-01-01 04:00:00</th>\n",
       "      <td>167381.4970</td>\n",
       "      <td>53843.3643</td>\n",
       "      <td>8.847084e+05</td>\n",
       "      <td>64722.2291</td>\n",
       "    </tr>\n",
       "  </tbody>\n",
       "</table>\n",
       "</div>"
      ],
      "text/plain": [
       "meter                         m0          m1            m2          m3\n",
       "timestamp                                                             \n",
       "2016-01-01 00:00:00  146796.9708  52396.5669  3.924435e+06  87655.1681\n",
       "2016-01-01 01:00:00  166439.5826  59582.4064  3.964789e+06  60670.8718\n",
       "2016-01-01 02:00:00  166652.5184  58646.9936  9.660917e+05  68204.1314\n",
       "2016-01-01 03:00:00  166988.5308  55827.6281  7.249452e+05  61265.7329\n",
       "2016-01-01 04:00:00  167381.4970  53843.3643  8.847084e+05  64722.2291"
      ]
     },
     "execution_count": 25,
     "metadata": {},
     "output_type": "execute_result"
    }
   ],
   "source": [
    "temp.head()"
   ]
  },
  {
   "cell_type": "code",
   "execution_count": 26,
   "metadata": {
    "execution": {
     "iopub.execute_input": "2021-07-30T12:54:52.843812Z",
     "iopub.status.busy": "2021-07-30T12:54:52.843429Z",
     "iopub.status.idle": "2021-07-30T12:54:56.480160Z",
     "shell.execute_reply": "2021-07-30T12:54:56.479327Z",
     "shell.execute_reply.started": "2021-07-30T12:54:52.843784Z"
    },
    "id": "eQByu7FKJap7",
    "outputId": "cd33fa4c-5947-4478-8fc3-3f18d23a729b",
    "scrolled": true
   },
   "outputs": [
    {
     "name": "stderr",
     "output_type": "stream",
     "text": [
      "/opt/conda/lib/python3.7/site-packages/seaborn/_decorators.py:43: FutureWarning: Pass the following variables as keyword args: x, y. From version 0.12, the only valid positional argument will be `data`, and passing other arguments without an explicit keyword will result in an error or misinterpretation.\n",
      "  FutureWarning\n",
      "/opt/conda/lib/python3.7/site-packages/seaborn/_decorators.py:43: FutureWarning: Pass the following variables as keyword args: x, y. From version 0.12, the only valid positional argument will be `data`, and passing other arguments without an explicit keyword will result in an error or misinterpretation.\n",
      "  FutureWarning\n",
      "/opt/conda/lib/python3.7/site-packages/seaborn/_decorators.py:43: FutureWarning: Pass the following variables as keyword args: x, y. From version 0.12, the only valid positional argument will be `data`, and passing other arguments without an explicit keyword will result in an error or misinterpretation.\n",
      "  FutureWarning\n",
      "/opt/conda/lib/python3.7/site-packages/seaborn/_decorators.py:43: FutureWarning: Pass the following variables as keyword args: x, y. From version 0.12, the only valid positional argument will be `data`, and passing other arguments without an explicit keyword will result in an error or misinterpretation.\n",
      "  FutureWarning\n"
     ]
    },
    {
     "data": {
      "text/plain": [
       "<matplotlib.legend.Legend at 0x7f91694ce510>"
      ]
     },
     "execution_count": 26,
     "metadata": {},
     "output_type": "execute_result"
    },
    {
     "data": {
      "image/png": "[encoded data removed]",
      "text/plain": [
       "<Figure size 1080x576 with 1 Axes>"
      ]
     },
     "metadata": {
      "needs_background": "light"
     },
     "output_type": "display_data"
    }
   ],
   "source": [
    "plt.figure(figsize=(15,8))\n",
    "sn.lineplot(temp.index,temp.m0,color='r',label='electricity')\n",
    "sn.lineplot(temp.index,temp.m1,color='g',label='chilled_water')\n",
    "sn.lineplot(temp.index,temp.m2,color='b',label='steam')\n",
    "sn.lineplot(temp.index,temp.m3,color='y',label='hotwater')\n",
    "plt.legend(loc=0)"
   ]
  },
  {
   "cell_type": "markdown",
   "metadata": {
    "id": "G7hKguwxJap7"
   },
   "source": [
    "for steam meter_readings are very high when compared with others. From 7Th month to 11th month readings are down. maybe its a summer but hotwater readings are not high"
   ]
  },
  {
   "cell_type": "code",
   "execution_count": 27,
   "metadata": {
    "execution": {
     "iopub.execute_input": "2021-07-30T12:54:56.481907Z",
     "iopub.status.busy": "2021-07-30T12:54:56.481404Z",
     "iopub.status.idle": "2021-07-30T12:54:59.028616Z",
     "shell.execute_reply": "2021-07-30T12:54:59.027519Z",
     "shell.execute_reply.started": "2021-07-30T12:54:56.481867Z"
    },
    "id": "MKYklfNmJap8",
    "outputId": "a0345a9e-3359-4530-8b81-5b316cc4ad7f"
   },
   "outputs": [
    {
     "name": "stderr",
     "output_type": "stream",
     "text": [
      "/opt/conda/lib/python3.7/site-packages/seaborn/_decorators.py:43: FutureWarning: Pass the following variables as keyword args: x, y. From version 0.12, the only valid positional argument will be `data`, and passing other arguments without an explicit keyword will result in an error or misinterpretation.\n",
      "  FutureWarning\n",
      "/opt/conda/lib/python3.7/site-packages/seaborn/_decorators.py:43: FutureWarning: Pass the following variables as keyword args: x, y. From version 0.12, the only valid positional argument will be `data`, and passing other arguments without an explicit keyword will result in an error or misinterpretation.\n",
      "  FutureWarning\n",
      "/opt/conda/lib/python3.7/site-packages/seaborn/_decorators.py:43: FutureWarning: Pass the following variables as keyword args: x, y. From version 0.12, the only valid positional argument will be `data`, and passing other arguments without an explicit keyword will result in an error or misinterpretation.\n",
      "  FutureWarning\n"
     ]
    },
    {
     "data": {
      "text/plain": [
       "<matplotlib.legend.Legend at 0x7f9169391510>"
      ]
     },
     "execution_count": 27,
     "metadata": {},
     "output_type": "execute_result"
    },
    {
     "data": {
      "image/png": "[encoded data removed]",
      "text/plain": [
       "<Figure size 1080x576 with 1 Axes>"
      ]
     },
     "metadata": {
      "needs_background": "light"
     },
     "output_type": "display_data"
    }
   ],
   "source": [
    "# as the steam reading is dominating removing it and checking patterns of other readings\n",
    "plt.figure(figsize=(15,8))\n",
    "sn.lineplot(temp.index,temp.m0,color='r',label='electricity')\n",
    "sn.lineplot(temp.index,temp.m1,color='g',label='chilled_water')\n",
    "sn.lineplot(temp.index,temp.m3,color='y',label='hotwater')\n",
    "plt.legend(loc=0)"
   ]
  },
  {
   "cell_type": "markdown",
   "metadata": {
    "id": "wiXFpmhuJap8"
   },
   "source": [
    "we can see that chilled water reading is high in range of 7th month to 11th month. So, it's may be summer in the country this data has been taken"
   ]
  },
  {
   "cell_type": "markdown",
   "metadata": {
    "id": "ATwMzet8Jap8"
   },
   "source": [
    "weather analysis"
   ]
  },
  {
   "cell_type": "code",
   "execution_count": 28,
   "metadata": {
    "execution": {
     "iopub.execute_input": "2021-07-30T12:54:59.030240Z",
     "iopub.status.busy": "2021-07-30T12:54:59.029891Z",
     "iopub.status.idle": "2021-07-30T12:54:59.050665Z",
     "shell.execute_reply": "2021-07-30T12:54:59.049489Z",
     "shell.execute_reply.started": "2021-07-30T12:54:59.030204Z"
    },
    "id": "3_jTtV9EJap8",
    "outputId": "3d4ccaef-0d62-4dec-da9a-63d87a4065ed"
   },
   "outputs": [
    {
     "data": {
      "text/html": [
       "<div>\n",
       "<style scoped>\n",
       "    .dataframe tbody tr th:only-of-type {\n",
       "        vertical-align: middle;\n",
       "    }\n",
       "\n",
       "    .dataframe tbody tr th {\n",
       "        vertical-align: top;\n",
       "    }\n",
       "\n",
       "    .dataframe thead th {\n",
       "        text-align: right;\n",
       "    }\n",
       "</style>\n",
       "<table border=\"1\" class=\"dataframe\">\n",
       "  <thead>\n",
       "    <tr style=\"text-align: right;\">\n",
       "      <th></th>\n",
       "      <th>site_id</th>\n",
       "      <th>timestamp</th>\n",
       "      <th>air_temperature</th>\n",
       "      <th>cloud_coverage</th>\n",
       "      <th>dew_temperature</th>\n",
       "      <th>precip_depth_1_hr</th>\n",
       "      <th>sea_level_pressure</th>\n",
       "      <th>wind_direction</th>\n",
       "      <th>wind_speed</th>\n",
       "    </tr>\n",
       "  </thead>\n",
       "  <tbody>\n",
       "    <tr>\n",
       "      <th>0</th>\n",
       "      <td>0</td>\n",
       "      <td>2016-01-01 00:00:00</td>\n",
       "      <td>25.0</td>\n",
       "      <td>6.0</td>\n",
       "      <td>20.0</td>\n",
       "      <td>NaN</td>\n",
       "      <td>1019.7</td>\n",
       "      <td>0.0</td>\n",
       "      <td>0.0</td>\n",
       "    </tr>\n",
       "    <tr>\n",
       "      <th>1</th>\n",
       "      <td>0</td>\n",
       "      <td>2016-01-01 01:00:00</td>\n",
       "      <td>24.4</td>\n",
       "      <td>NaN</td>\n",
       "      <td>21.1</td>\n",
       "      <td>-1.0</td>\n",
       "      <td>1020.2</td>\n",
       "      <td>70.0</td>\n",
       "      <td>1.5</td>\n",
       "    </tr>\n",
       "    <tr>\n",
       "      <th>2</th>\n",
       "      <td>0</td>\n",
       "      <td>2016-01-01 02:00:00</td>\n",
       "      <td>22.8</td>\n",
       "      <td>2.0</td>\n",
       "      <td>21.1</td>\n",
       "      <td>0.0</td>\n",
       "      <td>1020.2</td>\n",
       "      <td>0.0</td>\n",
       "      <td>0.0</td>\n",
       "    </tr>\n",
       "    <tr>\n",
       "      <th>3</th>\n",
       "      <td>0</td>\n",
       "      <td>2016-01-01 03:00:00</td>\n",
       "      <td>21.1</td>\n",
       "      <td>2.0</td>\n",
       "      <td>20.6</td>\n",
       "      <td>0.0</td>\n",
       "      <td>1020.1</td>\n",
       "      <td>0.0</td>\n",
       "      <td>0.0</td>\n",
       "    </tr>\n",
       "    <tr>\n",
       "      <th>4</th>\n",
       "      <td>0</td>\n",
       "      <td>2016-01-01 04:00:00</td>\n",
       "      <td>20.0</td>\n",
       "      <td>2.0</td>\n",
       "      <td>20.0</td>\n",
       "      <td>-1.0</td>\n",
       "      <td>1020.0</td>\n",
       "      <td>250.0</td>\n",
       "      <td>2.6</td>\n",
       "    </tr>\n",
       "  </tbody>\n",
       "</table>\n",
       "</div>"
      ],
      "text/plain": [
       "   site_id            timestamp  air_temperature  cloud_coverage  \\\n",
       "0        0  2016-01-01 00:00:00             25.0             6.0   \n",
       "1        0  2016-01-01 01:00:00             24.4             NaN   \n",
       "2        0  2016-01-01 02:00:00             22.8             2.0   \n",
       "3        0  2016-01-01 03:00:00             21.1             2.0   \n",
       "4        0  2016-01-01 04:00:00             20.0             2.0   \n",
       "\n",
       "   dew_temperature  precip_depth_1_hr  sea_level_pressure  wind_direction  \\\n",
       "0             20.0                NaN              1019.7             0.0   \n",
       "1             21.1               -1.0              1020.2            70.0   \n",
       "2             21.1                0.0              1020.2             0.0   \n",
       "3             20.6                0.0              1020.1             0.0   \n",
       "4             20.0               -1.0              1020.0           250.0   \n",
       "\n",
       "   wind_speed  \n",
       "0         0.0  \n",
       "1         1.5  \n",
       "2         0.0  \n",
       "3         0.0  \n",
       "4         2.6  "
      ]
     },
     "execution_count": 28,
     "metadata": {},
     "output_type": "execute_result"
    }
   ],
   "source": [
    "weather.head()"
   ]
  },
  {
   "cell_type": "code",
   "execution_count": 29,
   "metadata": {
    "execution": {
     "iopub.execute_input": "2021-07-30T12:54:59.052992Z",
     "iopub.status.busy": "2021-07-30T12:54:59.052395Z",
     "iopub.status.idle": "2021-07-30T12:54:59.113926Z",
     "shell.execute_reply": "2021-07-30T12:54:59.112916Z",
     "shell.execute_reply.started": "2021-07-30T12:54:59.052951Z"
    },
    "id": "ystEe67aJap9",
    "outputId": "e73ef776-a4af-4aaa-c579-556a817efabf"
   },
   "outputs": [
    {
     "data": {
      "text/html": [
       "<div>\n",
       "<style scoped>\n",
       "    .dataframe tbody tr th:only-of-type {\n",
       "        vertical-align: middle;\n",
       "    }\n",
       "\n",
       "    .dataframe tbody tr th {\n",
       "        vertical-align: top;\n",
       "    }\n",
       "\n",
       "    .dataframe thead th {\n",
       "        text-align: right;\n",
       "    }\n",
       "</style>\n",
       "<table border=\"1\" class=\"dataframe\">\n",
       "  <thead>\n",
       "    <tr style=\"text-align: right;\">\n",
       "      <th></th>\n",
       "      <th>site_id</th>\n",
       "      <th>air_temperature</th>\n",
       "      <th>cloud_coverage</th>\n",
       "      <th>dew_temperature</th>\n",
       "      <th>precip_depth_1_hr</th>\n",
       "      <th>sea_level_pressure</th>\n",
       "      <th>wind_direction</th>\n",
       "      <th>wind_speed</th>\n",
       "    </tr>\n",
       "  </thead>\n",
       "  <tbody>\n",
       "    <tr>\n",
       "      <th>count</th>\n",
       "      <td>139773.000000</td>\n",
       "      <td>139718.000000</td>\n",
       "      <td>70600.000000</td>\n",
       "      <td>139660.000000</td>\n",
       "      <td>89484.000000</td>\n",
       "      <td>129155.000000</td>\n",
       "      <td>133505.000000</td>\n",
       "      <td>139469.000000</td>\n",
       "    </tr>\n",
       "    <tr>\n",
       "      <th>mean</th>\n",
       "      <td>7.478977</td>\n",
       "      <td>14.418106</td>\n",
       "      <td>2.149306</td>\n",
       "      <td>7.350158</td>\n",
       "      <td>0.983047</td>\n",
       "      <td>1016.158038</td>\n",
       "      <td>180.526632</td>\n",
       "      <td>3.560527</td>\n",
       "    </tr>\n",
       "    <tr>\n",
       "      <th>std</th>\n",
       "      <td>4.604744</td>\n",
       "      <td>10.626595</td>\n",
       "      <td>2.599150</td>\n",
       "      <td>9.790235</td>\n",
       "      <td>8.463678</td>\n",
       "      <td>7.629684</td>\n",
       "      <td>111.523629</td>\n",
       "      <td>2.335874</td>\n",
       "    </tr>\n",
       "    <tr>\n",
       "      <th>min</th>\n",
       "      <td>0.000000</td>\n",
       "      <td>-28.900000</td>\n",
       "      <td>0.000000</td>\n",
       "      <td>-35.000000</td>\n",
       "      <td>-1.000000</td>\n",
       "      <td>968.200000</td>\n",
       "      <td>0.000000</td>\n",
       "      <td>0.000000</td>\n",
       "    </tr>\n",
       "    <tr>\n",
       "      <th>25%</th>\n",
       "      <td>3.000000</td>\n",
       "      <td>7.200000</td>\n",
       "      <td>0.000000</td>\n",
       "      <td>0.600000</td>\n",
       "      <td>0.000000</td>\n",
       "      <td>1011.800000</td>\n",
       "      <td>80.000000</td>\n",
       "      <td>2.100000</td>\n",
       "    </tr>\n",
       "    <tr>\n",
       "      <th>50%</th>\n",
       "      <td>7.000000</td>\n",
       "      <td>15.000000</td>\n",
       "      <td>2.000000</td>\n",
       "      <td>8.300000</td>\n",
       "      <td>0.000000</td>\n",
       "      <td>1016.400000</td>\n",
       "      <td>190.000000</td>\n",
       "      <td>3.100000</td>\n",
       "    </tr>\n",
       "    <tr>\n",
       "      <th>75%</th>\n",
       "      <td>11.000000</td>\n",
       "      <td>22.200000</td>\n",
       "      <td>4.000000</td>\n",
       "      <td>14.400000</td>\n",
       "      <td>0.000000</td>\n",
       "      <td>1020.800000</td>\n",
       "      <td>280.000000</td>\n",
       "      <td>5.000000</td>\n",
       "    </tr>\n",
       "    <tr>\n",
       "      <th>max</th>\n",
       "      <td>15.000000</td>\n",
       "      <td>47.200000</td>\n",
       "      <td>9.000000</td>\n",
       "      <td>26.100000</td>\n",
       "      <td>343.000000</td>\n",
       "      <td>1045.500000</td>\n",
       "      <td>360.000000</td>\n",
       "      <td>19.000000</td>\n",
       "    </tr>\n",
       "  </tbody>\n",
       "</table>\n",
       "</div>"
      ],
      "text/plain": [
       "             site_id  air_temperature  cloud_coverage  dew_temperature  \\\n",
       "count  139773.000000    139718.000000    70600.000000    139660.000000   \n",
       "mean        7.478977        14.418106        2.149306         7.350158   \n",
       "std         4.604744        10.626595        2.599150         9.790235   \n",
       "min         0.000000       -28.900000        0.000000       -35.000000   \n",
       "25%         3.000000         7.200000        0.000000         0.600000   \n",
       "50%         7.000000        15.000000        2.000000         8.300000   \n",
       "75%        11.000000        22.200000        4.000000        14.400000   \n",
       "max        15.000000        47.200000        9.000000        26.100000   \n",
       "\n",
       "       precip_depth_1_hr  sea_level_pressure  wind_direction     wind_speed  \n",
       "count       89484.000000       129155.000000   133505.000000  139469.000000  \n",
       "mean            0.983047         1016.158038      180.526632       3.560527  \n",
       "std             8.463678            7.629684      111.523629       2.335874  \n",
       "min            -1.000000          968.200000        0.000000       0.000000  \n",
       "25%             0.000000         1011.800000       80.000000       2.100000  \n",
       "50%             0.000000         1016.400000      190.000000       3.100000  \n",
       "75%             0.000000         1020.800000      280.000000       5.000000  \n",
       "max           343.000000         1045.500000      360.000000      19.000000  "
      ]
     },
     "execution_count": 29,
     "metadata": {},
     "output_type": "execute_result"
    }
   ],
   "source": [
    "weather.describe()"
   ]
  },
  {
   "cell_type": "code",
   "execution_count": 30,
   "metadata": {
    "execution": {
     "iopub.execute_input": "2021-07-30T12:54:59.119023Z",
     "iopub.status.busy": "2021-07-30T12:54:59.118760Z",
     "iopub.status.idle": "2021-07-30T12:54:59.123885Z",
     "shell.execute_reply": "2021-07-30T12:54:59.122638Z",
     "shell.execute_reply.started": "2021-07-30T12:54:59.118996Z"
    },
    "id": "Gngyj-FmJap9"
   },
   "outputs": [],
   "source": [
    "#less than 5% of wind_speed data is missing so we can simply fill by global mean\n",
    "weather['wind_speed'].fillna(value=3.560527,inplace=True)\n",
    "feature_changes['fill_null/weather/wind_speed']=3.560527"
   ]
  },
  {
   "cell_type": "code",
   "execution_count": 31,
   "metadata": {
    "execution": {
     "iopub.execute_input": "2021-07-30T12:54:59.127555Z",
     "iopub.status.busy": "2021-07-30T12:54:59.127143Z",
     "iopub.status.idle": "2021-07-30T12:54:59.269003Z",
     "shell.execute_reply": "2021-07-30T12:54:59.268012Z",
     "shell.execute_reply.started": "2021-07-30T12:54:59.127463Z"
    },
    "id": "7w6m01z8Jap9",
    "outputId": "473f0a1d-fa7a-469f-83de-23641dd78364",
    "scrolled": true
   },
   "outputs": [
    {
     "name": "stderr",
     "output_type": "stream",
     "text": [
      "/opt/conda/lib/python3.7/site-packages/seaborn/_decorators.py:43: FutureWarning: Pass the following variable as a keyword arg: x. From version 0.12, the only valid positional argument will be `data`, and passing other arguments without an explicit keyword will result in an error or misinterpretation.\n",
      "  FutureWarning\n"
     ]
    },
    {
     "data": {
      "text/plain": [
       "<AxesSubplot:xlabel='air_temperature'>"
      ]
     },
     "execution_count": 31,
     "metadata": {},
     "output_type": "execute_result"
    },
    {
     "data": {
      "image/png": "[encoded data removed]",
      "text/plain": [
       "<Figure size 432x288 with 1 Axes>"
      ]
     },
     "metadata": {
      "needs_background": "light"
     },
     "output_type": "display_data"
    }
   ],
   "source": [
    "sn.boxenplot(weather['air_temperature'])"
   ]
  },
  {
   "cell_type": "code",
   "execution_count": 32,
   "metadata": {
    "execution": {
     "iopub.execute_input": "2021-07-30T12:54:59.270700Z",
     "iopub.status.busy": "2021-07-30T12:54:59.270347Z",
     "iopub.status.idle": "2021-07-30T12:54:59.394617Z",
     "shell.execute_reply": "2021-07-30T12:54:59.393665Z",
     "shell.execute_reply.started": "2021-07-30T12:54:59.270664Z"
    },
    "id": "0mQ5rrCMJap9",
    "outputId": "1c5a1f71-fdee-4d86-fdfc-75eaca4f7d92"
   },
   "outputs": [
    {
     "name": "stderr",
     "output_type": "stream",
     "text": [
      "/opt/conda/lib/python3.7/site-packages/seaborn/_decorators.py:43: FutureWarning: Pass the following variable as a keyword arg: x. From version 0.12, the only valid positional argument will be `data`, and passing other arguments without an explicit keyword will result in an error or misinterpretation.\n",
      "  FutureWarning\n"
     ]
    },
    {
     "data": {
      "text/plain": [
       "<AxesSubplot:xlabel='dew_temperature'>"
      ]
     },
     "execution_count": 32,
     "metadata": {},
     "output_type": "execute_result"
    },
    {
     "data": {
      "image/png": "[encoded data removed]",
      "text/plain": [
       "<Figure size 432x288 with 1 Axes>"
      ]
     },
     "metadata": {
      "needs_background": "light"
     },
     "output_type": "display_data"
    }
   ],
   "source": [
    "sn.boxenplot(weather['dew_temperature'])"
   ]
  },
  {
   "cell_type": "code",
   "execution_count": 33,
   "metadata": {
    "execution": {
     "iopub.execute_input": "2021-07-30T12:54:59.396386Z",
     "iopub.status.busy": "2021-07-30T12:54:59.396040Z",
     "iopub.status.idle": "2021-07-30T12:54:59.402342Z",
     "shell.execute_reply": "2021-07-30T12:54:59.401338Z",
     "shell.execute_reply.started": "2021-07-30T12:54:59.396349Z"
    },
    "id": "Y77rVZbiJap9"
   },
   "outputs": [],
   "source": [
    "weather['dew_temperature'].fillna(value=7.350158,inplace=True)\n",
    "feature_changes['fill_null/weather/dew_temperature']=7.350158"
   ]
  },
  {
   "cell_type": "code",
   "execution_count": 34,
   "metadata": {
    "execution": {
     "iopub.execute_input": "2021-07-30T12:54:59.404163Z",
     "iopub.status.busy": "2021-07-30T12:54:59.403772Z",
     "iopub.status.idle": "2021-07-30T12:54:59.410999Z",
     "shell.execute_reply": "2021-07-30T12:54:59.410195Z",
     "shell.execute_reply.started": "2021-07-30T12:54:59.404129Z"
    },
    "id": "8SYDDn_YJap-"
   },
   "outputs": [],
   "source": [
    "#air temprature null values are less than 1% we can simply replace by mean because it doesn't change distribution\n",
    "weather['air_temperature'].fillna(value=14.418106,inplace=True)"
   ]
  },
  {
   "cell_type": "code",
   "execution_count": 35,
   "metadata": {
    "execution": {
     "iopub.execute_input": "2021-07-30T12:54:59.412565Z",
     "iopub.status.busy": "2021-07-30T12:54:59.412194Z",
     "iopub.status.idle": "2021-07-30T12:54:59.417775Z",
     "shell.execute_reply": "2021-07-30T12:54:59.416836Z",
     "shell.execute_reply.started": "2021-07-30T12:54:59.412530Z"
    },
    "id": "QJc9cuxzJap-"
   },
   "outputs": [],
   "source": [
    "feature_changes['fill_null/weather/air_temperature']=14.418106"
   ]
  },
  {
   "cell_type": "code",
   "execution_count": 36,
   "metadata": {
    "execution": {
     "iopub.execute_input": "2021-07-30T12:54:59.419474Z",
     "iopub.status.busy": "2021-07-30T12:54:59.419037Z",
     "iopub.status.idle": "2021-07-30T12:54:59.855008Z",
     "shell.execute_reply": "2021-07-30T12:54:59.854203Z",
     "shell.execute_reply.started": "2021-07-30T12:54:59.419441Z"
    },
    "id": "0VTMB5eVJap-",
    "outputId": "5b4089c7-f019-48bc-de9d-68b5879f8092"
   },
   "outputs": [
    {
     "data": {
      "text/plain": [
       "<seaborn.axisgrid.FacetGrid at 0x7f91691a4ed0>"
      ]
     },
     "execution_count": 36,
     "metadata": {},
     "output_type": "execute_result"
    },
    {
     "data": {
      "image/png": "[encoded data removed]",
      "text/plain": [
       "<Figure size 360x360 with 1 Axes>"
      ]
     },
     "metadata": {
      "needs_background": "light"
     },
     "output_type": "display_data"
    }
   ],
   "source": [
    "sn.displot(weather['cloud_coverage'])"
   ]
  },
  {
   "cell_type": "code",
   "execution_count": 37,
   "metadata": {
    "execution": {
     "iopub.execute_input": "2021-07-30T12:54:59.856610Z",
     "iopub.status.busy": "2021-07-30T12:54:59.856252Z",
     "iopub.status.idle": "2021-07-30T12:54:59.874448Z",
     "shell.execute_reply": "2021-07-30T12:54:59.873545Z",
     "shell.execute_reply.started": "2021-07-30T12:54:59.856556Z"
    }
   },
   "outputs": [
    {
     "data": {
      "text/html": [
       "<div>\n",
       "<style scoped>\n",
       "    .dataframe tbody tr th:only-of-type {\n",
       "        vertical-align: middle;\n",
       "    }\n",
       "\n",
       "    .dataframe tbody tr th {\n",
       "        vertical-align: top;\n",
       "    }\n",
       "\n",
       "    .dataframe thead th {\n",
       "        text-align: right;\n",
       "    }\n",
       "</style>\n",
       "<table border=\"1\" class=\"dataframe\">\n",
       "  <thead>\n",
       "    <tr style=\"text-align: right;\">\n",
       "      <th></th>\n",
       "      <th>site_id</th>\n",
       "      <th>timestamp</th>\n",
       "      <th>air_temperature</th>\n",
       "      <th>cloud_coverage</th>\n",
       "      <th>dew_temperature</th>\n",
       "      <th>precip_depth_1_hr</th>\n",
       "      <th>sea_level_pressure</th>\n",
       "      <th>wind_direction</th>\n",
       "      <th>wind_speed</th>\n",
       "    </tr>\n",
       "  </thead>\n",
       "  <tbody>\n",
       "    <tr>\n",
       "      <th>0</th>\n",
       "      <td>0</td>\n",
       "      <td>2016-01-01 00:00:00</td>\n",
       "      <td>25.0</td>\n",
       "      <td>6.0</td>\n",
       "      <td>20.0</td>\n",
       "      <td>NaN</td>\n",
       "      <td>1019.7</td>\n",
       "      <td>0.0</td>\n",
       "      <td>0.0</td>\n",
       "    </tr>\n",
       "    <tr>\n",
       "      <th>1</th>\n",
       "      <td>0</td>\n",
       "      <td>2016-01-01 01:00:00</td>\n",
       "      <td>24.4</td>\n",
       "      <td>NaN</td>\n",
       "      <td>21.1</td>\n",
       "      <td>-1.0</td>\n",
       "      <td>1020.2</td>\n",
       "      <td>70.0</td>\n",
       "      <td>1.5</td>\n",
       "    </tr>\n",
       "    <tr>\n",
       "      <th>2</th>\n",
       "      <td>0</td>\n",
       "      <td>2016-01-01 02:00:00</td>\n",
       "      <td>22.8</td>\n",
       "      <td>2.0</td>\n",
       "      <td>21.1</td>\n",
       "      <td>0.0</td>\n",
       "      <td>1020.2</td>\n",
       "      <td>0.0</td>\n",
       "      <td>0.0</td>\n",
       "    </tr>\n",
       "    <tr>\n",
       "      <th>3</th>\n",
       "      <td>0</td>\n",
       "      <td>2016-01-01 03:00:00</td>\n",
       "      <td>21.1</td>\n",
       "      <td>2.0</td>\n",
       "      <td>20.6</td>\n",
       "      <td>0.0</td>\n",
       "      <td>1020.1</td>\n",
       "      <td>0.0</td>\n",
       "      <td>0.0</td>\n",
       "    </tr>\n",
       "    <tr>\n",
       "      <th>4</th>\n",
       "      <td>0</td>\n",
       "      <td>2016-01-01 04:00:00</td>\n",
       "      <td>20.0</td>\n",
       "      <td>2.0</td>\n",
       "      <td>20.0</td>\n",
       "      <td>-1.0</td>\n",
       "      <td>1020.0</td>\n",
       "      <td>250.0</td>\n",
       "      <td>2.6</td>\n",
       "    </tr>\n",
       "  </tbody>\n",
       "</table>\n",
       "</div>"
      ],
      "text/plain": [
       "   site_id            timestamp  air_temperature  cloud_coverage  \\\n",
       "0        0  2016-01-01 00:00:00             25.0             6.0   \n",
       "1        0  2016-01-01 01:00:00             24.4             NaN   \n",
       "2        0  2016-01-01 02:00:00             22.8             2.0   \n",
       "3        0  2016-01-01 03:00:00             21.1             2.0   \n",
       "4        0  2016-01-01 04:00:00             20.0             2.0   \n",
       "\n",
       "   dew_temperature  precip_depth_1_hr  sea_level_pressure  wind_direction  \\\n",
       "0             20.0                NaN              1019.7             0.0   \n",
       "1             21.1               -1.0              1020.2            70.0   \n",
       "2             21.1                0.0              1020.2             0.0   \n",
       "3             20.6                0.0              1020.1             0.0   \n",
       "4             20.0               -1.0              1020.0           250.0   \n",
       "\n",
       "   wind_speed  \n",
       "0         0.0  \n",
       "1         1.5  \n",
       "2         0.0  \n",
       "3         0.0  \n",
       "4         2.6  "
      ]
     },
     "execution_count": 37,
     "metadata": {},
     "output_type": "execute_result"
    }
   ],
   "source": [
    "weather.head()"
   ]
  },
  {
   "cell_type": "code",
   "execution_count": 38,
   "metadata": {
    "execution": {
     "iopub.execute_input": "2021-07-30T12:54:59.876211Z",
     "iopub.status.busy": "2021-07-30T12:54:59.875867Z",
     "iopub.status.idle": "2021-07-30T12:54:59.919337Z",
     "shell.execute_reply": "2021-07-30T12:54:59.918638Z",
     "shell.execute_reply.started": "2021-07-30T12:54:59.876173Z"
    }
   },
   "outputs": [],
   "source": [
    "weather['timestamp']=pd.to_datetime(weather['timestamp'])"
   ]
  },
  {
   "cell_type": "code",
   "execution_count": 39,
   "metadata": {
    "execution": {
     "iopub.execute_input": "2021-07-30T12:54:59.920918Z",
     "iopub.status.busy": "2021-07-30T12:54:59.920552Z",
     "iopub.status.idle": "2021-07-30T12:54:59.935244Z",
     "shell.execute_reply": "2021-07-30T12:54:59.934492Z",
     "shell.execute_reply.started": "2021-07-30T12:54:59.920884Z"
    }
   },
   "outputs": [],
   "source": [
    "cloud_fill=weather.groupby('site_id')['cloud_coverage'].mean().to_dict()\n",
    "precip_fill=weather.groupby('site_id')['precip_depth_1_hr'].mean().to_dict()"
   ]
  },
  {
   "cell_type": "code",
   "execution_count": 40,
   "metadata": {
    "execution": {
     "iopub.execute_input": "2021-07-30T12:54:59.937063Z",
     "iopub.status.busy": "2021-07-30T12:54:59.936687Z",
     "iopub.status.idle": "2021-07-30T12:54:59.946268Z",
     "shell.execute_reply": "2021-07-30T12:54:59.945484Z",
     "shell.execute_reply.started": "2021-07-30T12:54:59.937009Z"
    }
   },
   "outputs": [
    {
     "data": {
      "text/plain": [
       "{0: 3.0446104158255953,\n",
       " 1: 0.08465608465608465,\n",
       " 2: 1.9584694353709753,\n",
       " 3: 3.8791358505254965,\n",
       " 4: 1.867999121458379,\n",
       " 5: 0.2906422018348624,\n",
       " 6: 0.6476683937823834,\n",
       " 7: nan,\n",
       " 8: 3.0446104158255953,\n",
       " 9: 0.6106726794438181,\n",
       " 10: 0.37650031585596966,\n",
       " 11: nan,\n",
       " 12: 5.723091076356946,\n",
       " 13: 2.873132664437012,\n",
       " 14: 0.5622027076472741,\n",
       " 15: 1.1099876695437731}"
      ]
     },
     "execution_count": 40,
     "metadata": {},
     "output_type": "execute_result"
    }
   ],
   "source": [
    "cloud_fill"
   ]
  },
  {
   "cell_type": "code",
   "execution_count": 41,
   "metadata": {
    "execution": {
     "iopub.execute_input": "2021-07-30T12:54:59.947739Z",
     "iopub.status.busy": "2021-07-30T12:54:59.947372Z",
     "iopub.status.idle": "2021-07-30T12:54:59.955337Z",
     "shell.execute_reply": "2021-07-30T12:54:59.954596Z",
     "shell.execute_reply.started": "2021-07-30T12:54:59.947692Z"
    }
   },
   "outputs": [],
   "source": [
    "feature_changes['fill_null/weather/cloud_coverage']=cloud_fill\n",
    "feature_changes['fill_null/weather/precip_depth_1_hr']=precip_fill\n",
    "feature_changes['fill_null/weather/cloud_coverage_cloud_fill_nan']=weather['cloud_coverage'].mean()\n",
    "feature_changes['fill_null/weather/precip_depth_1_hr_precip_fill_nan']=weather['precip_depth_1_hr'].mean()"
   ]
  },
  {
   "cell_type": "code",
   "execution_count": 42,
   "metadata": {
    "execution": {
     "iopub.execute_input": "2021-07-30T12:54:59.958443Z",
     "iopub.status.busy": "2021-07-30T12:54:59.958175Z",
     "iopub.status.idle": "2021-07-30T12:54:59.965913Z",
     "shell.execute_reply": "2021-07-30T12:54:59.965141Z",
     "shell.execute_reply.started": "2021-07-30T12:54:59.958417Z"
    }
   },
   "outputs": [],
   "source": [
    "def fill_cloud(site):\n",
    "    if str(feature_changes['fill_null/weather/cloud_coverage'][site])=='nan':\n",
    "        return feature_changes['fill_null/weather/cloud_coverage_cloud_fill_nan']\n",
    "    else:\n",
    "        return feature_changes['fill_null/weather/cloud_coverage'][site]\n",
    "def fill_precip(site):\n",
    "    if str(feature_changes['fill_null/weather/precip_depth_1_hr'][site])=='nan':\n",
    "        return feature_changes['fill_null/weather/precip_depth_1_hr_precip_fill_nan']\n",
    "    else:\n",
    "        return feature_changes['fill_null/weather/precip_depth_1_hr'][site]"
   ]
  },
  {
   "cell_type": "code",
   "execution_count": 43,
   "metadata": {
    "execution": {
     "iopub.execute_input": "2021-07-30T12:54:59.969060Z",
     "iopub.status.busy": "2021-07-30T12:54:59.968475Z",
     "iopub.status.idle": "2021-07-30T12:55:00.112758Z",
     "shell.execute_reply": "2021-07-30T12:55:00.111900Z",
     "shell.execute_reply.started": "2021-07-30T12:54:59.969024Z"
    }
   },
   "outputs": [],
   "source": [
    "weather.loc[weather['cloud_coverage'].isnull()==True,'cloud_coverage']=weather.loc[weather['cloud_coverage'].isnull()==True,'site_id'].apply(fill_cloud)\n",
    "weather.loc[weather['precip_depth_1_hr'].isnull()==True,'precip_depth_1_hr']=weather.loc[weather['precip_depth_1_hr'].isnull()==True,'site_id'].apply(fill_precip)"
   ]
  },
  {
   "cell_type": "code",
   "execution_count": 44,
   "metadata": {
    "execution": {
     "iopub.execute_input": "2021-07-30T12:55:00.114323Z",
     "iopub.status.busy": "2021-07-30T12:55:00.113962Z",
     "iopub.status.idle": "2021-07-30T12:55:00.118789Z",
     "shell.execute_reply": "2021-07-30T12:55:00.117988Z",
     "shell.execute_reply.started": "2021-07-30T12:55:00.114279Z"
    },
    "id": "6ukzAAuTJap-"
   },
   "outputs": [],
   "source": [
    "#replacing null values by least value beacuse its % is 7\n",
    "weather['sea_level_pressure'].fillna(value=968.2,inplace=True)"
   ]
  },
  {
   "cell_type": "code",
   "execution_count": 45,
   "metadata": {
    "execution": {
     "iopub.execute_input": "2021-07-30T12:55:00.120405Z",
     "iopub.status.busy": "2021-07-30T12:55:00.119926Z",
     "iopub.status.idle": "2021-07-30T12:55:00.128181Z",
     "shell.execute_reply": "2021-07-30T12:55:00.127386Z",
     "shell.execute_reply.started": "2021-07-30T12:55:00.120367Z"
    },
    "id": "9C5kQtJUJap_"
   },
   "outputs": [],
   "source": [
    "feature_changes['fill_null/weather/sea_level_pressure']=968.2"
   ]
  },
  {
   "cell_type": "code",
   "execution_count": 46,
   "metadata": {
    "execution": {
     "iopub.execute_input": "2021-07-30T12:55:00.129966Z",
     "iopub.status.busy": "2021-07-30T12:55:00.129434Z",
     "iopub.status.idle": "2021-07-30T12:55:00.236780Z",
     "shell.execute_reply": "2021-07-30T12:55:00.235680Z",
     "shell.execute_reply.started": "2021-07-30T12:55:00.129927Z"
    },
    "id": "DbvNsbmPJap_",
    "outputId": "75f5da92-4800-4160-c2eb-39fa3da726f7"
   },
   "outputs": [
    {
     "data": {
      "text/plain": [
       "array([  0.,  70., 250., 210., 290., 230., 200., 180., 220., 270., 300.,\n",
       "       360.,  20.,  30.,  10., 350.,  60., 340., 330., 110., 320., 310.,\n",
       "        50.,  40.,  nan,  80.,  90., 100., 120., 160., 130., 140., 190.,\n",
       "       170., 240., 280., 150., 260., 174., 176.,  84., 198., 196., 202.])"
      ]
     },
     "execution_count": 46,
     "metadata": {},
     "output_type": "execute_result"
    }
   ],
   "source": [
    "#it may be degree wrt to north\n",
    "weather['wind_direction'].unique()"
   ]
  },
  {
   "cell_type": "code",
   "execution_count": 47,
   "metadata": {
    "execution": {
     "iopub.execute_input": "2021-07-30T12:55:00.238950Z",
     "iopub.status.busy": "2021-07-30T12:55:00.238361Z",
     "iopub.status.idle": "2021-07-30T12:55:02.415023Z",
     "shell.execute_reply": "2021-07-30T12:55:02.412773Z",
     "shell.execute_reply.started": "2021-07-30T12:55:00.238911Z"
    },
    "id": "7-iMtrvPJap_",
    "outputId": "f47587bd-d94d-40de-d0cf-201f3fd6ab6f"
   },
   "outputs": [
    {
     "data": {
      "image/png": "[encoded data removed]",
      "text/plain": [
       "<Figure size 432x288 with 1 Axes>"
      ]
     },
     "metadata": {
      "needs_background": "light"
     },
     "output_type": "display_data"
    }
   ],
   "source": [
    "#https://stackoverflow.com/questions/32793953/seaborn-how-to-plot-wind-speed-v-direction-on-circular-plot\n",
    "ax = plt.subplot(111, polar=True)\n",
    "ax.scatter(x=[np.radians(x) for x in weather['wind_direction'].values], y=weather['wind_speed'].values)\n",
    "ax.set_theta_zero_location('N')\n",
    "ax.set_theta_direction(-1)"
   ]
  },
  {
   "cell_type": "code",
   "execution_count": 48,
   "metadata": {
    "execution": {
     "iopub.execute_input": "2021-07-30T12:55:02.416673Z",
     "iopub.status.busy": "2021-07-30T12:55:02.416294Z",
     "iopub.status.idle": "2021-07-30T12:55:02.422043Z",
     "shell.execute_reply": "2021-07-30T12:55:02.421042Z",
     "shell.execute_reply.started": "2021-07-30T12:55:02.416635Z"
    },
    "id": "SZxu-aoCJap_"
   },
   "outputs": [],
   "source": [
    "weather['wind_direction'].fillna(value=245,inplace=True)"
   ]
  },
  {
   "cell_type": "code",
   "execution_count": 49,
   "metadata": {
    "execution": {
     "iopub.execute_input": "2021-07-30T12:55:02.423927Z",
     "iopub.status.busy": "2021-07-30T12:55:02.423510Z",
     "iopub.status.idle": "2021-07-30T12:55:02.431958Z",
     "shell.execute_reply": "2021-07-30T12:55:02.431150Z",
     "shell.execute_reply.started": "2021-07-30T12:55:02.423891Z"
    },
    "id": "ESUX-xFiJap_"
   },
   "outputs": [],
   "source": [
    "feature_changes['fill_null/weather/wind_direction']=245"
   ]
  },
  {
   "cell_type": "markdown",
   "metadata": {
    "id": "sv6DrGcUJaqA"
   },
   "source": [
    "building anlysis"
   ]
  },
  {
   "cell_type": "code",
   "execution_count": 50,
   "metadata": {
    "execution": {
     "iopub.execute_input": "2021-07-30T12:55:02.435077Z",
     "iopub.status.busy": "2021-07-30T12:55:02.434817Z",
     "iopub.status.idle": "2021-07-30T12:55:02.452443Z",
     "shell.execute_reply": "2021-07-30T12:55:02.451484Z",
     "shell.execute_reply.started": "2021-07-30T12:55:02.435053Z"
    },
    "id": "l808gXA9JaqA",
    "outputId": "d8d4c013-353d-4e25-8ab8-2d691a42e7c7"
   },
   "outputs": [
    {
     "data": {
      "text/html": [
       "<div>\n",
       "<style scoped>\n",
       "    .dataframe tbody tr th:only-of-type {\n",
       "        vertical-align: middle;\n",
       "    }\n",
       "\n",
       "    .dataframe tbody tr th {\n",
       "        vertical-align: top;\n",
       "    }\n",
       "\n",
       "    .dataframe thead th {\n",
       "        text-align: right;\n",
       "    }\n",
       "</style>\n",
       "<table border=\"1\" class=\"dataframe\">\n",
       "  <thead>\n",
       "    <tr style=\"text-align: right;\">\n",
       "      <th></th>\n",
       "      <th>site_id</th>\n",
       "      <th>building_id</th>\n",
       "      <th>primary_use</th>\n",
       "      <th>square_feet</th>\n",
       "      <th>year_built</th>\n",
       "      <th>floor_count</th>\n",
       "    </tr>\n",
       "  </thead>\n",
       "  <tbody>\n",
       "    <tr>\n",
       "      <th>0</th>\n",
       "      <td>0</td>\n",
       "      <td>0</td>\n",
       "      <td>Education</td>\n",
       "      <td>7432</td>\n",
       "      <td>2008.0</td>\n",
       "      <td>NaN</td>\n",
       "    </tr>\n",
       "    <tr>\n",
       "      <th>1</th>\n",
       "      <td>0</td>\n",
       "      <td>1</td>\n",
       "      <td>Education</td>\n",
       "      <td>2720</td>\n",
       "      <td>2004.0</td>\n",
       "      <td>NaN</td>\n",
       "    </tr>\n",
       "    <tr>\n",
       "      <th>2</th>\n",
       "      <td>0</td>\n",
       "      <td>2</td>\n",
       "      <td>Education</td>\n",
       "      <td>5376</td>\n",
       "      <td>1991.0</td>\n",
       "      <td>NaN</td>\n",
       "    </tr>\n",
       "    <tr>\n",
       "      <th>3</th>\n",
       "      <td>0</td>\n",
       "      <td>3</td>\n",
       "      <td>Education</td>\n",
       "      <td>23685</td>\n",
       "      <td>2002.0</td>\n",
       "      <td>NaN</td>\n",
       "    </tr>\n",
       "    <tr>\n",
       "      <th>4</th>\n",
       "      <td>0</td>\n",
       "      <td>4</td>\n",
       "      <td>Education</td>\n",
       "      <td>116607</td>\n",
       "      <td>1975.0</td>\n",
       "      <td>NaN</td>\n",
       "    </tr>\n",
       "  </tbody>\n",
       "</table>\n",
       "</div>"
      ],
      "text/plain": [
       "   site_id  building_id primary_use  square_feet  year_built  floor_count\n",
       "0        0            0   Education         7432      2008.0          NaN\n",
       "1        0            1   Education         2720      2004.0          NaN\n",
       "2        0            2   Education         5376      1991.0          NaN\n",
       "3        0            3   Education        23685      2002.0          NaN\n",
       "4        0            4   Education       116607      1975.0          NaN"
      ]
     },
     "execution_count": 50,
     "metadata": {},
     "output_type": "execute_result"
    }
   ],
   "source": [
    "build.head()"
   ]
  },
  {
   "cell_type": "code",
   "execution_count": 51,
   "metadata": {
    "execution": {
     "iopub.execute_input": "2021-07-30T12:55:02.454348Z",
     "iopub.status.busy": "2021-07-30T12:55:02.454104Z",
     "iopub.status.idle": "2021-07-30T12:55:02.709775Z",
     "shell.execute_reply": "2021-07-30T12:55:02.708809Z",
     "shell.execute_reply.started": "2021-07-30T12:55:02.454325Z"
    },
    "id": "6ZXOlzcrJaqA",
    "outputId": "7b348586-e504-4725-80dd-b619220ff649"
   },
   "outputs": [
    {
     "name": "stderr",
     "output_type": "stream",
     "text": [
      "/opt/conda/lib/python3.7/site-packages/seaborn/_decorators.py:43: FutureWarning: Pass the following variable as a keyword arg: x. From version 0.12, the only valid positional argument will be `data`, and passing other arguments without an explicit keyword will result in an error or misinterpretation.\n",
      "  FutureWarning\n"
     ]
    },
    {
     "data": {
      "image/png": "[encoded data removed]",
      "text/plain": [
       "<Figure size 1440x576 with 1 Axes>"
      ]
     },
     "metadata": {
      "needs_background": "light"
     },
     "output_type": "display_data"
    }
   ],
   "source": [
    "#let's see for what type of buildings the data is collected\n",
    "plt.figure(figsize=(20,8))\n",
    "sn.countplot(build['primary_use'])\n",
    "plt.xticks(rotation=90)\n",
    "plt.show()"
   ]
  },
  {
   "cell_type": "code",
   "execution_count": 52,
   "metadata": {
    "execution": {
     "iopub.execute_input": "2021-07-30T12:55:02.711680Z",
     "iopub.status.busy": "2021-07-30T12:55:02.711238Z",
     "iopub.status.idle": "2021-07-30T12:55:03.106193Z",
     "shell.execute_reply": "2021-07-30T12:55:03.105108Z",
     "shell.execute_reply.started": "2021-07-30T12:55:02.711639Z"
    },
    "id": "E5GLqJcsJaqA",
    "outputId": "81a18562-2fda-4ec1-ec1d-509e7fa3b6d2"
   },
   "outputs": [
    {
     "data": {
      "text/plain": [
       "<seaborn.axisgrid.FacetGrid at 0x7f9168ec0290>"
      ]
     },
     "execution_count": 52,
     "metadata": {},
     "output_type": "execute_result"
    },
    {
     "data": {
      "text/plain": [
       "<Figure size 1440x504 with 0 Axes>"
      ]
     },
     "metadata": {},
     "output_type": "display_data"
    },
    {
     "data": {
      "image/png": "[encoded data removed]",
      "text/plain": [
       "<Figure size 360x360 with 1 Axes>"
      ]
     },
     "metadata": {
      "needs_background": "light"
     },
     "output_type": "display_data"
    }
   ],
   "source": [
    "#distribution of size of area of the buildings covering\n",
    "plt.figure(figsize=(20,7))\n",
    "sn.displot(build['square_feet'])"
   ]
  },
  {
   "cell_type": "code",
   "execution_count": 53,
   "metadata": {
    "execution": {
     "iopub.execute_input": "2021-07-30T12:55:03.108026Z",
     "iopub.status.busy": "2021-07-30T12:55:03.107647Z",
     "iopub.status.idle": "2021-07-30T12:55:03.955077Z",
     "shell.execute_reply": "2021-07-30T12:55:03.954119Z",
     "shell.execute_reply.started": "2021-07-30T12:55:03.107989Z"
    },
    "id": "MCDl_OasJaqA",
    "outputId": "a96bf06f-1c55-49b0-da3f-95b7fcc47c48"
   },
   "outputs": [
    {
     "name": "stderr",
     "output_type": "stream",
     "text": [
      "/opt/conda/lib/python3.7/site-packages/seaborn/_decorators.py:43: FutureWarning: Pass the following variables as keyword args: x, y. From version 0.12, the only valid positional argument will be `data`, and passing other arguments without an explicit keyword will result in an error or misinterpretation.\n",
      "  FutureWarning\n"
     ]
    },
    {
     "data": {
      "image/png": "[encoded data removed]",
      "text/plain": [
       "<Figure size 1440x720 with 1 Axes>"
      ]
     },
     "metadata": {
      "needs_background": "light"
     },
     "output_type": "display_data"
    }
   ],
   "source": [
    "#just to check whether we are having what we expect to have\n",
    "plt.figure(figsize=(20,10))\n",
    "sn.barplot(build['primary_use'],build['square_feet'])\n",
    "plt.xticks(rotation=90)\n",
    "plt.show()"
   ]
  },
  {
   "cell_type": "code",
   "execution_count": 54,
   "metadata": {
    "execution": {
     "iopub.execute_input": "2021-07-30T12:55:03.956758Z",
     "iopub.status.busy": "2021-07-30T12:55:03.956414Z",
     "iopub.status.idle": "2021-07-30T12:55:04.284676Z",
     "shell.execute_reply": "2021-07-30T12:55:04.283862Z",
     "shell.execute_reply.started": "2021-07-30T12:55:03.956716Z"
    },
    "id": "K1rIXns6JaqB",
    "outputId": "676cf510-cb73-4ddc-f5ae-d9cea2ec5e8e"
   },
   "outputs": [
    {
     "data": {
      "text/plain": [
       "<AxesSubplot:xlabel='year_built', ylabel='Density'>"
      ]
     },
     "execution_count": 54,
     "metadata": {},
     "output_type": "execute_result"
    },
    {
     "data": {
      "image/png": "[encoded data removed]",
      "text/plain": [
       "<Figure size 432x288 with 1 Axes>"
      ]
     },
     "metadata": {
      "needs_background": "light"
     },
     "output_type": "display_data"
    }
   ],
   "source": [
    "#how old are the buildings\n",
    "sn.kdeplot(build['year_built'])"
   ]
  },
  {
   "cell_type": "code",
   "execution_count": 55,
   "metadata": {
    "execution": {
     "iopub.execute_input": "2021-07-30T12:55:04.286277Z",
     "iopub.status.busy": "2021-07-30T12:55:04.285943Z",
     "iopub.status.idle": "2021-07-30T12:55:04.300048Z",
     "shell.execute_reply": "2021-07-30T12:55:04.298913Z",
     "shell.execute_reply.started": "2021-07-30T12:55:04.286241Z"
    },
    "scrolled": true
   },
   "outputs": [
    {
     "data": {
      "text/html": [
       "<div>\n",
       "<style scoped>\n",
       "    .dataframe tbody tr th:only-of-type {\n",
       "        vertical-align: middle;\n",
       "    }\n",
       "\n",
       "    .dataframe tbody tr th {\n",
       "        vertical-align: top;\n",
       "    }\n",
       "\n",
       "    .dataframe thead th {\n",
       "        text-align: right;\n",
       "    }\n",
       "</style>\n",
       "<table border=\"1\" class=\"dataframe\">\n",
       "  <thead>\n",
       "    <tr style=\"text-align: right;\">\n",
       "      <th></th>\n",
       "      <th>site_id</th>\n",
       "      <th>building_id</th>\n",
       "      <th>primary_use</th>\n",
       "      <th>square_feet</th>\n",
       "      <th>year_built</th>\n",
       "      <th>floor_count</th>\n",
       "    </tr>\n",
       "  </thead>\n",
       "  <tbody>\n",
       "    <tr>\n",
       "      <th>0</th>\n",
       "      <td>0</td>\n",
       "      <td>0</td>\n",
       "      <td>Education</td>\n",
       "      <td>7432</td>\n",
       "      <td>2008.0</td>\n",
       "      <td>NaN</td>\n",
       "    </tr>\n",
       "    <tr>\n",
       "      <th>1</th>\n",
       "      <td>0</td>\n",
       "      <td>1</td>\n",
       "      <td>Education</td>\n",
       "      <td>2720</td>\n",
       "      <td>2004.0</td>\n",
       "      <td>NaN</td>\n",
       "    </tr>\n",
       "    <tr>\n",
       "      <th>2</th>\n",
       "      <td>0</td>\n",
       "      <td>2</td>\n",
       "      <td>Education</td>\n",
       "      <td>5376</td>\n",
       "      <td>1991.0</td>\n",
       "      <td>NaN</td>\n",
       "    </tr>\n",
       "    <tr>\n",
       "      <th>3</th>\n",
       "      <td>0</td>\n",
       "      <td>3</td>\n",
       "      <td>Education</td>\n",
       "      <td>23685</td>\n",
       "      <td>2002.0</td>\n",
       "      <td>NaN</td>\n",
       "    </tr>\n",
       "    <tr>\n",
       "      <th>4</th>\n",
       "      <td>0</td>\n",
       "      <td>4</td>\n",
       "      <td>Education</td>\n",
       "      <td>116607</td>\n",
       "      <td>1975.0</td>\n",
       "      <td>NaN</td>\n",
       "    </tr>\n",
       "  </tbody>\n",
       "</table>\n",
       "</div>"
      ],
      "text/plain": [
       "   site_id  building_id primary_use  square_feet  year_built  floor_count\n",
       "0        0            0   Education         7432      2008.0          NaN\n",
       "1        0            1   Education         2720      2004.0          NaN\n",
       "2        0            2   Education         5376      1991.0          NaN\n",
       "3        0            3   Education        23685      2002.0          NaN\n",
       "4        0            4   Education       116607      1975.0          NaN"
      ]
     },
     "execution_count": 55,
     "metadata": {},
     "output_type": "execute_result"
    }
   ],
   "source": [
    "build.head()"
   ]
  },
  {
   "cell_type": "code",
   "execution_count": 56,
   "metadata": {
    "execution": {
     "iopub.execute_input": "2021-07-30T12:55:04.302265Z",
     "iopub.status.busy": "2021-07-30T12:55:04.301877Z",
     "iopub.status.idle": "2021-07-30T12:55:04.310703Z",
     "shell.execute_reply": "2021-07-30T12:55:04.309449Z",
     "shell.execute_reply.started": "2021-07-30T12:55:04.302226Z"
    }
   },
   "outputs": [],
   "source": [
    "build['temp_floors']=build['floor_count']"
   ]
  },
  {
   "cell_type": "code",
   "execution_count": 57,
   "metadata": {
    "execution": {
     "iopub.execute_input": "2021-07-30T12:55:04.312765Z",
     "iopub.status.busy": "2021-07-30T12:55:04.312144Z",
     "iopub.status.idle": "2021-07-30T12:55:04.320005Z",
     "shell.execute_reply": "2021-07-30T12:55:04.318680Z",
     "shell.execute_reply.started": "2021-07-30T12:55:04.312721Z"
    }
   },
   "outputs": [],
   "source": [
    "build['temp_floors'].fillna(value=0,inplace=True)"
   ]
  },
  {
   "cell_type": "code",
   "execution_count": 58,
   "metadata": {
    "execution": {
     "iopub.execute_input": "2021-07-30T12:55:04.324197Z",
     "iopub.status.busy": "2021-07-30T12:55:04.321908Z",
     "iopub.status.idle": "2021-07-30T12:55:04.334357Z",
     "shell.execute_reply": "2021-07-30T12:55:04.333290Z",
     "shell.execute_reply.started": "2021-07-30T12:55:04.324166Z"
    }
   },
   "outputs": [],
   "source": [
    "d1=pd.DataFrame(build.groupby(by=['primary_use']).count()['temp_floors'])"
   ]
  },
  {
   "cell_type": "code",
   "execution_count": 59,
   "metadata": {
    "execution": {
     "iopub.execute_input": "2021-07-30T12:55:04.336476Z",
     "iopub.status.busy": "2021-07-30T12:55:04.335979Z",
     "iopub.status.idle": "2021-07-30T12:55:04.349572Z",
     "shell.execute_reply": "2021-07-30T12:55:04.348788Z",
     "shell.execute_reply.started": "2021-07-30T12:55:04.336431Z"
    }
   },
   "outputs": [
    {
     "data": {
      "text/html": [
       "<div>\n",
       "<style scoped>\n",
       "    .dataframe tbody tr th:only-of-type {\n",
       "        vertical-align: middle;\n",
       "    }\n",
       "\n",
       "    .dataframe tbody tr th {\n",
       "        vertical-align: top;\n",
       "    }\n",
       "\n",
       "    .dataframe thead th {\n",
       "        text-align: right;\n",
       "    }\n",
       "</style>\n",
       "<table border=\"1\" class=\"dataframe\">\n",
       "  <thead>\n",
       "    <tr style=\"text-align: right;\">\n",
       "      <th></th>\n",
       "      <th>temp_floors</th>\n",
       "    </tr>\n",
       "    <tr>\n",
       "      <th>primary_use</th>\n",
       "      <th></th>\n",
       "    </tr>\n",
       "  </thead>\n",
       "  <tbody>\n",
       "    <tr>\n",
       "      <th>Education</th>\n",
       "      <td>549</td>\n",
       "    </tr>\n",
       "    <tr>\n",
       "      <th>Entertainment/public assembly</th>\n",
       "      <td>184</td>\n",
       "    </tr>\n",
       "    <tr>\n",
       "      <th>Food sales and service</th>\n",
       "      <td>5</td>\n",
       "    </tr>\n",
       "    <tr>\n",
       "      <th>Healthcare</th>\n",
       "      <td>23</td>\n",
       "    </tr>\n",
       "    <tr>\n",
       "      <th>Lodging/residential</th>\n",
       "      <td>147</td>\n",
       "    </tr>\n",
       "    <tr>\n",
       "      <th>Manufacturing/industrial</th>\n",
       "      <td>12</td>\n",
       "    </tr>\n",
       "    <tr>\n",
       "      <th>Office</th>\n",
       "      <td>279</td>\n",
       "    </tr>\n",
       "    <tr>\n",
       "      <th>Other</th>\n",
       "      <td>25</td>\n",
       "    </tr>\n",
       "    <tr>\n",
       "      <th>Parking</th>\n",
       "      <td>22</td>\n",
       "    </tr>\n",
       "    <tr>\n",
       "      <th>Public services</th>\n",
       "      <td>156</td>\n",
       "    </tr>\n",
       "    <tr>\n",
       "      <th>Religious worship</th>\n",
       "      <td>3</td>\n",
       "    </tr>\n",
       "    <tr>\n",
       "      <th>Retail</th>\n",
       "      <td>11</td>\n",
       "    </tr>\n",
       "    <tr>\n",
       "      <th>Services</th>\n",
       "      <td>10</td>\n",
       "    </tr>\n",
       "    <tr>\n",
       "      <th>Technology/science</th>\n",
       "      <td>6</td>\n",
       "    </tr>\n",
       "    <tr>\n",
       "      <th>Utility</th>\n",
       "      <td>4</td>\n",
       "    </tr>\n",
       "    <tr>\n",
       "      <th>Warehouse/storage</th>\n",
       "      <td>13</td>\n",
       "    </tr>\n",
       "  </tbody>\n",
       "</table>\n",
       "</div>"
      ],
      "text/plain": [
       "                               temp_floors\n",
       "primary_use                               \n",
       "Education                              549\n",
       "Entertainment/public assembly          184\n",
       "Food sales and service                   5\n",
       "Healthcare                              23\n",
       "Lodging/residential                    147\n",
       "Manufacturing/industrial                12\n",
       "Office                                 279\n",
       "Other                                   25\n",
       "Parking                                 22\n",
       "Public services                        156\n",
       "Religious worship                        3\n",
       "Retail                                  11\n",
       "Services                                10\n",
       "Technology/science                       6\n",
       "Utility                                  4\n",
       "Warehouse/storage                       13"
      ]
     },
     "execution_count": 59,
     "metadata": {},
     "output_type": "execute_result"
    }
   ],
   "source": [
    "d1"
   ]
  },
  {
   "cell_type": "code",
   "execution_count": 60,
   "metadata": {
    "execution": {
     "iopub.execute_input": "2021-07-30T12:55:04.350961Z",
     "iopub.status.busy": "2021-07-30T12:55:04.350683Z",
     "iopub.status.idle": "2021-07-30T12:55:04.361619Z",
     "shell.execute_reply": "2021-07-30T12:55:04.360488Z",
     "shell.execute_reply.started": "2021-07-30T12:55:04.350936Z"
    }
   },
   "outputs": [],
   "source": [
    "d2=pd.DataFrame(build.groupby(by=['primary_use']).sum()['temp_floors'])"
   ]
  },
  {
   "cell_type": "code",
   "execution_count": 61,
   "metadata": {
    "execution": {
     "iopub.execute_input": "2021-07-30T12:55:04.363560Z",
     "iopub.status.busy": "2021-07-30T12:55:04.363127Z",
     "iopub.status.idle": "2021-07-30T12:55:04.369120Z",
     "shell.execute_reply": "2021-07-30T12:55:04.368084Z",
     "shell.execute_reply.started": "2021-07-30T12:55:04.363523Z"
    }
   },
   "outputs": [],
   "source": [
    "d2.rename(columns={'temp_floors':'summation'},inplace=True)"
   ]
  },
  {
   "cell_type": "code",
   "execution_count": 62,
   "metadata": {
    "execution": {
     "iopub.execute_input": "2021-07-30T12:55:04.371493Z",
     "iopub.status.busy": "2021-07-30T12:55:04.370911Z",
     "iopub.status.idle": "2021-07-30T12:55:04.381143Z",
     "shell.execute_reply": "2021-07-30T12:55:04.380203Z",
     "shell.execute_reply.started": "2021-07-30T12:55:04.371454Z"
    }
   },
   "outputs": [],
   "source": [
    "d3=d1.join(d2)"
   ]
  },
  {
   "cell_type": "code",
   "execution_count": 63,
   "metadata": {
    "execution": {
     "iopub.execute_input": "2021-07-30T12:55:04.383188Z",
     "iopub.status.busy": "2021-07-30T12:55:04.382931Z",
     "iopub.status.idle": "2021-07-30T12:55:04.397245Z",
     "shell.execute_reply": "2021-07-30T12:55:04.396190Z",
     "shell.execute_reply.started": "2021-07-30T12:55:04.383155Z"
    }
   },
   "outputs": [
    {
     "data": {
      "text/html": [
       "<div>\n",
       "<style scoped>\n",
       "    .dataframe tbody tr th:only-of-type {\n",
       "        vertical-align: middle;\n",
       "    }\n",
       "\n",
       "    .dataframe tbody tr th {\n",
       "        vertical-align: top;\n",
       "    }\n",
       "\n",
       "    .dataframe thead th {\n",
       "        text-align: right;\n",
       "    }\n",
       "</style>\n",
       "<table border=\"1\" class=\"dataframe\">\n",
       "  <thead>\n",
       "    <tr style=\"text-align: right;\">\n",
       "      <th></th>\n",
       "      <th>temp_floors</th>\n",
       "      <th>summation</th>\n",
       "    </tr>\n",
       "    <tr>\n",
       "      <th>primary_use</th>\n",
       "      <th></th>\n",
       "      <th></th>\n",
       "    </tr>\n",
       "  </thead>\n",
       "  <tbody>\n",
       "    <tr>\n",
       "      <th>Education</th>\n",
       "      <td>549</td>\n",
       "      <td>814.0</td>\n",
       "    </tr>\n",
       "    <tr>\n",
       "      <th>Entertainment/public assembly</th>\n",
       "      <td>184</td>\n",
       "      <td>117.0</td>\n",
       "    </tr>\n",
       "    <tr>\n",
       "      <th>Food sales and service</th>\n",
       "      <td>5</td>\n",
       "      <td>0.0</td>\n",
       "    </tr>\n",
       "    <tr>\n",
       "      <th>Healthcare</th>\n",
       "      <td>23</td>\n",
       "      <td>1.0</td>\n",
       "    </tr>\n",
       "    <tr>\n",
       "      <th>Lodging/residential</th>\n",
       "      <td>147</td>\n",
       "      <td>114.0</td>\n",
       "    </tr>\n",
       "    <tr>\n",
       "      <th>Manufacturing/industrial</th>\n",
       "      <td>12</td>\n",
       "      <td>5.0</td>\n",
       "    </tr>\n",
       "    <tr>\n",
       "      <th>Office</th>\n",
       "      <td>279</td>\n",
       "      <td>149.0</td>\n",
       "    </tr>\n",
       "    <tr>\n",
       "      <th>Other</th>\n",
       "      <td>25</td>\n",
       "      <td>14.0</td>\n",
       "    </tr>\n",
       "    <tr>\n",
       "      <th>Parking</th>\n",
       "      <td>22</td>\n",
       "      <td>8.0</td>\n",
       "    </tr>\n",
       "    <tr>\n",
       "      <th>Public services</th>\n",
       "      <td>156</td>\n",
       "      <td>84.0</td>\n",
       "    </tr>\n",
       "    <tr>\n",
       "      <th>Religious worship</th>\n",
       "      <td>3</td>\n",
       "      <td>0.0</td>\n",
       "    </tr>\n",
       "    <tr>\n",
       "      <th>Retail</th>\n",
       "      <td>11</td>\n",
       "      <td>3.0</td>\n",
       "    </tr>\n",
       "    <tr>\n",
       "      <th>Services</th>\n",
       "      <td>10</td>\n",
       "      <td>0.0</td>\n",
       "    </tr>\n",
       "    <tr>\n",
       "      <th>Technology/science</th>\n",
       "      <td>6</td>\n",
       "      <td>15.0</td>\n",
       "    </tr>\n",
       "    <tr>\n",
       "      <th>Utility</th>\n",
       "      <td>4</td>\n",
       "      <td>2.0</td>\n",
       "    </tr>\n",
       "    <tr>\n",
       "      <th>Warehouse/storage</th>\n",
       "      <td>13</td>\n",
       "      <td>2.0</td>\n",
       "    </tr>\n",
       "  </tbody>\n",
       "</table>\n",
       "</div>"
      ],
      "text/plain": [
       "                               temp_floors  summation\n",
       "primary_use                                          \n",
       "Education                              549      814.0\n",
       "Entertainment/public assembly          184      117.0\n",
       "Food sales and service                   5        0.0\n",
       "Healthcare                              23        1.0\n",
       "Lodging/residential                    147      114.0\n",
       "Manufacturing/industrial                12        5.0\n",
       "Office                                 279      149.0\n",
       "Other                                   25       14.0\n",
       "Parking                                 22        8.0\n",
       "Public services                        156       84.0\n",
       "Religious worship                        3        0.0\n",
       "Retail                                  11        3.0\n",
       "Services                                10        0.0\n",
       "Technology/science                       6       15.0\n",
       "Utility                                  4        2.0\n",
       "Warehouse/storage                       13        2.0"
      ]
     },
     "execution_count": 63,
     "metadata": {},
     "output_type": "execute_result"
    }
   ],
   "source": [
    "d3"
   ]
  },
  {
   "cell_type": "code",
   "execution_count": 64,
   "metadata": {
    "execution": {
     "iopub.execute_input": "2021-07-30T12:55:04.399113Z",
     "iopub.status.busy": "2021-07-30T12:55:04.398736Z",
     "iopub.status.idle": "2021-07-30T12:55:04.408773Z",
     "shell.execute_reply": "2021-07-30T12:55:04.407795Z",
     "shell.execute_reply.started": "2021-07-30T12:55:04.399078Z"
    }
   },
   "outputs": [],
   "source": [
    "d3['avg_floors']=d3.apply(lambda x: np.ceil(x['summation']/x['temp_floors']),axis=1)"
   ]
  },
  {
   "cell_type": "code",
   "execution_count": 65,
   "metadata": {
    "execution": {
     "iopub.execute_input": "2021-07-30T12:55:04.410822Z",
     "iopub.status.busy": "2021-07-30T12:55:04.410242Z",
     "iopub.status.idle": "2021-07-30T12:55:04.428606Z",
     "shell.execute_reply": "2021-07-30T12:55:04.427337Z",
     "shell.execute_reply.started": "2021-07-30T12:55:04.410772Z"
    }
   },
   "outputs": [
    {
     "data": {
      "text/html": [
       "<div>\n",
       "<style scoped>\n",
       "    .dataframe tbody tr th:only-of-type {\n",
       "        vertical-align: middle;\n",
       "    }\n",
       "\n",
       "    .dataframe tbody tr th {\n",
       "        vertical-align: top;\n",
       "    }\n",
       "\n",
       "    .dataframe thead th {\n",
       "        text-align: right;\n",
       "    }\n",
       "</style>\n",
       "<table border=\"1\" class=\"dataframe\">\n",
       "  <thead>\n",
       "    <tr style=\"text-align: right;\">\n",
       "      <th></th>\n",
       "      <th>temp_floors</th>\n",
       "      <th>summation</th>\n",
       "      <th>avg_floors</th>\n",
       "    </tr>\n",
       "    <tr>\n",
       "      <th>primary_use</th>\n",
       "      <th></th>\n",
       "      <th></th>\n",
       "      <th></th>\n",
       "    </tr>\n",
       "  </thead>\n",
       "  <tbody>\n",
       "    <tr>\n",
       "      <th>Education</th>\n",
       "      <td>549</td>\n",
       "      <td>814.0</td>\n",
       "      <td>2.0</td>\n",
       "    </tr>\n",
       "    <tr>\n",
       "      <th>Entertainment/public assembly</th>\n",
       "      <td>184</td>\n",
       "      <td>117.0</td>\n",
       "      <td>1.0</td>\n",
       "    </tr>\n",
       "    <tr>\n",
       "      <th>Food sales and service</th>\n",
       "      <td>5</td>\n",
       "      <td>0.0</td>\n",
       "      <td>0.0</td>\n",
       "    </tr>\n",
       "    <tr>\n",
       "      <th>Healthcare</th>\n",
       "      <td>23</td>\n",
       "      <td>1.0</td>\n",
       "      <td>1.0</td>\n",
       "    </tr>\n",
       "    <tr>\n",
       "      <th>Lodging/residential</th>\n",
       "      <td>147</td>\n",
       "      <td>114.0</td>\n",
       "      <td>1.0</td>\n",
       "    </tr>\n",
       "    <tr>\n",
       "      <th>Manufacturing/industrial</th>\n",
       "      <td>12</td>\n",
       "      <td>5.0</td>\n",
       "      <td>1.0</td>\n",
       "    </tr>\n",
       "    <tr>\n",
       "      <th>Office</th>\n",
       "      <td>279</td>\n",
       "      <td>149.0</td>\n",
       "      <td>1.0</td>\n",
       "    </tr>\n",
       "    <tr>\n",
       "      <th>Other</th>\n",
       "      <td>25</td>\n",
       "      <td>14.0</td>\n",
       "      <td>1.0</td>\n",
       "    </tr>\n",
       "    <tr>\n",
       "      <th>Parking</th>\n",
       "      <td>22</td>\n",
       "      <td>8.0</td>\n",
       "      <td>1.0</td>\n",
       "    </tr>\n",
       "    <tr>\n",
       "      <th>Public services</th>\n",
       "      <td>156</td>\n",
       "      <td>84.0</td>\n",
       "      <td>1.0</td>\n",
       "    </tr>\n",
       "    <tr>\n",
       "      <th>Religious worship</th>\n",
       "      <td>3</td>\n",
       "      <td>0.0</td>\n",
       "      <td>0.0</td>\n",
       "    </tr>\n",
       "    <tr>\n",
       "      <th>Retail</th>\n",
       "      <td>11</td>\n",
       "      <td>3.0</td>\n",
       "      <td>1.0</td>\n",
       "    </tr>\n",
       "    <tr>\n",
       "      <th>Services</th>\n",
       "      <td>10</td>\n",
       "      <td>0.0</td>\n",
       "      <td>0.0</td>\n",
       "    </tr>\n",
       "    <tr>\n",
       "      <th>Technology/science</th>\n",
       "      <td>6</td>\n",
       "      <td>15.0</td>\n",
       "      <td>3.0</td>\n",
       "    </tr>\n",
       "    <tr>\n",
       "      <th>Utility</th>\n",
       "      <td>4</td>\n",
       "      <td>2.0</td>\n",
       "      <td>1.0</td>\n",
       "    </tr>\n",
       "    <tr>\n",
       "      <th>Warehouse/storage</th>\n",
       "      <td>13</td>\n",
       "      <td>2.0</td>\n",
       "      <td>1.0</td>\n",
       "    </tr>\n",
       "  </tbody>\n",
       "</table>\n",
       "</div>"
      ],
      "text/plain": [
       "                               temp_floors  summation  avg_floors\n",
       "primary_use                                                      \n",
       "Education                              549      814.0         2.0\n",
       "Entertainment/public assembly          184      117.0         1.0\n",
       "Food sales and service                   5        0.0         0.0\n",
       "Healthcare                              23        1.0         1.0\n",
       "Lodging/residential                    147      114.0         1.0\n",
       "Manufacturing/industrial                12        5.0         1.0\n",
       "Office                                 279      149.0         1.0\n",
       "Other                                   25       14.0         1.0\n",
       "Parking                                 22        8.0         1.0\n",
       "Public services                        156       84.0         1.0\n",
       "Religious worship                        3        0.0         0.0\n",
       "Retail                                  11        3.0         1.0\n",
       "Services                                10        0.0         0.0\n",
       "Technology/science                       6       15.0         3.0\n",
       "Utility                                  4        2.0         1.0\n",
       "Warehouse/storage                       13        2.0         1.0"
      ]
     },
     "execution_count": 65,
     "metadata": {},
     "output_type": "execute_result"
    }
   ],
   "source": [
    "d3"
   ]
  },
  {
   "cell_type": "code",
   "execution_count": 66,
   "metadata": {
    "execution": {
     "iopub.execute_input": "2021-07-30T12:55:04.431150Z",
     "iopub.status.busy": "2021-07-30T12:55:04.430542Z",
     "iopub.status.idle": "2021-07-30T12:55:04.439736Z",
     "shell.execute_reply": "2021-07-30T12:55:04.438619Z",
     "shell.execute_reply.started": "2021-07-30T12:55:04.431035Z"
    },
    "scrolled": true
   },
   "outputs": [],
   "source": [
    "floor_dict=d3.groupby(d3.index)['avg_floors'].sum().to_dict()"
   ]
  },
  {
   "cell_type": "code",
   "execution_count": 67,
   "metadata": {
    "execution": {
     "iopub.execute_input": "2021-07-30T12:55:04.442380Z",
     "iopub.status.busy": "2021-07-30T12:55:04.441440Z",
     "iopub.status.idle": "2021-07-30T12:55:04.450027Z",
     "shell.execute_reply": "2021-07-30T12:55:04.448900Z",
     "shell.execute_reply.started": "2021-07-30T12:55:04.442321Z"
    }
   },
   "outputs": [
    {
     "data": {
      "text/plain": [
       "{'Education': 2.0,\n",
       " 'Entertainment/public assembly': 1.0,\n",
       " 'Food sales and service': 0.0,\n",
       " 'Healthcare': 1.0,\n",
       " 'Lodging/residential': 1.0,\n",
       " 'Manufacturing/industrial': 1.0,\n",
       " 'Office': 1.0,\n",
       " 'Other': 1.0,\n",
       " 'Parking': 1.0,\n",
       " 'Public services': 1.0,\n",
       " 'Religious worship': 0.0,\n",
       " 'Retail': 1.0,\n",
       " 'Services': 0.0,\n",
       " 'Technology/science': 3.0,\n",
       " 'Utility': 1.0,\n",
       " 'Warehouse/storage': 1.0}"
      ]
     },
     "execution_count": 67,
     "metadata": {},
     "output_type": "execute_result"
    }
   ],
   "source": [
    "floor_dict"
   ]
  },
  {
   "cell_type": "code",
   "execution_count": 68,
   "metadata": {
    "execution": {
     "iopub.execute_input": "2021-07-30T12:55:04.452591Z",
     "iopub.status.busy": "2021-07-30T12:55:04.451741Z",
     "iopub.status.idle": "2021-07-30T12:55:04.458454Z",
     "shell.execute_reply": "2021-07-30T12:55:04.457402Z",
     "shell.execute_reply.started": "2021-07-30T12:55:04.452553Z"
    }
   },
   "outputs": [],
   "source": [
    "def get_floor(p):\n",
    "    return floor_dict[p]"
   ]
  },
  {
   "cell_type": "code",
   "execution_count": 69,
   "metadata": {
    "execution": {
     "iopub.execute_input": "2021-07-30T12:55:04.460413Z",
     "iopub.status.busy": "2021-07-30T12:55:04.459839Z",
     "iopub.status.idle": "2021-07-30T12:55:04.467838Z",
     "shell.execute_reply": "2021-07-30T12:55:04.466993Z",
     "shell.execute_reply.started": "2021-07-30T12:55:04.460374Z"
    }
   },
   "outputs": [],
   "source": [
    "indexes=list(build[build['floor_count'].isnull()==True].index)"
   ]
  },
  {
   "cell_type": "code",
   "execution_count": 70,
   "metadata": {
    "execution": {
     "iopub.execute_input": "2021-07-30T12:55:04.469702Z",
     "iopub.status.busy": "2021-07-30T12:55:04.469268Z",
     "iopub.status.idle": "2021-07-30T12:55:04.476716Z",
     "shell.execute_reply": "2021-07-30T12:55:04.475695Z",
     "shell.execute_reply.started": "2021-07-30T12:55:04.469665Z"
    }
   },
   "outputs": [
    {
     "data": {
      "text/plain": [
       "1094"
      ]
     },
     "execution_count": 70,
     "metadata": {},
     "output_type": "execute_result"
    }
   ],
   "source": [
    "len(indexes)"
   ]
  },
  {
   "cell_type": "code",
   "execution_count": 71,
   "metadata": {
    "execution": {
     "iopub.execute_input": "2021-07-30T12:55:04.479245Z",
     "iopub.status.busy": "2021-07-30T12:55:04.478756Z",
     "iopub.status.idle": "2021-07-30T12:55:04.486723Z",
     "shell.execute_reply": "2021-07-30T12:55:04.485255Z",
     "shell.execute_reply.started": "2021-07-30T12:55:04.479202Z"
    }
   },
   "outputs": [
    {
     "data": {
      "text/plain": [
       "(1449, 7)"
      ]
     },
     "execution_count": 71,
     "metadata": {},
     "output_type": "execute_result"
    }
   ],
   "source": [
    "build.shape"
   ]
  },
  {
   "cell_type": "code",
   "execution_count": 72,
   "metadata": {
    "execution": {
     "iopub.execute_input": "2021-07-30T12:55:04.489023Z",
     "iopub.status.busy": "2021-07-30T12:55:04.488508Z",
     "iopub.status.idle": "2021-07-30T12:55:04.870544Z",
     "shell.execute_reply": "2021-07-30T12:55:04.869323Z",
     "shell.execute_reply.started": "2021-07-30T12:55:04.488966Z"
    }
   },
   "outputs": [],
   "source": [
    "for idx in indexes:\n",
    "    build.loc[idx,'floor_count']=get_floor(str(build.loc[idx,'primary_use']))"
   ]
  },
  {
   "cell_type": "code",
   "execution_count": 73,
   "metadata": {
    "execution": {
     "iopub.execute_input": "2021-07-30T12:55:04.878349Z",
     "iopub.status.busy": "2021-07-30T12:55:04.875903Z",
     "iopub.status.idle": "2021-07-30T12:55:04.884850Z",
     "shell.execute_reply": "2021-07-30T12:55:04.883733Z",
     "shell.execute_reply.started": "2021-07-30T12:55:04.878297Z"
    }
   },
   "outputs": [],
   "source": [
    "feature_changes['fill_null/build/floor_count']=floor_dict"
   ]
  },
  {
   "cell_type": "code",
   "execution_count": 74,
   "metadata": {
    "execution": {
     "iopub.execute_input": "2021-07-30T12:55:04.891328Z",
     "iopub.status.busy": "2021-07-30T12:55:04.889332Z",
     "iopub.status.idle": "2021-07-30T12:55:05.363221Z",
     "shell.execute_reply": "2021-07-30T12:55:05.362354Z",
     "shell.execute_reply.started": "2021-07-30T12:55:04.891279Z"
    },
    "id": "w27qmWVlJaqB",
    "outputId": "f97940af-d074-4755-9c17-df54042e1327"
   },
   "outputs": [
    {
     "name": "stderr",
     "output_type": "stream",
     "text": [
      "/opt/conda/lib/python3.7/site-packages/seaborn/_decorators.py:43: FutureWarning: Pass the following variable as a keyword arg: x. From version 0.12, the only valid positional argument will be `data`, and passing other arguments without an explicit keyword will result in an error or misinterpretation.\n",
      "  FutureWarning\n"
     ]
    },
    {
     "data": {
      "text/plain": [
       "<AxesSubplot:xlabel='floor_count', ylabel='count'>"
      ]
     },
     "execution_count": 74,
     "metadata": {},
     "output_type": "execute_result"
    },
    {
     "data": {
      "image/png": "[encoded data removed]",
      "text/plain": [
       "<Figure size 1440x720 with 1 Axes>"
      ]
     },
     "metadata": {
      "needs_background": "light"
     },
     "output_type": "display_data"
    }
   ],
   "source": [
    "plt.figure(figsize=(20,10))\n",
    "sn.countplot(build['floor_count'])"
   ]
  },
  {
   "cell_type": "code",
   "execution_count": 75,
   "metadata": {
    "execution": {
     "iopub.execute_input": "2021-07-30T12:55:05.375005Z",
     "iopub.status.busy": "2021-07-30T12:55:05.374751Z",
     "iopub.status.idle": "2021-07-30T12:55:05.380422Z",
     "shell.execute_reply": "2021-07-30T12:55:05.379324Z",
     "shell.execute_reply.started": "2021-07-30T12:55:05.374979Z"
    }
   },
   "outputs": [],
   "source": [
    "build.drop('temp_floors',axis=1,inplace=True)"
   ]
  },
  {
   "cell_type": "code",
   "execution_count": 76,
   "metadata": {
    "execution": {
     "iopub.execute_input": "2021-07-30T12:55:05.384031Z",
     "iopub.status.busy": "2021-07-30T12:55:05.383465Z",
     "iopub.status.idle": "2021-07-30T12:55:05.400806Z",
     "shell.execute_reply": "2021-07-30T12:55:05.399755Z",
     "shell.execute_reply.started": "2021-07-30T12:55:05.383984Z"
    }
   },
   "outputs": [
    {
     "data": {
      "text/plain": [
       "site_id\n",
       "0     2016.0\n",
       "1     2007.0\n",
       "2     2014.0\n",
       "3     2017.0\n",
       "4     2016.0\n",
       "5     2013.0\n",
       "6        NaN\n",
       "7     1995.0\n",
       "8        NaN\n",
       "9        NaN\n",
       "10       NaN\n",
       "11       NaN\n",
       "12       NaN\n",
       "13       NaN\n",
       "14       NaN\n",
       "15    2014.0\n",
       "Name: year_built, dtype: float64"
      ]
     },
     "execution_count": 76,
     "metadata": {},
     "output_type": "execute_result"
    }
   ],
   "source": [
    "build.groupby('site_id')['year_built'].max()"
   ]
  },
  {
   "cell_type": "code",
   "execution_count": 77,
   "metadata": {
    "execution": {
     "iopub.execute_input": "2021-07-30T12:55:05.402775Z",
     "iopub.status.busy": "2021-07-30T12:55:05.402233Z",
     "iopub.status.idle": "2021-07-30T12:55:05.409285Z",
     "shell.execute_reply": "2021-07-30T12:55:05.407931Z",
     "shell.execute_reply.started": "2021-07-30T12:55:05.402732Z"
    }
   },
   "outputs": [],
   "source": [
    "build.drop('year_built',axis=1,inplace=True)"
   ]
  },
  {
   "cell_type": "code",
   "execution_count": 78,
   "metadata": {
    "execution": {
     "iopub.execute_input": "2021-07-30T12:55:05.412067Z",
     "iopub.status.busy": "2021-07-30T12:55:05.411533Z",
     "iopub.status.idle": "2021-07-30T12:55:05.424991Z",
     "shell.execute_reply": "2021-07-30T12:55:05.424195Z",
     "shell.execute_reply.started": "2021-07-30T12:55:05.412025Z"
    }
   },
   "outputs": [
    {
     "data": {
      "text/plain": [
       "site_id               0\n",
       "timestamp             0\n",
       "air_temperature       0\n",
       "cloud_coverage        0\n",
       "dew_temperature       0\n",
       "precip_depth_1_hr     0\n",
       "sea_level_pressure    0\n",
       "wind_direction        0\n",
       "wind_speed            0\n",
       "dtype: int64"
      ]
     },
     "execution_count": 78,
     "metadata": {},
     "output_type": "execute_result"
    }
   ],
   "source": [
    "weather.isna().sum()"
   ]
  },
  {
   "cell_type": "code",
   "execution_count": 79,
   "metadata": {
    "execution": {
     "iopub.execute_input": "2021-07-30T12:55:05.426500Z",
     "iopub.status.busy": "2021-07-30T12:55:05.426052Z",
     "iopub.status.idle": "2021-07-30T12:55:08.654720Z",
     "shell.execute_reply": "2021-07-30T12:55:08.653721Z",
     "shell.execute_reply.started": "2021-07-30T12:55:05.426438Z"
    },
    "id": "AQuag1kCJaqB"
   },
   "outputs": [],
   "source": [
    "temp=pd.merge(left=df,\n",
    "    right=build,\n",
    "    left_on='building_id',\n",
    "    right_on='building_id',how='left')"
   ]
  },
  {
   "cell_type": "code",
   "execution_count": 80,
   "metadata": {
    "execution": {
     "iopub.execute_input": "2021-07-30T12:55:08.656545Z",
     "iopub.status.busy": "2021-07-30T12:55:08.656115Z",
     "iopub.status.idle": "2021-07-30T12:55:08.674378Z",
     "shell.execute_reply": "2021-07-30T12:55:08.673398Z",
     "shell.execute_reply.started": "2021-07-30T12:55:08.656498Z"
    },
    "id": "8JXibYzRJaqB",
    "outputId": "db38c9c9-ccf1-4cd2-98ac-1f9138c51cbc",
    "scrolled": true
   },
   "outputs": [
    {
     "data": {
      "text/html": [
       "<div>\n",
       "<style scoped>\n",
       "    .dataframe tbody tr th:only-of-type {\n",
       "        vertical-align: middle;\n",
       "    }\n",
       "\n",
       "    .dataframe tbody tr th {\n",
       "        vertical-align: top;\n",
       "    }\n",
       "\n",
       "    .dataframe thead th {\n",
       "        text-align: right;\n",
       "    }\n",
       "</style>\n",
       "<table border=\"1\" class=\"dataframe\">\n",
       "  <thead>\n",
       "    <tr style=\"text-align: right;\">\n",
       "      <th></th>\n",
       "      <th>building_id</th>\n",
       "      <th>meter</th>\n",
       "      <th>timestamp</th>\n",
       "      <th>meter_reading</th>\n",
       "      <th>site_id</th>\n",
       "      <th>primary_use</th>\n",
       "      <th>square_feet</th>\n",
       "      <th>floor_count</th>\n",
       "    </tr>\n",
       "  </thead>\n",
       "  <tbody>\n",
       "    <tr>\n",
       "      <th>0</th>\n",
       "      <td>0</td>\n",
       "      <td>0</td>\n",
       "      <td>2016-01-01</td>\n",
       "      <td>0.0</td>\n",
       "      <td>0</td>\n",
       "      <td>Education</td>\n",
       "      <td>7432</td>\n",
       "      <td>2.0</td>\n",
       "    </tr>\n",
       "    <tr>\n",
       "      <th>1</th>\n",
       "      <td>1</td>\n",
       "      <td>0</td>\n",
       "      <td>2016-01-01</td>\n",
       "      <td>0.0</td>\n",
       "      <td>0</td>\n",
       "      <td>Education</td>\n",
       "      <td>2720</td>\n",
       "      <td>2.0</td>\n",
       "    </tr>\n",
       "    <tr>\n",
       "      <th>2</th>\n",
       "      <td>2</td>\n",
       "      <td>0</td>\n",
       "      <td>2016-01-01</td>\n",
       "      <td>0.0</td>\n",
       "      <td>0</td>\n",
       "      <td>Education</td>\n",
       "      <td>5376</td>\n",
       "      <td>2.0</td>\n",
       "    </tr>\n",
       "    <tr>\n",
       "      <th>3</th>\n",
       "      <td>3</td>\n",
       "      <td>0</td>\n",
       "      <td>2016-01-01</td>\n",
       "      <td>0.0</td>\n",
       "      <td>0</td>\n",
       "      <td>Education</td>\n",
       "      <td>23685</td>\n",
       "      <td>2.0</td>\n",
       "    </tr>\n",
       "    <tr>\n",
       "      <th>4</th>\n",
       "      <td>4</td>\n",
       "      <td>0</td>\n",
       "      <td>2016-01-01</td>\n",
       "      <td>0.0</td>\n",
       "      <td>0</td>\n",
       "      <td>Education</td>\n",
       "      <td>116607</td>\n",
       "      <td>2.0</td>\n",
       "    </tr>\n",
       "  </tbody>\n",
       "</table>\n",
       "</div>"
      ],
      "text/plain": [
       "   building_id  meter  timestamp  meter_reading  site_id primary_use  \\\n",
       "0            0      0 2016-01-01            0.0        0   Education   \n",
       "1            1      0 2016-01-01            0.0        0   Education   \n",
       "2            2      0 2016-01-01            0.0        0   Education   \n",
       "3            3      0 2016-01-01            0.0        0   Education   \n",
       "4            4      0 2016-01-01            0.0        0   Education   \n",
       "\n",
       "   square_feet  floor_count  \n",
       "0         7432          2.0  \n",
       "1         2720          2.0  \n",
       "2         5376          2.0  \n",
       "3        23685          2.0  \n",
       "4       116607          2.0  "
      ]
     },
     "execution_count": 80,
     "metadata": {},
     "output_type": "execute_result"
    }
   ],
   "source": [
    "temp.head()"
   ]
  },
  {
   "cell_type": "code",
   "execution_count": 81,
   "metadata": {
    "execution": {
     "iopub.execute_input": "2021-07-30T12:55:08.676752Z",
     "iopub.status.busy": "2021-07-30T12:55:08.676069Z",
     "iopub.status.idle": "2021-07-30T12:55:08.786170Z",
     "shell.execute_reply": "2021-07-30T12:55:08.785377Z",
     "shell.execute_reply.started": "2021-07-30T12:55:08.676581Z"
    },
    "id": "2Sud5VK2JaqC"
   },
   "outputs": [],
   "source": [
    "from sklearn.preprocessing import LabelEncoder"
   ]
  },
  {
   "cell_type": "code",
   "execution_count": 82,
   "metadata": {
    "execution": {
     "iopub.execute_input": "2021-07-30T12:55:08.788057Z",
     "iopub.status.busy": "2021-07-30T12:55:08.787549Z",
     "iopub.status.idle": "2021-07-30T12:55:08.792463Z",
     "shell.execute_reply": "2021-07-30T12:55:08.791302Z",
     "shell.execute_reply.started": "2021-07-30T12:55:08.788018Z"
    },
    "id": "CfYZ_S2tJaqC"
   },
   "outputs": [],
   "source": [
    "primary_use_encoder=LabelEncoder()"
   ]
  },
  {
   "cell_type": "code",
   "execution_count": 83,
   "metadata": {
    "execution": {
     "iopub.execute_input": "2021-07-30T12:55:08.794438Z",
     "iopub.status.busy": "2021-07-30T12:55:08.793998Z",
     "iopub.status.idle": "2021-07-30T12:55:08.802597Z",
     "shell.execute_reply": "2021-07-30T12:55:08.801845Z",
     "shell.execute_reply.started": "2021-07-30T12:55:08.794403Z"
    },
    "id": "W7TWsm9uJaqC",
    "outputId": "f3f86fb4-a3c2-4b0a-d66f-67af9079a0a3"
   },
   "outputs": [],
   "source": [
    "build['primary_use']=primary_use_encoder.fit_transform(build['primary_use'])"
   ]
  },
  {
   "cell_type": "code",
   "execution_count": 84,
   "metadata": {
    "execution": {
     "iopub.execute_input": "2021-07-30T12:55:08.806033Z",
     "iopub.status.busy": "2021-07-30T12:55:08.803729Z",
     "iopub.status.idle": "2021-07-30T12:55:08.814855Z",
     "shell.execute_reply": "2021-07-30T12:55:08.813627Z",
     "shell.execute_reply.started": "2021-07-30T12:55:08.806001Z"
    }
   },
   "outputs": [
    {
     "data": {
      "text/plain": [
       "array(['Education', 'Entertainment/public assembly',\n",
       "       'Food sales and service', 'Healthcare', 'Lodging/residential',\n",
       "       'Manufacturing/industrial', 'Office', 'Other', 'Parking',\n",
       "       'Public services', 'Religious worship', 'Retail', 'Services',\n",
       "       'Technology/science', 'Utility', 'Warehouse/storage'], dtype=object)"
      ]
     },
     "execution_count": 84,
     "metadata": {},
     "output_type": "execute_result"
    }
   ],
   "source": [
    "primary_use_encoder.classes_"
   ]
  },
  {
   "cell_type": "code",
   "execution_count": 85,
   "metadata": {
    "execution": {
     "iopub.execute_input": "2021-07-30T12:55:08.816877Z",
     "iopub.status.busy": "2021-07-30T12:55:08.816641Z",
     "iopub.status.idle": "2021-07-30T12:55:08.826349Z",
     "shell.execute_reply": "2021-07-30T12:55:08.825505Z",
     "shell.execute_reply.started": "2021-07-30T12:55:08.816855Z"
    }
   },
   "outputs": [],
   "source": [
    "encoders['primary_use']=primary_use_encoder"
   ]
  },
  {
   "cell_type": "code",
   "execution_count": 86,
   "metadata": {
    "execution": {
     "iopub.execute_input": "2021-07-30T12:55:08.827748Z",
     "iopub.status.busy": "2021-07-30T12:55:08.827405Z",
     "iopub.status.idle": "2021-07-30T12:55:08.834815Z",
     "shell.execute_reply": "2021-07-30T12:55:08.833838Z",
     "shell.execute_reply.started": "2021-07-30T12:55:08.827724Z"
    },
    "id": "8VZt1qnFJaqE"
   },
   "outputs": [],
   "source": [
    "feature_changes['remove_cols/build']=['year_built']"
   ]
  },
  {
   "cell_type": "code",
   "execution_count": 87,
   "metadata": {
    "execution": {
     "iopub.execute_input": "2021-07-30T12:55:08.836434Z",
     "iopub.status.busy": "2021-07-30T12:55:08.836194Z",
     "iopub.status.idle": "2021-07-30T12:55:08.847299Z",
     "shell.execute_reply": "2021-07-30T12:55:08.846037Z",
     "shell.execute_reply.started": "2021-07-30T12:55:08.836412Z"
    },
    "id": "TD0MUzX2JaqE",
    "outputId": "d6116f3b-44d6-4c63-cc35-3d924a543856"
   },
   "outputs": [
    {
     "data": {
      "text/plain": [
       "{'fill_null/weather/wind_speed': 3.560527,\n",
       " 'fill_null/weather/dew_temperature': 7.350158,\n",
       " 'fill_null/weather/air_temperature': 14.418106,\n",
       " 'fill_null/weather/cloud_coverage': {0: 3.0446104158255953,\n",
       "  1: 0.08465608465608465,\n",
       "  2: 1.9584694353709753,\n",
       "  3: 3.8791358505254965,\n",
       "  4: 1.867999121458379,\n",
       "  5: 0.2906422018348624,\n",
       "  6: 0.6476683937823834,\n",
       "  7: nan,\n",
       "  8: 3.0446104158255953,\n",
       "  9: 0.6106726794438181,\n",
       "  10: 0.37650031585596966,\n",
       "  11: nan,\n",
       "  12: 5.723091076356946,\n",
       "  13: 2.873132664437012,\n",
       "  14: 0.5622027076472741,\n",
       "  15: 1.1099876695437731},\n",
       " 'fill_null/weather/precip_depth_1_hr': {0: 1.3825572127974497,\n",
       "  1: nan,\n",
       "  2: 0.15773775381438568,\n",
       "  3: 0.6918677799382363,\n",
       "  4: 0.24859362443075275,\n",
       "  5: nan,\n",
       "  6: 0.797768162149852,\n",
       "  7: 11.350205198358413,\n",
       "  8: 1.3825572127974497,\n",
       "  9: 0.7551578707397697,\n",
       "  10: 0.45745288406624784,\n",
       "  11: 11.350205198358413,\n",
       "  12: nan,\n",
       "  13: 0.8805153346254703,\n",
       "  14: 0.7427395380745484,\n",
       "  15: 3.4950088079859074},\n",
       " 'fill_null/weather/cloud_coverage_cloud_fill_nan': 2.1493059490084985,\n",
       " 'fill_null/weather/precip_depth_1_hr_precip_fill_nan': 0.9830472486701534,\n",
       " 'fill_null/weather/sea_level_pressure': 968.2,\n",
       " 'fill_null/weather/wind_direction': 245,\n",
       " 'fill_null/build/floor_count': {'Education': 2.0,\n",
       "  'Entertainment/public assembly': 1.0,\n",
       "  'Food sales and service': 0.0,\n",
       "  'Healthcare': 1.0,\n",
       "  'Lodging/residential': 1.0,\n",
       "  'Manufacturing/industrial': 1.0,\n",
       "  'Office': 1.0,\n",
       "  'Other': 1.0,\n",
       "  'Parking': 1.0,\n",
       "  'Public services': 1.0,\n",
       "  'Religious worship': 0.0,\n",
       "  'Retail': 1.0,\n",
       "  'Services': 0.0,\n",
       "  'Technology/science': 3.0,\n",
       "  'Utility': 1.0,\n",
       "  'Warehouse/storage': 1.0},\n",
       " 'remove_cols/build': ['year_built']}"
      ]
     },
     "execution_count": 87,
     "metadata": {},
     "output_type": "execute_result"
    }
   ],
   "source": [
    "feature_changes"
   ]
  },
  {
   "cell_type": "code",
   "execution_count": 88,
   "metadata": {
    "execution": {
     "iopub.execute_input": "2021-07-30T12:55:08.849311Z",
     "iopub.status.busy": "2021-07-30T12:55:08.848889Z",
     "iopub.status.idle": "2021-07-30T12:55:08.855668Z",
     "shell.execute_reply": "2021-07-30T12:55:08.854471Z",
     "shell.execute_reply.started": "2021-07-30T12:55:08.849273Z"
    },
    "id": "QGOi34YLJaqE"
   },
   "outputs": [],
   "source": [
    "import pickle"
   ]
  },
  {
   "cell_type": "code",
   "execution_count": 89,
   "metadata": {
    "execution": {
     "iopub.execute_input": "2021-07-30T12:55:08.857549Z",
     "iopub.status.busy": "2021-07-30T12:55:08.857023Z",
     "iopub.status.idle": "2021-07-30T12:55:08.865051Z",
     "shell.execute_reply": "2021-07-30T12:55:08.864173Z",
     "shell.execute_reply.started": "2021-07-30T12:55:08.857510Z"
    },
    "id": "IifWYqfuJaqE"
   },
   "outputs": [],
   "source": [
    "with open('feature_changes','wb') as f:\n",
    "    pickle.dump(feature_changes,f)"
   ]
  },
  {
   "cell_type": "code",
   "execution_count": 90,
   "metadata": {
    "execution": {
     "iopub.execute_input": "2021-07-30T12:55:08.867180Z",
     "iopub.status.busy": "2021-07-30T12:55:08.866535Z",
     "iopub.status.idle": "2021-07-30T12:55:08.873796Z",
     "shell.execute_reply": "2021-07-30T12:55:08.872873Z",
     "shell.execute_reply.started": "2021-07-30T12:55:08.867138Z"
    },
    "id": "qH6hIIYrJaqF"
   },
   "outputs": [],
   "source": [
    "import pickle\n",
    "with open('feature_changes','rb') as f:\n",
    "    l=pickle.load(f)"
   ]
  },
  {
   "cell_type": "code",
   "execution_count": 91,
   "metadata": {
    "execution": {
     "iopub.execute_input": "2021-07-30T12:55:08.877625Z",
     "iopub.status.busy": "2021-07-30T12:55:08.877325Z",
     "iopub.status.idle": "2021-07-30T12:55:08.887371Z",
     "shell.execute_reply": "2021-07-30T12:55:08.886305Z",
     "shell.execute_reply.started": "2021-07-30T12:55:08.877573Z"
    },
    "id": "kTOemnfjJaqF",
    "outputId": "b231e2e6-c3f3-4246-bbab-e1b442540dde",
    "scrolled": true
   },
   "outputs": [
    {
     "data": {
      "text/plain": [
       "{'fill_null/weather/wind_speed': 3.560527,\n",
       " 'fill_null/weather/dew_temperature': 7.350158,\n",
       " 'fill_null/weather/air_temperature': 14.418106,\n",
       " 'fill_null/weather/cloud_coverage': {0: 3.0446104158255953,\n",
       "  1: 0.08465608465608465,\n",
       "  2: 1.9584694353709753,\n",
       "  3: 3.8791358505254965,\n",
       "  4: 1.867999121458379,\n",
       "  5: 0.2906422018348624,\n",
       "  6: 0.6476683937823834,\n",
       "  7: nan,\n",
       "  8: 3.0446104158255953,\n",
       "  9: 0.6106726794438181,\n",
       "  10: 0.37650031585596966,\n",
       "  11: nan,\n",
       "  12: 5.723091076356946,\n",
       "  13: 2.873132664437012,\n",
       "  14: 0.5622027076472741,\n",
       "  15: 1.1099876695437731},\n",
       " 'fill_null/weather/precip_depth_1_hr': {0: 1.3825572127974497,\n",
       "  1: nan,\n",
       "  2: 0.15773775381438568,\n",
       "  3: 0.6918677799382363,\n",
       "  4: 0.24859362443075275,\n",
       "  5: nan,\n",
       "  6: 0.797768162149852,\n",
       "  7: 11.350205198358413,\n",
       "  8: 1.3825572127974497,\n",
       "  9: 0.7551578707397697,\n",
       "  10: 0.45745288406624784,\n",
       "  11: 11.350205198358413,\n",
       "  12: nan,\n",
       "  13: 0.8805153346254703,\n",
       "  14: 0.7427395380745484,\n",
       "  15: 3.4950088079859074},\n",
       " 'fill_null/weather/cloud_coverage_cloud_fill_nan': 2.1493059490084985,\n",
       " 'fill_null/weather/precip_depth_1_hr_precip_fill_nan': 0.9830472486701534,\n",
       " 'fill_null/weather/sea_level_pressure': 968.2,\n",
       " 'fill_null/weather/wind_direction': 245,\n",
       " 'fill_null/build/floor_count': {'Education': 2.0,\n",
       "  'Entertainment/public assembly': 1.0,\n",
       "  'Food sales and service': 0.0,\n",
       "  'Healthcare': 1.0,\n",
       "  'Lodging/residential': 1.0,\n",
       "  'Manufacturing/industrial': 1.0,\n",
       "  'Office': 1.0,\n",
       "  'Other': 1.0,\n",
       "  'Parking': 1.0,\n",
       "  'Public services': 1.0,\n",
       "  'Religious worship': 0.0,\n",
       "  'Retail': 1.0,\n",
       "  'Services': 0.0,\n",
       "  'Technology/science': 3.0,\n",
       "  'Utility': 1.0,\n",
       "  'Warehouse/storage': 1.0},\n",
       " 'remove_cols/build': ['year_built']}"
      ]
     },
     "execution_count": 91,
     "metadata": {},
     "output_type": "execute_result"
    }
   ],
   "source": [
    "l"
   ]
  },
  {
   "cell_type": "code",
   "execution_count": 92,
   "metadata": {
    "execution": {
     "iopub.execute_input": "2021-07-30T12:55:08.889621Z",
     "iopub.status.busy": "2021-07-30T12:55:08.888890Z",
     "iopub.status.idle": "2021-07-30T12:55:08.902098Z",
     "shell.execute_reply": "2021-07-30T12:55:08.901274Z",
     "shell.execute_reply.started": "2021-07-30T12:55:08.889572Z"
    },
    "id": "OT4GoN-mJaqG",
    "outputId": "48107b6f-c1d4-4762-b669-0e2e23907359"
   },
   "outputs": [
    {
     "data": {
      "text/html": [
       "<div>\n",
       "<style scoped>\n",
       "    .dataframe tbody tr th:only-of-type {\n",
       "        vertical-align: middle;\n",
       "    }\n",
       "\n",
       "    .dataframe tbody tr th {\n",
       "        vertical-align: top;\n",
       "    }\n",
       "\n",
       "    .dataframe thead th {\n",
       "        text-align: right;\n",
       "    }\n",
       "</style>\n",
       "<table border=\"1\" class=\"dataframe\">\n",
       "  <thead>\n",
       "    <tr style=\"text-align: right;\">\n",
       "      <th></th>\n",
       "      <th>site_id</th>\n",
       "      <th>building_id</th>\n",
       "      <th>primary_use</th>\n",
       "      <th>square_feet</th>\n",
       "      <th>floor_count</th>\n",
       "    </tr>\n",
       "  </thead>\n",
       "  <tbody>\n",
       "    <tr>\n",
       "      <th>0</th>\n",
       "      <td>0</td>\n",
       "      <td>0</td>\n",
       "      <td>0</td>\n",
       "      <td>7432</td>\n",
       "      <td>2.0</td>\n",
       "    </tr>\n",
       "    <tr>\n",
       "      <th>1</th>\n",
       "      <td>0</td>\n",
       "      <td>1</td>\n",
       "      <td>0</td>\n",
       "      <td>2720</td>\n",
       "      <td>2.0</td>\n",
       "    </tr>\n",
       "    <tr>\n",
       "      <th>2</th>\n",
       "      <td>0</td>\n",
       "      <td>2</td>\n",
       "      <td>0</td>\n",
       "      <td>5376</td>\n",
       "      <td>2.0</td>\n",
       "    </tr>\n",
       "    <tr>\n",
       "      <th>3</th>\n",
       "      <td>0</td>\n",
       "      <td>3</td>\n",
       "      <td>0</td>\n",
       "      <td>23685</td>\n",
       "      <td>2.0</td>\n",
       "    </tr>\n",
       "    <tr>\n",
       "      <th>4</th>\n",
       "      <td>0</td>\n",
       "      <td>4</td>\n",
       "      <td>0</td>\n",
       "      <td>116607</td>\n",
       "      <td>2.0</td>\n",
       "    </tr>\n",
       "  </tbody>\n",
       "</table>\n",
       "</div>"
      ],
      "text/plain": [
       "   site_id  building_id  primary_use  square_feet  floor_count\n",
       "0        0            0            0         7432          2.0\n",
       "1        0            1            0         2720          2.0\n",
       "2        0            2            0         5376          2.0\n",
       "3        0            3            0        23685          2.0\n",
       "4        0            4            0       116607          2.0"
      ]
     },
     "execution_count": 92,
     "metadata": {},
     "output_type": "execute_result"
    }
   ],
   "source": [
    "build.head()"
   ]
  },
  {
   "cell_type": "code",
   "execution_count": 93,
   "metadata": {
    "execution": {
     "iopub.execute_input": "2021-07-30T12:55:08.905047Z",
     "iopub.status.busy": "2021-07-30T12:55:08.904672Z",
     "iopub.status.idle": "2021-07-30T12:55:09.022030Z",
     "shell.execute_reply": "2021-07-30T12:55:09.020858Z",
     "shell.execute_reply.started": "2021-07-30T12:55:08.904996Z"
    }
   },
   "outputs": [
    {
     "data": {
      "text/plain": [
       "10527"
      ]
     },
     "execution_count": 93,
     "metadata": {},
     "output_type": "execute_result"
    }
   ],
   "source": [
    "del temp\n",
    "import gc\n",
    "gc.collect()"
   ]
  },
  {
   "cell_type": "code",
   "execution_count": 94,
   "metadata": {
    "execution": {
     "iopub.execute_input": "2021-07-30T12:55:09.024177Z",
     "iopub.status.busy": "2021-07-30T12:55:09.023723Z",
     "iopub.status.idle": "2021-07-30T12:55:09.037768Z",
     "shell.execute_reply": "2021-07-30T12:55:09.036831Z",
     "shell.execute_reply.started": "2021-07-30T12:55:09.024136Z"
    }
   },
   "outputs": [
    {
     "data": {
      "text/html": [
       "<div>\n",
       "<style scoped>\n",
       "    .dataframe tbody tr th:only-of-type {\n",
       "        vertical-align: middle;\n",
       "    }\n",
       "\n",
       "    .dataframe tbody tr th {\n",
       "        vertical-align: top;\n",
       "    }\n",
       "\n",
       "    .dataframe thead th {\n",
       "        text-align: right;\n",
       "    }\n",
       "</style>\n",
       "<table border=\"1\" class=\"dataframe\">\n",
       "  <thead>\n",
       "    <tr style=\"text-align: right;\">\n",
       "      <th></th>\n",
       "      <th>building_id</th>\n",
       "      <th>meter</th>\n",
       "      <th>timestamp</th>\n",
       "      <th>meter_reading</th>\n",
       "    </tr>\n",
       "  </thead>\n",
       "  <tbody>\n",
       "    <tr>\n",
       "      <th>0</th>\n",
       "      <td>0</td>\n",
       "      <td>0</td>\n",
       "      <td>2016-01-01</td>\n",
       "      <td>0.0</td>\n",
       "    </tr>\n",
       "    <tr>\n",
       "      <th>1</th>\n",
       "      <td>1</td>\n",
       "      <td>0</td>\n",
       "      <td>2016-01-01</td>\n",
       "      <td>0.0</td>\n",
       "    </tr>\n",
       "    <tr>\n",
       "      <th>2</th>\n",
       "      <td>2</td>\n",
       "      <td>0</td>\n",
       "      <td>2016-01-01</td>\n",
       "      <td>0.0</td>\n",
       "    </tr>\n",
       "    <tr>\n",
       "      <th>3</th>\n",
       "      <td>3</td>\n",
       "      <td>0</td>\n",
       "      <td>2016-01-01</td>\n",
       "      <td>0.0</td>\n",
       "    </tr>\n",
       "    <tr>\n",
       "      <th>4</th>\n",
       "      <td>4</td>\n",
       "      <td>0</td>\n",
       "      <td>2016-01-01</td>\n",
       "      <td>0.0</td>\n",
       "    </tr>\n",
       "  </tbody>\n",
       "</table>\n",
       "</div>"
      ],
      "text/plain": [
       "   building_id  meter  timestamp  meter_reading\n",
       "0            0      0 2016-01-01            0.0\n",
       "1            1      0 2016-01-01            0.0\n",
       "2            2      0 2016-01-01            0.0\n",
       "3            3      0 2016-01-01            0.0\n",
       "4            4      0 2016-01-01            0.0"
      ]
     },
     "execution_count": 94,
     "metadata": {},
     "output_type": "execute_result"
    }
   ],
   "source": [
    "df.head()"
   ]
  },
  {
   "cell_type": "code",
   "execution_count": 95,
   "metadata": {
    "execution": {
     "iopub.execute_input": "2021-07-30T12:55:09.039815Z",
     "iopub.status.busy": "2021-07-30T12:55:09.039260Z",
     "iopub.status.idle": "2021-07-30T12:55:11.627572Z",
     "shell.execute_reply": "2021-07-30T12:55:11.626721Z",
     "shell.execute_reply.started": "2021-07-30T12:55:09.039711Z"
    },
    "id": "xuoOy2LkJaqG",
    "scrolled": true
   },
   "outputs": [],
   "source": [
    "df=pd.merge(left=df,right=build,left_on='building_id',right_on='building_id',how='left')"
   ]
  },
  {
   "cell_type": "code",
   "execution_count": 96,
   "metadata": {
    "execution": {
     "iopub.execute_input": "2021-07-30T12:55:11.629231Z",
     "iopub.status.busy": "2021-07-30T12:55:11.628924Z",
     "iopub.status.idle": "2021-07-30T12:55:11.634034Z",
     "shell.execute_reply": "2021-07-30T12:55:11.633102Z",
     "shell.execute_reply.started": "2021-07-30T12:55:11.629199Z"
    },
    "id": "kgIrz-nvJaqG"
   },
   "outputs": [],
   "source": [
    "#df['timestamp']=df['timestamp'].apply(lambda x: str(x))\n",
    "#weather['timestamp']=weather['timestamp'].apply(lambda x: str(x))"
   ]
  },
  {
   "cell_type": "markdown",
   "metadata": {
    "id": "4oG8hkYUJaqG"
   },
   "source": [
    "there was a mistake in data given site 0 electric meter reading were not properly converted to units of kWh and are in kBTU. So converting it to KWh"
   ]
  },
  {
   "cell_type": "code",
   "execution_count": 97,
   "metadata": {
    "execution": {
     "iopub.execute_input": "2021-07-30T12:55:11.636185Z",
     "iopub.status.busy": "2021-07-30T12:55:11.635788Z",
     "iopub.status.idle": "2021-07-30T12:55:11.962933Z",
     "shell.execute_reply": "2021-07-30T12:55:11.961974Z",
     "shell.execute_reply.started": "2021-07-30T12:55:11.636144Z"
    }
   },
   "outputs": [],
   "source": [
    "df.loc[(df['site_id']==0)&(df['meter']==0),'meter_reading']=0.2931*df.loc[(df['site_id']==0)&(df['meter']==0),'meter_reading']"
   ]
  },
  {
   "cell_type": "code",
   "execution_count": 98,
   "metadata": {
    "execution": {
     "iopub.execute_input": "2021-07-30T12:55:11.964747Z",
     "iopub.status.busy": "2021-07-30T12:55:11.964356Z",
     "iopub.status.idle": "2021-07-30T12:55:11.969197Z",
     "shell.execute_reply": "2021-07-30T12:55:11.968303Z",
     "shell.execute_reply.started": "2021-07-30T12:55:11.964710Z"
    }
   },
   "outputs": [],
   "source": [
    "#df.to_csv('processed_df.csv',index=False)\n",
    "#weather.to_csv('processed_weather.csv',index=False)"
   ]
  },
  {
   "cell_type": "code",
   "execution_count": 99,
   "metadata": {
    "execution": {
     "iopub.execute_input": "2021-07-30T12:55:11.971759Z",
     "iopub.status.busy": "2021-07-30T12:55:11.971084Z",
     "iopub.status.idle": "2021-07-30T12:55:11.978527Z",
     "shell.execute_reply": "2021-07-30T12:55:11.977519Z",
     "shell.execute_reply.started": "2021-07-30T12:55:11.971724Z"
    }
   },
   "outputs": [],
   "source": [
    "#with open('encoders.pkl','wb') as f:\n",
    "#    pickle.dump(encoders,f)"
   ]
  },
  {
   "cell_type": "code",
   "execution_count": 100,
   "metadata": {
    "execution": {
     "iopub.execute_input": "2021-07-30T12:55:11.980354Z",
     "iopub.status.busy": "2021-07-30T12:55:11.979951Z",
     "iopub.status.idle": "2021-07-30T12:55:11.986903Z",
     "shell.execute_reply": "2021-07-30T12:55:11.986042Z",
     "shell.execute_reply.started": "2021-07-30T12:55:11.980321Z"
    }
   },
   "outputs": [],
   "source": [
    "#del l\n",
    "#import gc\n",
    "#gc.collect()"
   ]
  },
  {
   "cell_type": "code",
   "execution_count": 101,
   "metadata": {
    "execution": {
     "iopub.execute_input": "2021-07-30T12:55:11.988705Z",
     "iopub.status.busy": "2021-07-30T12:55:11.988217Z",
     "iopub.status.idle": "2021-07-30T12:55:11.996265Z",
     "shell.execute_reply": "2021-07-30T12:55:11.995416Z",
     "shell.execute_reply.started": "2021-07-30T12:55:11.988648Z"
    }
   },
   "outputs": [],
   "source": [
    "#del feature_changes,encoders\n",
    "#gc.collect()"
   ]
  },
  {
   "cell_type": "code",
   "execution_count": 102,
   "metadata": {
    "execution": {
     "iopub.execute_input": "2021-07-30T12:55:11.998020Z",
     "iopub.status.busy": "2021-07-30T12:55:11.997537Z",
     "iopub.status.idle": "2021-07-30T12:55:12.004731Z",
     "shell.execute_reply": "2021-07-30T12:55:12.003930Z",
     "shell.execute_reply.started": "2021-07-30T12:55:11.997982Z"
    }
   },
   "outputs": [],
   "source": [
    "#del df\n",
    "#gc.collect()"
   ]
  },
  {
   "cell_type": "markdown",
   "metadata": {},
   "source": [
    "## next checkpoint"
   ]
  },
  {
   "cell_type": "code",
   "execution_count": 103,
   "metadata": {
    "execution": {
     "iopub.execute_input": "2021-07-30T12:55:12.007839Z",
     "iopub.status.busy": "2021-07-30T12:55:12.007408Z",
     "iopub.status.idle": "2021-07-30T12:55:12.014738Z",
     "shell.execute_reply": "2021-07-30T12:55:12.013815Z",
     "shell.execute_reply.started": "2021-07-30T12:55:12.007804Z"
    }
   },
   "outputs": [],
   "source": [
    "#import numpy as np\n",
    "#import pandas as pd\n",
    "#import matplotlib.pyplot as plt\n",
    "#import seaborn as sn\n",
    "#from tqdm import tqdm\n",
    "#%matplotlib inline"
   ]
  },
  {
   "cell_type": "code",
   "execution_count": 104,
   "metadata": {
    "execution": {
     "iopub.execute_input": "2021-07-30T12:55:12.016125Z",
     "iopub.status.busy": "2021-07-30T12:55:12.015772Z",
     "iopub.status.idle": "2021-07-30T12:55:12.023402Z",
     "shell.execute_reply": "2021-07-30T12:55:12.022412Z",
     "shell.execute_reply.started": "2021-07-30T12:55:12.016090Z"
    }
   },
   "outputs": [],
   "source": [
    "#df=pd.read_csv('processed_df.csv')\n",
    "#weather=pd.read_csv('processed_weather.csv')"
   ]
  },
  {
   "cell_type": "code",
   "execution_count": 105,
   "metadata": {
    "execution": {
     "iopub.execute_input": "2021-07-30T12:55:12.025728Z",
     "iopub.status.busy": "2021-07-30T12:55:12.025007Z",
     "iopub.status.idle": "2021-07-30T12:55:15.593692Z",
     "shell.execute_reply": "2021-07-30T12:55:15.592797Z",
     "shell.execute_reply.started": "2021-07-30T12:55:12.025686Z"
    },
    "id": "uZV67dZhJaqG",
    "scrolled": true
   },
   "outputs": [],
   "source": [
    "df=pd.merge(left=df,right=weather,left_on=['site_id','timestamp'],right_on=['site_id','timestamp'],how='left')"
   ]
  },
  {
   "cell_type": "code",
   "execution_count": 106,
   "metadata": {
    "execution": {
     "iopub.execute_input": "2021-07-30T12:55:15.596739Z",
     "iopub.status.busy": "2021-07-30T12:55:15.596429Z",
     "iopub.status.idle": "2021-07-30T12:55:15.704494Z",
     "shell.execute_reply": "2021-07-30T12:55:15.703515Z",
     "shell.execute_reply.started": "2021-07-30T12:55:15.596706Z"
    }
   },
   "outputs": [
    {
     "data": {
      "text/plain": [
       "198"
      ]
     },
     "execution_count": 106,
     "metadata": {},
     "output_type": "execute_result"
    }
   ],
   "source": [
    "del weather\n",
    "import gc\n",
    "gc.collect()"
   ]
  },
  {
   "cell_type": "code",
   "execution_count": 107,
   "metadata": {
    "execution": {
     "iopub.execute_input": "2021-07-30T12:55:15.706273Z",
     "iopub.status.busy": "2021-07-30T12:55:15.705928Z",
     "iopub.status.idle": "2021-07-30T12:55:16.381309Z",
     "shell.execute_reply": "2021-07-30T12:55:16.380550Z",
     "shell.execute_reply.started": "2021-07-30T12:55:15.706234Z"
    }
   },
   "outputs": [
    {
     "data": {
      "text/plain": [
       "building_id               0\n",
       "meter                     0\n",
       "timestamp                 0\n",
       "meter_reading             0\n",
       "site_id                   0\n",
       "primary_use               0\n",
       "square_feet               0\n",
       "floor_count               0\n",
       "air_temperature       90495\n",
       "cloud_coverage        90495\n",
       "dew_temperature       90495\n",
       "precip_depth_1_hr     90495\n",
       "sea_level_pressure    90495\n",
       "wind_direction        90495\n",
       "wind_speed            90495\n",
       "dtype: int64"
      ]
     },
     "execution_count": 107,
     "metadata": {},
     "output_type": "execute_result"
    }
   ],
   "source": [
    "df.isna().sum()"
   ]
  },
  {
   "cell_type": "code",
   "execution_count": 108,
   "metadata": {
    "execution": {
     "iopub.execute_input": "2021-07-30T12:55:16.383001Z",
     "iopub.status.busy": "2021-07-30T12:55:16.382663Z",
     "iopub.status.idle": "2021-07-30T12:55:16.387619Z",
     "shell.execute_reply": "2021-07-30T12:55:16.386296Z",
     "shell.execute_reply.started": "2021-07-30T12:55:16.382964Z"
    }
   },
   "outputs": [],
   "source": [
    "#df.drop(['month','day'],axis=1,inplace=True)"
   ]
  },
  {
   "cell_type": "markdown",
   "metadata": {},
   "source": [
    "we got those because weather data is not given complete"
   ]
  },
  {
   "cell_type": "code",
   "execution_count": 109,
   "metadata": {
    "execution": {
     "iopub.execute_input": "2021-07-30T12:55:16.389606Z",
     "iopub.status.busy": "2021-07-30T12:55:16.389111Z",
     "iopub.status.idle": "2021-07-30T12:55:16.397805Z",
     "shell.execute_reply": "2021-07-30T12:55:16.396968Z",
     "shell.execute_reply.started": "2021-07-30T12:55:16.389552Z"
    }
   },
   "outputs": [],
   "source": [
    "#import pickle\n",
    "#with open('feature_changes','rb') as f:\n",
    "#    l=pickle.load(f)\n",
    "#with open('encoders.pkl','rb') as f:\n",
    "#    encoders=pickle.load(f)\n",
    "    "
   ]
  },
  {
   "cell_type": "code",
   "execution_count": 110,
   "metadata": {
    "execution": {
     "iopub.execute_input": "2021-07-30T12:55:16.399330Z",
     "iopub.status.busy": "2021-07-30T12:55:16.398954Z",
     "iopub.status.idle": "2021-07-30T12:55:16.541918Z",
     "shell.execute_reply": "2021-07-30T12:55:16.540886Z",
     "shell.execute_reply.started": "2021-07-30T12:55:16.399297Z"
    }
   },
   "outputs": [],
   "source": [
    "df['air_temperature'].fillna(value=l['fill_null/weather/air_temperature'],inplace=True)\n",
    "df['sea_level_pressure'].fillna(value=l['fill_null/weather/sea_level_pressure'],inplace=True)\n",
    "df['wind_speed'].fillna(value=l['fill_null/weather/wind_speed'],inplace=True)\n",
    "df['dew_temperature'].fillna(value=l['fill_null/weather/dew_temperature'],inplace=True)\n",
    "df['wind_direction'].fillna(value=l['fill_null/weather/wind_direction'],inplace=True)"
   ]
  },
  {
   "cell_type": "code",
   "execution_count": 111,
   "metadata": {
    "execution": {
     "iopub.execute_input": "2021-07-30T12:55:16.543749Z",
     "iopub.status.busy": "2021-07-30T12:55:16.543295Z",
     "iopub.status.idle": "2021-07-30T12:55:16.551398Z",
     "shell.execute_reply": "2021-07-30T12:55:16.550406Z",
     "shell.execute_reply.started": "2021-07-30T12:55:16.543701Z"
    }
   },
   "outputs": [],
   "source": [
    "def fill_cloud(site):\n",
    "    if str(feature_changes['fill_null/weather/cloud_coverage'][site])=='nan':\n",
    "        return feature_changes['fill_null/weather/cloud_coverage_cloud_fill_nan']\n",
    "    else:\n",
    "        return feature_changes['fill_null/weather/cloud_coverage'][site]\n",
    "def fill_precip(site):\n",
    "    if str(feature_changes['fill_null/weather/precip_depth_1_hr'][site])=='nan':\n",
    "        return feature_changes['fill_null/weather/precip_depth_1_hr_precip_fill_nan']\n",
    "    else:\n",
    "        return feature_changes['fill_null/weather/precip_depth_1_hr'][site]\n",
    "    "
   ]
  },
  {
   "cell_type": "code",
   "execution_count": 112,
   "metadata": {
    "execution": {
     "iopub.execute_input": "2021-07-30T12:55:16.553521Z",
     "iopub.status.busy": "2021-07-30T12:55:16.552980Z",
     "iopub.status.idle": "2021-07-30T12:55:16.561876Z",
     "shell.execute_reply": "2021-07-30T12:55:16.560918Z",
     "shell.execute_reply.started": "2021-07-30T12:55:16.553481Z"
    }
   },
   "outputs": [],
   "source": [
    "#df['month']=df['timestamp'].dt.month\n",
    "#df['day']=df['timestamp'].dt.day"
   ]
  },
  {
   "cell_type": "code",
   "execution_count": 113,
   "metadata": {
    "execution": {
     "iopub.execute_input": "2021-07-30T12:55:16.563875Z",
     "iopub.status.busy": "2021-07-30T12:55:16.563382Z",
     "iopub.status.idle": "2021-07-30T12:55:17.082547Z",
     "shell.execute_reply": "2021-07-30T12:55:17.081355Z",
     "shell.execute_reply.started": "2021-07-30T12:55:16.563833Z"
    }
   },
   "outputs": [
    {
     "data": {
      "text/plain": [
       "building_id               0\n",
       "meter                     0\n",
       "timestamp                 0\n",
       "meter_reading             0\n",
       "site_id                   0\n",
       "primary_use               0\n",
       "square_feet               0\n",
       "floor_count               0\n",
       "air_temperature           0\n",
       "cloud_coverage        90495\n",
       "dew_temperature           0\n",
       "precip_depth_1_hr     90495\n",
       "sea_level_pressure        0\n",
       "wind_direction            0\n",
       "wind_speed                0\n",
       "dtype: int64"
      ]
     },
     "execution_count": 113,
     "metadata": {},
     "output_type": "execute_result"
    }
   ],
   "source": [
    "df.isna().sum()"
   ]
  },
  {
   "cell_type": "code",
   "execution_count": 114,
   "metadata": {
    "execution": {
     "iopub.execute_input": "2021-07-30T12:55:17.084559Z",
     "iopub.status.busy": "2021-07-30T12:55:17.084154Z",
     "iopub.status.idle": "2021-07-30T12:55:17.438242Z",
     "shell.execute_reply": "2021-07-30T12:55:17.437294Z",
     "shell.execute_reply.started": "2021-07-30T12:55:17.084517Z"
    }
   },
   "outputs": [],
   "source": [
    "df.loc[df['cloud_coverage'].isnull()==True,'cloud_coverage']=df.loc[df['cloud_coverage'].isnull()==True,'site_id'].apply(fill_cloud)"
   ]
  },
  {
   "cell_type": "code",
   "execution_count": 115,
   "metadata": {
    "execution": {
     "iopub.execute_input": "2021-07-30T12:55:17.440067Z",
     "iopub.status.busy": "2021-07-30T12:55:17.439695Z",
     "iopub.status.idle": "2021-07-30T12:55:17.792954Z",
     "shell.execute_reply": "2021-07-30T12:55:17.792098Z",
     "shell.execute_reply.started": "2021-07-30T12:55:17.440027Z"
    }
   },
   "outputs": [],
   "source": [
    "df.loc[df['precip_depth_1_hr'].isnull()==True,'precip_depth_1_hr']=df.loc[df['precip_depth_1_hr'].isnull()==True,'site_id'].apply(fill_precip)"
   ]
  },
  {
   "cell_type": "code",
   "execution_count": 116,
   "metadata": {
    "execution": {
     "iopub.execute_input": "2021-07-30T12:55:17.794480Z",
     "iopub.status.busy": "2021-07-30T12:55:17.794154Z",
     "iopub.status.idle": "2021-07-30T12:55:17.800175Z",
     "shell.execute_reply": "2021-07-30T12:55:17.799293Z",
     "shell.execute_reply.started": "2021-07-30T12:55:17.794447Z"
    }
   },
   "outputs": [],
   "source": [
    "#df.drop('month',axis=1,inplace=True)\n",
    "#df.drop('day',axis=1,inplace=True)"
   ]
  },
  {
   "cell_type": "code",
   "execution_count": 117,
   "metadata": {
    "execution": {
     "iopub.execute_input": "2021-07-30T12:55:17.801913Z",
     "iopub.status.busy": "2021-07-30T12:55:17.801547Z",
     "iopub.status.idle": "2021-07-30T12:55:18.318182Z",
     "shell.execute_reply": "2021-07-30T12:55:18.317085Z",
     "shell.execute_reply.started": "2021-07-30T12:55:17.801880Z"
    }
   },
   "outputs": [
    {
     "data": {
      "text/plain": [
       "building_id           0\n",
       "meter                 0\n",
       "timestamp             0\n",
       "meter_reading         0\n",
       "site_id               0\n",
       "primary_use           0\n",
       "square_feet           0\n",
       "floor_count           0\n",
       "air_temperature       0\n",
       "cloud_coverage        0\n",
       "dew_temperature       0\n",
       "precip_depth_1_hr     0\n",
       "sea_level_pressure    0\n",
       "wind_direction        0\n",
       "wind_speed            0\n",
       "dtype: int64"
      ]
     },
     "execution_count": 117,
     "metadata": {},
     "output_type": "execute_result"
    }
   ],
   "source": [
    "df.isna().sum()"
   ]
  },
  {
   "cell_type": "code",
   "execution_count": 118,
   "metadata": {
    "execution": {
     "iopub.execute_input": "2021-07-30T12:55:18.320233Z",
     "iopub.status.busy": "2021-07-30T12:55:18.319842Z",
     "iopub.status.idle": "2021-07-30T12:55:18.344066Z",
     "shell.execute_reply": "2021-07-30T12:55:18.343144Z",
     "shell.execute_reply.started": "2021-07-30T12:55:18.320191Z"
    }
   },
   "outputs": [
    {
     "data": {
      "text/html": [
       "<div>\n",
       "<style scoped>\n",
       "    .dataframe tbody tr th:only-of-type {\n",
       "        vertical-align: middle;\n",
       "    }\n",
       "\n",
       "    .dataframe tbody tr th {\n",
       "        vertical-align: top;\n",
       "    }\n",
       "\n",
       "    .dataframe thead th {\n",
       "        text-align: right;\n",
       "    }\n",
       "</style>\n",
       "<table border=\"1\" class=\"dataframe\">\n",
       "  <thead>\n",
       "    <tr style=\"text-align: right;\">\n",
       "      <th></th>\n",
       "      <th>building_id</th>\n",
       "      <th>meter</th>\n",
       "      <th>timestamp</th>\n",
       "      <th>meter_reading</th>\n",
       "      <th>site_id</th>\n",
       "      <th>primary_use</th>\n",
       "      <th>square_feet</th>\n",
       "      <th>floor_count</th>\n",
       "      <th>air_temperature</th>\n",
       "      <th>cloud_coverage</th>\n",
       "      <th>dew_temperature</th>\n",
       "      <th>precip_depth_1_hr</th>\n",
       "      <th>sea_level_pressure</th>\n",
       "      <th>wind_direction</th>\n",
       "      <th>wind_speed</th>\n",
       "    </tr>\n",
       "  </thead>\n",
       "  <tbody>\n",
       "    <tr>\n",
       "      <th>0</th>\n",
       "      <td>0</td>\n",
       "      <td>0</td>\n",
       "      <td>2016-01-01</td>\n",
       "      <td>0.0</td>\n",
       "      <td>0</td>\n",
       "      <td>0</td>\n",
       "      <td>7432</td>\n",
       "      <td>2.0</td>\n",
       "      <td>25.0</td>\n",
       "      <td>6.0</td>\n",
       "      <td>20.0</td>\n",
       "      <td>1.382557</td>\n",
       "      <td>1019.7</td>\n",
       "      <td>0.0</td>\n",
       "      <td>0.0</td>\n",
       "    </tr>\n",
       "    <tr>\n",
       "      <th>1</th>\n",
       "      <td>1</td>\n",
       "      <td>0</td>\n",
       "      <td>2016-01-01</td>\n",
       "      <td>0.0</td>\n",
       "      <td>0</td>\n",
       "      <td>0</td>\n",
       "      <td>2720</td>\n",
       "      <td>2.0</td>\n",
       "      <td>25.0</td>\n",
       "      <td>6.0</td>\n",
       "      <td>20.0</td>\n",
       "      <td>1.382557</td>\n",
       "      <td>1019.7</td>\n",
       "      <td>0.0</td>\n",
       "      <td>0.0</td>\n",
       "    </tr>\n",
       "    <tr>\n",
       "      <th>2</th>\n",
       "      <td>2</td>\n",
       "      <td>0</td>\n",
       "      <td>2016-01-01</td>\n",
       "      <td>0.0</td>\n",
       "      <td>0</td>\n",
       "      <td>0</td>\n",
       "      <td>5376</td>\n",
       "      <td>2.0</td>\n",
       "      <td>25.0</td>\n",
       "      <td>6.0</td>\n",
       "      <td>20.0</td>\n",
       "      <td>1.382557</td>\n",
       "      <td>1019.7</td>\n",
       "      <td>0.0</td>\n",
       "      <td>0.0</td>\n",
       "    </tr>\n",
       "    <tr>\n",
       "      <th>3</th>\n",
       "      <td>3</td>\n",
       "      <td>0</td>\n",
       "      <td>2016-01-01</td>\n",
       "      <td>0.0</td>\n",
       "      <td>0</td>\n",
       "      <td>0</td>\n",
       "      <td>23685</td>\n",
       "      <td>2.0</td>\n",
       "      <td>25.0</td>\n",
       "      <td>6.0</td>\n",
       "      <td>20.0</td>\n",
       "      <td>1.382557</td>\n",
       "      <td>1019.7</td>\n",
       "      <td>0.0</td>\n",
       "      <td>0.0</td>\n",
       "    </tr>\n",
       "    <tr>\n",
       "      <th>4</th>\n",
       "      <td>4</td>\n",
       "      <td>0</td>\n",
       "      <td>2016-01-01</td>\n",
       "      <td>0.0</td>\n",
       "      <td>0</td>\n",
       "      <td>0</td>\n",
       "      <td>116607</td>\n",
       "      <td>2.0</td>\n",
       "      <td>25.0</td>\n",
       "      <td>6.0</td>\n",
       "      <td>20.0</td>\n",
       "      <td>1.382557</td>\n",
       "      <td>1019.7</td>\n",
       "      <td>0.0</td>\n",
       "      <td>0.0</td>\n",
       "    </tr>\n",
       "  </tbody>\n",
       "</table>\n",
       "</div>"
      ],
      "text/plain": [
       "   building_id  meter  timestamp  meter_reading  site_id  primary_use  \\\n",
       "0            0      0 2016-01-01            0.0        0            0   \n",
       "1            1      0 2016-01-01            0.0        0            0   \n",
       "2            2      0 2016-01-01            0.0        0            0   \n",
       "3            3      0 2016-01-01            0.0        0            0   \n",
       "4            4      0 2016-01-01            0.0        0            0   \n",
       "\n",
       "   square_feet  floor_count  air_temperature  cloud_coverage  dew_temperature  \\\n",
       "0         7432          2.0             25.0             6.0             20.0   \n",
       "1         2720          2.0             25.0             6.0             20.0   \n",
       "2         5376          2.0             25.0             6.0             20.0   \n",
       "3        23685          2.0             25.0             6.0             20.0   \n",
       "4       116607          2.0             25.0             6.0             20.0   \n",
       "\n",
       "   precip_depth_1_hr  sea_level_pressure  wind_direction  wind_speed  \n",
       "0           1.382557              1019.7             0.0         0.0  \n",
       "1           1.382557              1019.7             0.0         0.0  \n",
       "2           1.382557              1019.7             0.0         0.0  \n",
       "3           1.382557              1019.7             0.0         0.0  \n",
       "4           1.382557              1019.7             0.0         0.0  "
      ]
     },
     "execution_count": 118,
     "metadata": {},
     "output_type": "execute_result"
    }
   ],
   "source": [
    "df.head()"
   ]
  },
  {
   "cell_type": "code",
   "execution_count": 119,
   "metadata": {
    "execution": {
     "iopub.execute_input": "2021-07-30T12:55:18.346039Z",
     "iopub.status.busy": "2021-07-30T12:55:18.345674Z",
     "iopub.status.idle": "2021-07-30T12:55:18.353027Z",
     "shell.execute_reply": "2021-07-30T12:55:18.352138Z",
     "shell.execute_reply.started": "2021-07-30T12:55:18.346001Z"
    }
   },
   "outputs": [],
   "source": [
    "#df['month']=df['timestamp'].dt.month\n",
    "#df['day']=df['timestamp'].dt.day"
   ]
  },
  {
   "cell_type": "code",
   "execution_count": 120,
   "metadata": {
    "execution": {
     "iopub.execute_input": "2021-07-30T12:55:18.354775Z",
     "iopub.status.busy": "2021-07-30T12:55:18.354387Z",
     "iopub.status.idle": "2021-07-30T12:55:29.018260Z",
     "shell.execute_reply": "2021-07-30T12:55:29.017325Z",
     "shell.execute_reply.started": "2021-07-30T12:55:18.354711Z"
    }
   },
   "outputs": [],
   "source": [
    "df['day_of_week']=df['timestamp'].dt.weekday\n",
    "df['hour']=df['timestamp'].dt.hour\n",
    "df['week_of_year']=df['timestamp'].dt.isocalendar().week\n",
    "df['week_end']=np.where(df['timestamp'].dt.weekday<=4,0,1)\n",
    "df.drop('timestamp',axis=1,inplace=True)"
   ]
  },
  {
   "cell_type": "code",
   "execution_count": 121,
   "metadata": {
    "execution": {
     "iopub.execute_input": "2021-07-30T12:55:29.019939Z",
     "iopub.status.busy": "2021-07-30T12:55:29.019569Z",
     "iopub.status.idle": "2021-07-30T12:55:29.026203Z",
     "shell.execute_reply": "2021-07-30T12:55:29.025324Z",
     "shell.execute_reply.started": "2021-07-30T12:55:29.019904Z"
    }
   },
   "outputs": [],
   "source": [
    "from sklearn.preprocessing import LabelEncoder"
   ]
  },
  {
   "cell_type": "code",
   "execution_count": 122,
   "metadata": {
    "execution": {
     "iopub.execute_input": "2021-07-30T12:55:29.028015Z",
     "iopub.status.busy": "2021-07-30T12:55:29.027474Z",
     "iopub.status.idle": "2021-07-30T12:55:29.040285Z",
     "shell.execute_reply": "2021-07-30T12:55:29.039303Z",
     "shell.execute_reply.started": "2021-07-30T12:55:29.027972Z"
    }
   },
   "outputs": [
    {
     "data": {
      "text/plain": [
       "Index(['building_id', 'meter', 'meter_reading', 'site_id', 'primary_use',\n",
       "       'square_feet', 'floor_count', 'air_temperature', 'cloud_coverage',\n",
       "       'dew_temperature', 'precip_depth_1_hr', 'sea_level_pressure',\n",
       "       'wind_direction', 'wind_speed', 'day_of_week', 'hour', 'week_of_year',\n",
       "       'week_end'],\n",
       "      dtype='object')"
      ]
     },
     "execution_count": 122,
     "metadata": {},
     "output_type": "execute_result"
    }
   ],
   "source": [
    "df.columns"
   ]
  },
  {
   "cell_type": "code",
   "execution_count": 123,
   "metadata": {
    "execution": {
     "iopub.execute_input": "2021-07-30T12:55:29.042292Z",
     "iopub.status.busy": "2021-07-30T12:55:29.041895Z",
     "iopub.status.idle": "2021-07-30T12:55:29.047224Z",
     "shell.execute_reply": "2021-07-30T12:55:29.046064Z",
     "shell.execute_reply.started": "2021-07-30T12:55:29.042255Z"
    }
   },
   "outputs": [],
   "source": [
    "categorical_columns=['building_id', 'meter', 'site_id', 'primary_use',\n",
    "        'day_of_week','hour', 'week_of_year', 'week_end']"
   ]
  },
  {
   "cell_type": "code",
   "execution_count": 124,
   "metadata": {
    "execution": {
     "iopub.execute_input": "2021-07-30T12:55:29.049171Z",
     "iopub.status.busy": "2021-07-30T12:55:29.048735Z",
     "iopub.status.idle": "2021-07-30T12:55:42.128021Z",
     "shell.execute_reply": "2021-07-30T12:55:42.127091Z",
     "shell.execute_reply.started": "2021-07-30T12:55:29.049132Z"
    }
   },
   "outputs": [],
   "source": [
    "for col in ['building_id', 'meter', 'site_id','day_of_week','hour', 'week_of_year', 'week_end']:\n",
    "    encoder=LabelEncoder()\n",
    "    df[col]=encoder.fit_transform(df[col])\n",
    "    encoders[col]=encoder"
   ]
  },
  {
   "cell_type": "code",
   "execution_count": 125,
   "metadata": {
    "execution": {
     "iopub.execute_input": "2021-07-30T12:55:42.129752Z",
     "iopub.status.busy": "2021-07-30T12:55:42.129378Z",
     "iopub.status.idle": "2021-07-30T12:55:42.136037Z",
     "shell.execute_reply": "2021-07-30T12:55:42.135152Z",
     "shell.execute_reply.started": "2021-07-30T12:55:42.129718Z"
    }
   },
   "outputs": [
    {
     "name": "stdout",
     "output_type": "stream",
     "text": [
      "for primary_use we got ['Education' 'Entertainment/public assembly' 'Food sales and service'\n",
      " 'Healthcare' 'Lodging/residential' 'Manufacturing/industrial' 'Office'\n",
      " 'Other' 'Parking' 'Public services' 'Religious worship' 'Retail'\n",
      " 'Services' 'Technology/science' 'Utility' 'Warehouse/storage']\n",
      "for building_id we got [   0    1    2 ... 1446 1447 1448]\n",
      "for meter we got [0 1 2 3]\n",
      "for site_id we got [ 0  1  2  3  4  5  6  7  8  9 10 11 12 13 14 15]\n",
      "for day_of_week we got [0 1 2 3 4 5 6]\n",
      "for hour we got [ 0  1  2  3  4  5  6  7  8  9 10 11 12 13 14 15 16 17 18 19 20 21 22 23]\n",
      "for week_of_year we got [1 2 3 4 5 6 7 8 9 10 11 12 13 14 15 16 17 18 19 20 21 22 23 24 25 26 27\n",
      " 28 29 30 31 32 33 34 35 36 37 38 39 40 41 42 43 44 45 46 47 48 49 50 51\n",
      " 52 53]\n",
      "for week_end we got [0 1]\n"
     ]
    }
   ],
   "source": [
    "for col,encoder in encoders.items():\n",
    "    print(f\"for {col} we got {encoder.classes_}\")"
   ]
  },
  {
   "cell_type": "code",
   "execution_count": 126,
   "metadata": {
    "execution": {
     "iopub.execute_input": "2021-07-30T12:55:42.137858Z",
     "iopub.status.busy": "2021-07-30T12:55:42.137303Z",
     "iopub.status.idle": "2021-07-30T12:55:42.155261Z",
     "shell.execute_reply": "2021-07-30T12:55:42.154155Z",
     "shell.execute_reply.started": "2021-07-30T12:55:42.137824Z"
    }
   },
   "outputs": [
    {
     "data": {
      "text/plain": [
       "Index(['building_id', 'meter', 'meter_reading', 'site_id', 'primary_use',\n",
       "       'square_feet', 'floor_count', 'air_temperature', 'cloud_coverage',\n",
       "       'dew_temperature', 'precip_depth_1_hr', 'sea_level_pressure',\n",
       "       'wind_direction', 'wind_speed', 'day_of_week', 'hour', 'week_of_year',\n",
       "       'week_end'],\n",
       "      dtype='object')"
      ]
     },
     "execution_count": 126,
     "metadata": {},
     "output_type": "execute_result"
    }
   ],
   "source": [
    "df.columns"
   ]
  },
  {
   "cell_type": "code",
   "execution_count": 127,
   "metadata": {
    "execution": {
     "iopub.execute_input": "2021-07-30T12:55:42.157391Z",
     "iopub.status.busy": "2021-07-30T12:55:42.156915Z",
     "iopub.status.idle": "2021-07-30T12:55:42.164018Z",
     "shell.execute_reply": "2021-07-30T12:55:42.162824Z",
     "shell.execute_reply.started": "2021-07-30T12:55:42.157349Z"
    }
   },
   "outputs": [],
   "source": [
    "total_columns=['building_id', 'meter','site_id', 'primary_use',\n",
    "       'square_feet', 'floor_count', 'air_temperature', 'cloud_coverage',\n",
    "       'dew_temperature', 'precip_depth_1_hr', 'sea_level_pressure',\n",
    "       'wind_direction', 'wind_speed', 'day_of_week', 'hour', 'week_of_year',\n",
    "       'week_end']"
   ]
  },
  {
   "cell_type": "code",
   "execution_count": 128,
   "metadata": {
    "execution": {
     "iopub.execute_input": "2021-07-30T12:55:42.170495Z",
     "iopub.status.busy": "2021-07-30T12:55:42.169776Z",
     "iopub.status.idle": "2021-07-30T12:55:42.176675Z",
     "shell.execute_reply": "2021-07-30T12:55:42.175756Z",
     "shell.execute_reply.started": "2021-07-30T12:55:42.170433Z"
    }
   },
   "outputs": [],
   "source": [
    "with open(\"encoders.pkl\",'wb') as f:\n",
    "    pickle.dump(encoders,f)\n",
    "with open(\"categorical_columns\",'wb') as f:\n",
    "    pickle.dump(categorical_columns,f)\n",
    "with open(\"total_columns.pkl\",'wb') as f:\n",
    "    pickle.dump(total_columns,f)"
   ]
  },
  {
   "cell_type": "code",
   "execution_count": 129,
   "metadata": {
    "execution": {
     "iopub.execute_input": "2021-07-30T12:55:42.179237Z",
     "iopub.status.busy": "2021-07-30T12:55:42.178770Z",
     "iopub.status.idle": "2021-07-30T12:55:42.184796Z",
     "shell.execute_reply": "2021-07-30T12:55:42.183967Z",
     "shell.execute_reply.started": "2021-07-30T12:55:42.179203Z"
    }
   },
   "outputs": [],
   "source": [
    "#df.to_csv('data_final.csv',index=False)"
   ]
  },
  {
   "cell_type": "code",
   "execution_count": 130,
   "metadata": {
    "execution": {
     "iopub.execute_input": "2021-07-30T12:55:42.187332Z",
     "iopub.status.busy": "2021-07-30T12:55:42.187049Z",
     "iopub.status.idle": "2021-07-30T12:55:42.193244Z",
     "shell.execute_reply": "2021-07-30T12:55:42.192455Z",
     "shell.execute_reply.started": "2021-07-30T12:55:42.187303Z"
    }
   },
   "outputs": [],
   "source": [
    "#del total_columns,encoders,categorical_columns\n",
    "#import gc\n",
    "#gc.collect()"
   ]
  },
  {
   "cell_type": "markdown",
   "metadata": {},
   "source": [
    "# Model building"
   ]
  },
  {
   "cell_type": "code",
   "execution_count": 131,
   "metadata": {
    "execution": {
     "iopub.execute_input": "2021-07-30T12:55:42.194950Z",
     "iopub.status.busy": "2021-07-30T12:55:42.194577Z",
     "iopub.status.idle": "2021-07-30T12:55:42.202058Z",
     "shell.execute_reply": "2021-07-30T12:55:42.201146Z",
     "shell.execute_reply.started": "2021-07-30T12:55:42.194880Z"
    }
   },
   "outputs": [],
   "source": [
    "#import numpy as np\n",
    "#import pandas as pd\n",
    "#import matplotlib.pyplot as plt\n",
    "#import gc\n",
    "#import seaborn as sn\n",
    "#from tqdm import tqdm\n",
    "#%matplotlib inline"
   ]
  },
  {
   "cell_type": "code",
   "execution_count": 132,
   "metadata": {
    "execution": {
     "iopub.execute_input": "2021-07-30T12:55:42.203870Z",
     "iopub.status.busy": "2021-07-30T12:55:42.203467Z",
     "iopub.status.idle": "2021-07-30T12:55:42.211195Z",
     "shell.execute_reply": "2021-07-30T12:55:42.210381Z",
     "shell.execute_reply.started": "2021-07-30T12:55:42.203837Z"
    },
    "id": "JyCB-1i-JaqH"
   },
   "outputs": [],
   "source": [
    "#df=pd.read_csv(\"data_final.csv\")"
   ]
  },
  {
   "cell_type": "code",
   "execution_count": 6,
   "metadata": {
    "execution": {
     "iopub.execute_input": "2021-07-30T13:14:24.252692Z",
     "iopub.status.busy": "2021-07-30T13:14:24.252330Z",
     "iopub.status.idle": "2021-07-30T13:14:24.266638Z",
     "shell.execute_reply": "2021-07-30T13:14:24.265676Z",
     "shell.execute_reply.started": "2021-07-30T13:14:24.252656Z"
    }
   },
   "outputs": [],
   "source": [
    "#https://www.kaggle.com/gemartin/load-data-reduce-memory-usage by @gemartin\n",
    "from pandas.api.types import is_datetime64_any_dtype as is_datetime\n",
    "from pandas.api.types import is_categorical_dtype\n",
    "\n",
    "def reduce_mem_usage(df, use_float16=False):\n",
    "    \"\"\" iterate through all the columns of a dataframe and modify the data type\n",
    "        to reduce memory usage.        \n",
    "    \"\"\"\n",
    "    start_mem = df.memory_usage().sum() / 1024**2\n",
    "    print('Memory usage of dataframe is {:.2f} MB'.format(start_mem))\n",
    "    \n",
    "    for col in df.columns:\n",
    "        if is_datetime(df[col]) or is_categorical_dtype(df[col]):\n",
    "            continue\n",
    "        col_type = df[col].dtype\n",
    "        \n",
    "        if col_type != object:\n",
    "            c_min = df[col].min()\n",
    "            c_max = df[col].max()\n",
    "            if str(col_type)[:3] == 'int':\n",
    "                if c_min > np.iinfo(np.int8).min and c_max < np.iinfo(np.int8).max:\n",
    "                    df[col] = df[col].astype(np.int8)\n",
    "                elif c_min > np.iinfo(np.int16).min and c_max < np.iinfo(np.int16).max:\n",
    "                    df[col] = df[col].astype(np.int16)\n",
    "                elif c_min > np.iinfo(np.int32).min and c_max < np.iinfo(np.int32).max:\n",
    "                    df[col] = df[col].astype(np.int32)\n",
    "                elif c_min > np.iinfo(np.int64).min and c_max < np.iinfo(np.int64).max:\n",
    "                    df[col] = df[col].astype(np.int64)  \n",
    "            else:\n",
    "                if use_float16 and c_min > np.finfo(np.float16).min and c_max < np.finfo(np.float16).max:\n",
    "                    df[col] = df[col].astype(np.float16)\n",
    "                elif c_min > np.finfo(np.float32).min and c_max < np.finfo(np.float32).max:\n",
    "                    df[col] = df[col].astype(np.float32)\n",
    "                else:\n",
    "                    df[col] = df[col].astype(np.float64)\n",
    "        else:\n",
    "            df[col] = df[col].astype('category')\n",
    "\n",
    "    end_mem = df.memory_usage().sum() / 1024**2\n",
    "    print('Memory usage after optimization is: {:.2f} MB'.format(end_mem))\n",
    "    print('Decreased by {:.1f}%'.format(100 * (start_mem - end_mem) / start_mem))\n",
    "    \n",
    "    return df\n"
   ]
  },
  {
   "cell_type": "code",
   "execution_count": 134,
   "metadata": {
    "execution": {
     "iopub.execute_input": "2021-07-30T12:55:42.230986Z",
     "iopub.status.busy": "2021-07-30T12:55:42.230369Z",
     "iopub.status.idle": "2021-07-30T12:55:48.367874Z",
     "shell.execute_reply": "2021-07-30T12:55:48.367048Z",
     "shell.execute_reply.started": "2021-07-30T12:55:42.230949Z"
    },
    "id": "U2vCK2j1JaqH",
    "outputId": "3ad1e99a-0c40-4ddd-db23-7335ae768416"
   },
   "outputs": [
    {
     "name": "stdout",
     "output_type": "stream",
     "text": [
      "Memory usage of dataframe is 2930.50 MB\n",
      "Memory usage after optimization is: 790.46 MB\n",
      "Decreased by 73.0%\n"
     ]
    }
   ],
   "source": [
    "df=reduce_mem_usage(df,use_float16=True)"
   ]
  },
  {
   "cell_type": "code",
   "execution_count": 135,
   "metadata": {
    "execution": {
     "iopub.execute_input": "2021-07-30T12:55:48.369463Z",
     "iopub.status.busy": "2021-07-30T12:55:48.369125Z",
     "iopub.status.idle": "2021-07-30T12:55:48.381848Z",
     "shell.execute_reply": "2021-07-30T12:55:48.380842Z",
     "shell.execute_reply.started": "2021-07-30T12:55:48.369426Z"
    },
    "id": "v_VpO0rTJaqH",
    "outputId": "21674150-a984-4906-d00d-0b7f00a12bc6",
    "scrolled": true
   },
   "outputs": [
    {
     "name": "stdout",
     "output_type": "stream",
     "text": [
      "<class 'pandas.core.frame.DataFrame'>\n",
      "Int64Index: 20216100 entries, 0 to 20216099\n",
      "Data columns (total 18 columns):\n",
      " #   Column              Dtype  \n",
      "---  ------              -----  \n",
      " 0   building_id         int16  \n",
      " 1   meter               int8   \n",
      " 2   meter_reading       float32\n",
      " 3   site_id             int8   \n",
      " 4   primary_use         int8   \n",
      " 5   square_feet         int32  \n",
      " 6   floor_count         float16\n",
      " 7   air_temperature     float16\n",
      " 8   cloud_coverage      float16\n",
      " 9   dew_temperature     float16\n",
      " 10  precip_depth_1_hr   float16\n",
      " 11  sea_level_pressure  float16\n",
      " 12  wind_direction      float16\n",
      " 13  wind_speed          float16\n",
      " 14  day_of_week         int8   \n",
      " 15  hour                int8   \n",
      " 16  week_of_year        int8   \n",
      " 17  week_end            int8   \n",
      "dtypes: float16(8), float32(1), int16(1), int32(1), int8(7)\n",
      "memory usage: 790.5 MB\n"
     ]
    }
   ],
   "source": [
    "df.info()"
   ]
  },
  {
   "cell_type": "code",
   "execution_count": 136,
   "metadata": {
    "execution": {
     "iopub.execute_input": "2021-07-30T12:55:48.383630Z",
     "iopub.status.busy": "2021-07-30T12:55:48.383259Z",
     "iopub.status.idle": "2021-07-30T12:55:48.410511Z",
     "shell.execute_reply": "2021-07-30T12:55:48.409739Z",
     "shell.execute_reply.started": "2021-07-30T12:55:48.383582Z"
    }
   },
   "outputs": [
    {
     "data": {
      "text/html": [
       "<div>\n",
       "<style scoped>\n",
       "    .dataframe tbody tr th:only-of-type {\n",
       "        vertical-align: middle;\n",
       "    }\n",
       "\n",
       "    .dataframe tbody tr th {\n",
       "        vertical-align: top;\n",
       "    }\n",
       "\n",
       "    .dataframe thead th {\n",
       "        text-align: right;\n",
       "    }\n",
       "</style>\n",
       "<table border=\"1\" class=\"dataframe\">\n",
       "  <thead>\n",
       "    <tr style=\"text-align: right;\">\n",
       "      <th></th>\n",
       "      <th>building_id</th>\n",
       "      <th>meter</th>\n",
       "      <th>meter_reading</th>\n",
       "      <th>site_id</th>\n",
       "      <th>primary_use</th>\n",
       "      <th>square_feet</th>\n",
       "      <th>floor_count</th>\n",
       "      <th>air_temperature</th>\n",
       "      <th>cloud_coverage</th>\n",
       "      <th>dew_temperature</th>\n",
       "      <th>precip_depth_1_hr</th>\n",
       "      <th>sea_level_pressure</th>\n",
       "      <th>wind_direction</th>\n",
       "      <th>wind_speed</th>\n",
       "      <th>day_of_week</th>\n",
       "      <th>hour</th>\n",
       "      <th>week_of_year</th>\n",
       "      <th>week_end</th>\n",
       "    </tr>\n",
       "  </thead>\n",
       "  <tbody>\n",
       "    <tr>\n",
       "      <th>0</th>\n",
       "      <td>0</td>\n",
       "      <td>0</td>\n",
       "      <td>0.0</td>\n",
       "      <td>0</td>\n",
       "      <td>0</td>\n",
       "      <td>7432</td>\n",
       "      <td>2.0</td>\n",
       "      <td>25.0</td>\n",
       "      <td>6.0</td>\n",
       "      <td>20.0</td>\n",
       "      <td>1.382812</td>\n",
       "      <td>1019.5</td>\n",
       "      <td>0.0</td>\n",
       "      <td>0.0</td>\n",
       "      <td>4</td>\n",
       "      <td>0</td>\n",
       "      <td>52</td>\n",
       "      <td>0</td>\n",
       "    </tr>\n",
       "    <tr>\n",
       "      <th>1</th>\n",
       "      <td>1</td>\n",
       "      <td>0</td>\n",
       "      <td>0.0</td>\n",
       "      <td>0</td>\n",
       "      <td>0</td>\n",
       "      <td>2720</td>\n",
       "      <td>2.0</td>\n",
       "      <td>25.0</td>\n",
       "      <td>6.0</td>\n",
       "      <td>20.0</td>\n",
       "      <td>1.382812</td>\n",
       "      <td>1019.5</td>\n",
       "      <td>0.0</td>\n",
       "      <td>0.0</td>\n",
       "      <td>4</td>\n",
       "      <td>0</td>\n",
       "      <td>52</td>\n",
       "      <td>0</td>\n",
       "    </tr>\n",
       "    <tr>\n",
       "      <th>2</th>\n",
       "      <td>2</td>\n",
       "      <td>0</td>\n",
       "      <td>0.0</td>\n",
       "      <td>0</td>\n",
       "      <td>0</td>\n",
       "      <td>5376</td>\n",
       "      <td>2.0</td>\n",
       "      <td>25.0</td>\n",
       "      <td>6.0</td>\n",
       "      <td>20.0</td>\n",
       "      <td>1.382812</td>\n",
       "      <td>1019.5</td>\n",
       "      <td>0.0</td>\n",
       "      <td>0.0</td>\n",
       "      <td>4</td>\n",
       "      <td>0</td>\n",
       "      <td>52</td>\n",
       "      <td>0</td>\n",
       "    </tr>\n",
       "    <tr>\n",
       "      <th>3</th>\n",
       "      <td>3</td>\n",
       "      <td>0</td>\n",
       "      <td>0.0</td>\n",
       "      <td>0</td>\n",
       "      <td>0</td>\n",
       "      <td>23685</td>\n",
       "      <td>2.0</td>\n",
       "      <td>25.0</td>\n",
       "      <td>6.0</td>\n",
       "      <td>20.0</td>\n",
       "      <td>1.382812</td>\n",
       "      <td>1019.5</td>\n",
       "      <td>0.0</td>\n",
       "      <td>0.0</td>\n",
       "      <td>4</td>\n",
       "      <td>0</td>\n",
       "      <td>52</td>\n",
       "      <td>0</td>\n",
       "    </tr>\n",
       "    <tr>\n",
       "      <th>4</th>\n",
       "      <td>4</td>\n",
       "      <td>0</td>\n",
       "      <td>0.0</td>\n",
       "      <td>0</td>\n",
       "      <td>0</td>\n",
       "      <td>116607</td>\n",
       "      <td>2.0</td>\n",
       "      <td>25.0</td>\n",
       "      <td>6.0</td>\n",
       "      <td>20.0</td>\n",
       "      <td>1.382812</td>\n",
       "      <td>1019.5</td>\n",
       "      <td>0.0</td>\n",
       "      <td>0.0</td>\n",
       "      <td>4</td>\n",
       "      <td>0</td>\n",
       "      <td>52</td>\n",
       "      <td>0</td>\n",
       "    </tr>\n",
       "  </tbody>\n",
       "</table>\n",
       "</div>"
      ],
      "text/plain": [
       "   building_id  meter  meter_reading  site_id  primary_use  square_feet  \\\n",
       "0            0      0            0.0        0            0         7432   \n",
       "1            1      0            0.0        0            0         2720   \n",
       "2            2      0            0.0        0            0         5376   \n",
       "3            3      0            0.0        0            0        23685   \n",
       "4            4      0            0.0        0            0       116607   \n",
       "\n",
       "   floor_count  air_temperature  cloud_coverage  dew_temperature  \\\n",
       "0          2.0             25.0             6.0             20.0   \n",
       "1          2.0             25.0             6.0             20.0   \n",
       "2          2.0             25.0             6.0             20.0   \n",
       "3          2.0             25.0             6.0             20.0   \n",
       "4          2.0             25.0             6.0             20.0   \n",
       "\n",
       "   precip_depth_1_hr  sea_level_pressure  wind_direction  wind_speed  \\\n",
       "0           1.382812              1019.5             0.0         0.0   \n",
       "1           1.382812              1019.5             0.0         0.0   \n",
       "2           1.382812              1019.5             0.0         0.0   \n",
       "3           1.382812              1019.5             0.0         0.0   \n",
       "4           1.382812              1019.5             0.0         0.0   \n",
       "\n",
       "   day_of_week  hour  week_of_year  week_end  \n",
       "0            4     0            52         0  \n",
       "1            4     0            52         0  \n",
       "2            4     0            52         0  \n",
       "3            4     0            52         0  \n",
       "4            4     0            52         0  "
      ]
     },
     "execution_count": 136,
     "metadata": {},
     "output_type": "execute_result"
    }
   ],
   "source": [
    "df.head()"
   ]
  },
  {
   "cell_type": "code",
   "execution_count": 137,
   "metadata": {
    "execution": {
     "iopub.execute_input": "2021-07-30T12:55:48.412677Z",
     "iopub.status.busy": "2021-07-30T12:55:48.412223Z",
     "iopub.status.idle": "2021-07-30T12:55:49.598498Z",
     "shell.execute_reply": "2021-07-30T12:55:49.597723Z",
     "shell.execute_reply.started": "2021-07-30T12:55:48.412628Z"
    }
   },
   "outputs": [
    {
     "data": {
      "text/plain": [
       "building_id           0\n",
       "meter                 0\n",
       "meter_reading         0\n",
       "site_id               0\n",
       "primary_use           0\n",
       "square_feet           0\n",
       "floor_count           0\n",
       "air_temperature       0\n",
       "cloud_coverage        0\n",
       "dew_temperature       0\n",
       "precip_depth_1_hr     0\n",
       "sea_level_pressure    0\n",
       "wind_direction        0\n",
       "wind_speed            0\n",
       "day_of_week           0\n",
       "hour                  0\n",
       "week_of_year          0\n",
       "week_end              0\n",
       "dtype: int64"
      ]
     },
     "execution_count": 137,
     "metadata": {},
     "output_type": "execute_result"
    }
   ],
   "source": [
    "df.isna().sum()"
   ]
  },
  {
   "cell_type": "markdown",
   "metadata": {
    "id": "lHiCU-e8JaqI"
   },
   "source": [
    "how corelated are the features."
   ]
  },
  {
   "cell_type": "code",
   "execution_count": 138,
   "metadata": {
    "execution": {
     "iopub.execute_input": "2021-07-30T12:55:49.600055Z",
     "iopub.status.busy": "2021-07-30T12:55:49.599740Z",
     "iopub.status.idle": "2021-07-30T12:56:10.328739Z",
     "shell.execute_reply": "2021-07-30T12:56:10.327878Z",
     "shell.execute_reply.started": "2021-07-30T12:55:49.600029Z"
    },
    "id": "BsLGmYOoJaqI",
    "outputId": "73376d99-4726-4da2-94e7-2f195c745b92"
   },
   "outputs": [
    {
     "data": {
      "text/plain": [
       "<AxesSubplot:>"
      ]
     },
     "execution_count": 138,
     "metadata": {},
     "output_type": "execute_result"
    },
    {
     "data": {
      "image/png": "[encoded data removed]",
      "text/plain": [
       "<Figure size 1440x1440 with 2 Axes>"
      ]
     },
     "metadata": {
      "needs_background": "light"
     },
     "output_type": "display_data"
    }
   ],
   "source": [
    "plt.figure(figsize=(20,20))\n",
    "sn.heatmap(df.corr(),annot=True)"
   ]
  },
  {
   "cell_type": "code",
   "execution_count": 139,
   "metadata": {
    "execution": {
     "iopub.execute_input": "2021-07-30T12:56:10.330651Z",
     "iopub.status.busy": "2021-07-30T12:56:10.330078Z",
     "iopub.status.idle": "2021-07-30T12:56:11.074798Z",
     "shell.execute_reply": "2021-07-30T12:56:11.073693Z",
     "shell.execute_reply.started": "2021-07-30T12:56:10.330603Z"
    }
   },
   "outputs": [],
   "source": [
    "import optuna\n",
    "import xgboost\n",
    "from sklearn.metrics import mean_squared_error\n",
    "import pickle"
   ]
  },
  {
   "cell_type": "code",
   "execution_count": 140,
   "metadata": {
    "execution": {
     "iopub.execute_input": "2021-07-30T12:56:11.081441Z",
     "iopub.status.busy": "2021-07-30T12:56:11.079237Z",
     "iopub.status.idle": "2021-07-30T12:56:18.054832Z",
     "shell.execute_reply": "2021-07-30T12:56:18.053993Z",
     "shell.execute_reply.started": "2021-07-30T12:56:11.081402Z"
    },
    "id": "hIdkq7YsJaqK"
   },
   "outputs": [],
   "source": [
    "from sklearn.model_selection import KFold\n",
    "kf=KFold(n_splits=5,shuffle=False)\n",
    "df['kfold']=-1\n",
    "x=df.drop('meter_reading',axis=1).values\n",
    "y=df['meter_reading'].values\n",
    "for i,(train,test) in enumerate(kf.split(x,y)):\n",
    "    df.loc[test,'kfold']=i"
   ]
  },
  {
   "cell_type": "code",
   "execution_count": 141,
   "metadata": {
    "execution": {
     "iopub.execute_input": "2021-07-30T12:56:18.056405Z",
     "iopub.status.busy": "2021-07-30T12:56:18.056061Z",
     "iopub.status.idle": "2021-07-30T12:56:18.188862Z",
     "shell.execute_reply": "2021-07-30T12:56:18.187991Z",
     "shell.execute_reply.started": "2021-07-30T12:56:18.056371Z"
    }
   },
   "outputs": [
    {
     "data": {
      "text/plain": [
       "37"
      ]
     },
     "execution_count": 141,
     "metadata": {},
     "output_type": "execute_result"
    }
   ],
   "source": [
    "del x,y\n",
    "import gc\n",
    "gc.collect()"
   ]
  },
  {
   "cell_type": "code",
   "execution_count": 142,
   "metadata": {
    "execution": {
     "iopub.execute_input": "2021-07-30T12:56:18.190748Z",
     "iopub.status.busy": "2021-07-30T12:56:18.190204Z",
     "iopub.status.idle": "2021-07-30T12:56:18.198760Z",
     "shell.execute_reply": "2021-07-30T12:56:18.197913Z",
     "shell.execute_reply.started": "2021-07-30T12:56:18.190709Z"
    }
   },
   "outputs": [
    {
     "data": {
      "text/plain": [
       "Index(['building_id', 'meter', 'meter_reading', 'site_id', 'primary_use',\n",
       "       'square_feet', 'floor_count', 'air_temperature', 'cloud_coverage',\n",
       "       'dew_temperature', 'precip_depth_1_hr', 'sea_level_pressure',\n",
       "       'wind_direction', 'wind_speed', 'day_of_week', 'hour', 'week_of_year',\n",
       "       'week_end', 'kfold'],\n",
       "      dtype='object')"
      ]
     },
     "execution_count": 142,
     "metadata": {},
     "output_type": "execute_result"
    }
   ],
   "source": [
    "df.columns"
   ]
  },
  {
   "cell_type": "code",
   "execution_count": 143,
   "metadata": {
    "execution": {
     "iopub.execute_input": "2021-07-30T12:56:18.200563Z",
     "iopub.status.busy": "2021-07-30T12:56:18.200150Z",
     "iopub.status.idle": "2021-07-30T12:56:18.208098Z",
     "shell.execute_reply": "2021-07-30T12:56:18.207316Z",
     "shell.execute_reply.started": "2021-07-30T12:56:18.200531Z"
    }
   },
   "outputs": [],
   "source": [
    "from xgboost import XGBRegressor"
   ]
  },
  {
   "cell_type": "code",
   "execution_count": 144,
   "metadata": {
    "execution": {
     "iopub.execute_input": "2021-07-30T12:56:18.209764Z",
     "iopub.status.busy": "2021-07-30T12:56:18.209368Z",
     "iopub.status.idle": "2021-07-30T12:56:18.216471Z",
     "shell.execute_reply": "2021-07-30T12:56:18.215674Z",
     "shell.execute_reply.started": "2021-07-30T12:56:18.209728Z"
    }
   },
   "outputs": [],
   "source": [
    "from tqdm import tqdm"
   ]
  },
  {
   "cell_type": "code",
   "execution_count": 145,
   "metadata": {
    "execution": {
     "iopub.execute_input": "2021-07-30T12:56:18.218015Z",
     "iopub.status.busy": "2021-07-30T12:56:18.217672Z",
     "iopub.status.idle": "2021-07-30T12:56:18.225143Z",
     "shell.execute_reply": "2021-07-30T12:56:18.224415Z",
     "shell.execute_reply.started": "2021-07-30T12:56:18.217981Z"
    }
   },
   "outputs": [],
   "source": [
    "#with open('total_columns.pkl','rb') as f:\n",
    "#    total_columns=pickle.load(f)"
   ]
  },
  {
   "cell_type": "markdown",
   "metadata": {},
   "source": [
    "# XGBOOST"
   ]
  },
  {
   "cell_type": "code",
   "execution_count": 146,
   "metadata": {
    "execution": {
     "iopub.execute_input": "2021-07-30T12:40:20.107409Z",
     "iopub.status.busy": "2021-07-30T12:40:20.106939Z",
     "iopub.status.idle": "2021-07-30T12:40:20.137058Z",
     "shell.execute_reply": "2021-07-30T12:40:20.136174Z",
     "shell.execute_reply.started": "2021-07-30T12:40:20.107374Z"
    }
   },
   "outputs": [
    {
     "data": {
      "text/html": [
       "<div>\n",
       "<style scoped>\n",
       "    .dataframe tbody tr th:only-of-type {\n",
       "        vertical-align: middle;\n",
       "    }\n",
       "\n",
       "    .dataframe tbody tr th {\n",
       "        vertical-align: top;\n",
       "    }\n",
       "\n",
       "    .dataframe thead th {\n",
       "        text-align: right;\n",
       "    }\n",
       "</style>\n",
       "<table border=\"1\" class=\"dataframe\">\n",
       "  <thead>\n",
       "    <tr style=\"text-align: right;\">\n",
       "      <th></th>\n",
       "      <th>building_id</th>\n",
       "      <th>meter</th>\n",
       "      <th>meter_reading</th>\n",
       "      <th>site_id</th>\n",
       "      <th>primary_use</th>\n",
       "      <th>square_feet</th>\n",
       "      <th>floor_count</th>\n",
       "      <th>air_temperature</th>\n",
       "      <th>cloud_coverage</th>\n",
       "      <th>dew_temperature</th>\n",
       "      <th>precip_depth_1_hr</th>\n",
       "      <th>sea_level_pressure</th>\n",
       "      <th>wind_direction</th>\n",
       "      <th>wind_speed</th>\n",
       "      <th>day_of_week</th>\n",
       "      <th>hour</th>\n",
       "      <th>week_of_year</th>\n",
       "      <th>week_end</th>\n",
       "      <th>kfold</th>\n",
       "    </tr>\n",
       "  </thead>\n",
       "  <tbody>\n",
       "    <tr>\n",
       "      <th>0</th>\n",
       "      <td>0</td>\n",
       "      <td>0</td>\n",
       "      <td>0.0</td>\n",
       "      <td>0</td>\n",
       "      <td>0</td>\n",
       "      <td>7432</td>\n",
       "      <td>2.0</td>\n",
       "      <td>25.0</td>\n",
       "      <td>6.0</td>\n",
       "      <td>20.0</td>\n",
       "      <td>1.382812</td>\n",
       "      <td>1019.5</td>\n",
       "      <td>0.0</td>\n",
       "      <td>0.0</td>\n",
       "      <td>4</td>\n",
       "      <td>0</td>\n",
       "      <td>52</td>\n",
       "      <td>0</td>\n",
       "      <td>0</td>\n",
       "    </tr>\n",
       "    <tr>\n",
       "      <th>1</th>\n",
       "      <td>1</td>\n",
       "      <td>0</td>\n",
       "      <td>0.0</td>\n",
       "      <td>0</td>\n",
       "      <td>0</td>\n",
       "      <td>2720</td>\n",
       "      <td>2.0</td>\n",
       "      <td>25.0</td>\n",
       "      <td>6.0</td>\n",
       "      <td>20.0</td>\n",
       "      <td>1.382812</td>\n",
       "      <td>1019.5</td>\n",
       "      <td>0.0</td>\n",
       "      <td>0.0</td>\n",
       "      <td>4</td>\n",
       "      <td>0</td>\n",
       "      <td>52</td>\n",
       "      <td>0</td>\n",
       "      <td>0</td>\n",
       "    </tr>\n",
       "    <tr>\n",
       "      <th>2</th>\n",
       "      <td>2</td>\n",
       "      <td>0</td>\n",
       "      <td>0.0</td>\n",
       "      <td>0</td>\n",
       "      <td>0</td>\n",
       "      <td>5376</td>\n",
       "      <td>2.0</td>\n",
       "      <td>25.0</td>\n",
       "      <td>6.0</td>\n",
       "      <td>20.0</td>\n",
       "      <td>1.382812</td>\n",
       "      <td>1019.5</td>\n",
       "      <td>0.0</td>\n",
       "      <td>0.0</td>\n",
       "      <td>4</td>\n",
       "      <td>0</td>\n",
       "      <td>52</td>\n",
       "      <td>0</td>\n",
       "      <td>0</td>\n",
       "    </tr>\n",
       "    <tr>\n",
       "      <th>3</th>\n",
       "      <td>3</td>\n",
       "      <td>0</td>\n",
       "      <td>0.0</td>\n",
       "      <td>0</td>\n",
       "      <td>0</td>\n",
       "      <td>23685</td>\n",
       "      <td>2.0</td>\n",
       "      <td>25.0</td>\n",
       "      <td>6.0</td>\n",
       "      <td>20.0</td>\n",
       "      <td>1.382812</td>\n",
       "      <td>1019.5</td>\n",
       "      <td>0.0</td>\n",
       "      <td>0.0</td>\n",
       "      <td>4</td>\n",
       "      <td>0</td>\n",
       "      <td>52</td>\n",
       "      <td>0</td>\n",
       "      <td>0</td>\n",
       "    </tr>\n",
       "    <tr>\n",
       "      <th>4</th>\n",
       "      <td>4</td>\n",
       "      <td>0</td>\n",
       "      <td>0.0</td>\n",
       "      <td>0</td>\n",
       "      <td>0</td>\n",
       "      <td>116607</td>\n",
       "      <td>2.0</td>\n",
       "      <td>25.0</td>\n",
       "      <td>6.0</td>\n",
       "      <td>20.0</td>\n",
       "      <td>1.382812</td>\n",
       "      <td>1019.5</td>\n",
       "      <td>0.0</td>\n",
       "      <td>0.0</td>\n",
       "      <td>4</td>\n",
       "      <td>0</td>\n",
       "      <td>52</td>\n",
       "      <td>0</td>\n",
       "      <td>0</td>\n",
       "    </tr>\n",
       "  </tbody>\n",
       "</table>\n",
       "</div>"
      ],
      "text/plain": [
       "   building_id  meter  meter_reading  site_id  primary_use  square_feet  \\\n",
       "0            0      0            0.0        0            0         7432   \n",
       "1            1      0            0.0        0            0         2720   \n",
       "2            2      0            0.0        0            0         5376   \n",
       "3            3      0            0.0        0            0        23685   \n",
       "4            4      0            0.0        0            0       116607   \n",
       "\n",
       "   floor_count  air_temperature  cloud_coverage  dew_temperature  \\\n",
       "0          2.0             25.0             6.0             20.0   \n",
       "1          2.0             25.0             6.0             20.0   \n",
       "2          2.0             25.0             6.0             20.0   \n",
       "3          2.0             25.0             6.0             20.0   \n",
       "4          2.0             25.0             6.0             20.0   \n",
       "\n",
       "   precip_depth_1_hr  sea_level_pressure  wind_direction  wind_speed  \\\n",
       "0           1.382812              1019.5             0.0         0.0   \n",
       "1           1.382812              1019.5             0.0         0.0   \n",
       "2           1.382812              1019.5             0.0         0.0   \n",
       "3           1.382812              1019.5             0.0         0.0   \n",
       "4           1.382812              1019.5             0.0         0.0   \n",
       "\n",
       "   day_of_week  hour  week_of_year  week_end  kfold  \n",
       "0            4     0            52         0      0  \n",
       "1            4     0            52         0      0  \n",
       "2            4     0            52         0      0  \n",
       "3            4     0            52         0      0  \n",
       "4            4     0            52         0      0  "
      ]
     },
     "execution_count": 146,
     "metadata": {},
     "output_type": "execute_result"
    }
   ],
   "source": [
    "df.head()"
   ]
  },
  {
   "cell_type": "code",
   "execution_count": 146,
   "metadata": {
    "execution": {
     "iopub.execute_input": "2021-07-30T12:56:18.226740Z",
     "iopub.status.busy": "2021-07-30T12:56:18.226397Z",
     "iopub.status.idle": "2021-07-30T12:56:18.238470Z",
     "shell.execute_reply": "2021-07-30T12:56:18.237721Z",
     "shell.execute_reply.started": "2021-07-30T12:56:18.226707Z"
    }
   },
   "outputs": [
    {
     "data": {
      "text/plain": [
       "['building_id',\n",
       " 'meter',\n",
       " 'site_id',\n",
       " 'primary_use',\n",
       " 'square_feet',\n",
       " 'floor_count',\n",
       " 'air_temperature',\n",
       " 'cloud_coverage',\n",
       " 'dew_temperature',\n",
       " 'precip_depth_1_hr',\n",
       " 'sea_level_pressure',\n",
       " 'wind_direction',\n",
       " 'wind_speed',\n",
       " 'day_of_week',\n",
       " 'hour',\n",
       " 'week_of_year',\n",
       " 'week_end']"
      ]
     },
     "execution_count": 146,
     "metadata": {},
     "output_type": "execute_result"
    }
   ],
   "source": [
    "total_columns"
   ]
  },
  {
   "cell_type": "code",
   "execution_count": 1,
   "metadata": {
    "execution": {
     "iopub.execute_input": "2021-07-30T12:41:07.042418Z",
     "iopub.status.busy": "2021-07-30T12:41:07.041995Z",
     "iopub.status.idle": "2021-07-30T12:51:57.433357Z",
     "shell.execute_reply": "2021-07-30T12:51:57.429912Z",
     "shell.execute_reply.started": "2021-07-30T12:41:07.042386Z"
    },
    "scrolled": true
   },
   "outputs": [],
   "source": [
    "#def objective(trial):\n",
    "#    max_depth=trial.suggest_int('max_depth',4,23)\n",
    "#    subsample=trial.suggest_discrete_uniform('subsample',0.6,0.95,0.01)\n",
    "#    colsample_bytree=trial.suggest_discrete_uniform('colsample_bytree',0.6,0.95,0.01)\n",
    "#    reg_lambda=trial.suggest_loguniform(\"reg_lambda\", 1e-3, 10)\n",
    "#    min_child_weight=trial.suggest_int('min_child_weight',1,500,1)\n",
    "#    gamma=trial.suggest_loguniform(\"gamma\", 1e-3, 10)\n",
    "#    lr=trial.suggest_uniform('learning_rate',0.01,0.3)\n",
    "#    n_estimators=trial.suggest_int('n_estimators',100,2000,50)\n",
    "#    scores=[]\n",
    "#    for i in range(5):\n",
    "#        train=df[df['kfold']!=i].drop('kfold',axis=1).reset_index(drop=True)\n",
    "#        x_train=train.drop('meter_reading',axis=1)\n",
    "#        x_train=x_train[total_columns].values\n",
    "#        y_train=np.log1p(train['meter_reading'].values)\n",
    "#        del train\n",
    "#        gc.collect()\n",
    "#        test=df[df['kfold']==i].drop('kfold',axis=1).reset_index(drop=True)\n",
    "#        x_test=test.drop('meter_reading',axis=1)\n",
    "#        x_test=x_test[total_columns].values\n",
    "#        y_test=np.log1p(test['meter_reading'].values)\n",
    "#        del test\n",
    "#        gc.collect()\n",
    "#        model=XGBRegressor(max_depth=max_depth,n_estimators=n_estimators,learning_rate=lr,\n",
    "#               objective='reg:squarederror',min_child_weight=min_child_weight,\n",
    "#               subsample=subsample,\n",
    "#               colsample_bytree=colsample_bytree,gamma=gamma,\n",
    "#               reg_lambda=reg_lambda,random_state=42,tree_method='gpu_hist')\n",
    "#        model.fit(x_train, y_train,\n",
    "#                 eval_set=[(x_test, y_test)],\n",
    "#                 eval_metric='rmse',verbose=False)\n",
    "#        del x_train,y_train,x_test,y_test\n",
    "#        gc.collect()\n",
    "#        score=model.evals_result()['validation_0']['rmse'][-1]\n",
    "#        scores.append(score)\n",
    "#    result=np.mean(scores)\n",
    "#    return result\n",
    "#study = optuna.create_study(direction='minimize')\n",
    "#study.optimize(objective, n_trials=150,show_progress_bar=True)"
   ]
  },
  {
   "cell_type": "code",
   "execution_count": null,
   "metadata": {},
   "outputs": [],
   "source": [
    "study.best_params"
   ]
  },
  {
   "cell_type": "code",
   "execution_count": null,
   "metadata": {
    "scrolled": true
   },
   "outputs": [],
   "source": [
    "study.best_value"
   ]
  },
  {
   "cell_type": "code",
   "execution_count": 147,
   "metadata": {
    "execution": {
     "iopub.execute_input": "2021-07-30T12:56:18.241125Z",
     "iopub.status.busy": "2021-07-30T12:56:18.240717Z",
     "iopub.status.idle": "2021-07-30T12:56:18.246097Z",
     "shell.execute_reply": "2021-07-30T12:56:18.245277Z",
     "shell.execute_reply.started": "2021-07-30T12:56:18.241090Z"
    }
   },
   "outputs": [],
   "source": [
    "params={'max_depth': 6, \n",
    "         'subsample': 0.63,\n",
    "         'colsample_bytree': 0.9299999999999999, \n",
    "         'reg_lambda': 0.04992100263298976, \n",
    "         'min_child_weight': 377, \n",
    "         'gamma': 6.921465266835858,\n",
    "         'learning_rate': 0.041165557123617476,\n",
    "         'n_estimators': 650,\n",
    "         'objective':'reg:squarederror',\n",
    "        'random_state':42,\n",
    "        'tree_method':'gpu_hist'\n",
    "       }\n"
   ]
  },
  {
   "cell_type": "code",
   "execution_count": 148,
   "metadata": {
    "execution": {
     "iopub.execute_input": "2021-07-30T12:56:18.249370Z",
     "iopub.status.busy": "2021-07-30T12:56:18.249011Z",
     "iopub.status.idle": "2021-07-30T12:56:18.254740Z",
     "shell.execute_reply": "2021-07-30T12:56:18.253725Z",
     "shell.execute_reply.started": "2021-07-30T12:56:18.249338Z"
    }
   },
   "outputs": [],
   "source": [
    "with open('model_params.json','wb') as f:\n",
    "    pickle.dump(params,f)"
   ]
  },
  {
   "cell_type": "code",
   "execution_count": 149,
   "metadata": {
    "execution": {
     "iopub.execute_input": "2021-07-30T12:56:18.256353Z",
     "iopub.status.busy": "2021-07-30T12:56:18.255881Z",
     "iopub.status.idle": "2021-07-30T12:56:18.261782Z",
     "shell.execute_reply": "2021-07-30T12:56:18.261015Z",
     "shell.execute_reply.started": "2021-07-30T12:56:18.256307Z"
    }
   },
   "outputs": [],
   "source": [
    "scores=[]"
   ]
  },
  {
   "cell_type": "code",
   "execution_count": 151,
   "metadata": {
    "execution": {
     "iopub.execute_input": "2021-07-30T12:57:40.513388Z",
     "iopub.status.busy": "2021-07-30T12:57:40.513059Z",
     "iopub.status.idle": "2021-07-30T13:02:43.597826Z",
     "shell.execute_reply": "2021-07-30T13:02:43.596857Z",
     "shell.execute_reply.started": "2021-07-30T12:57:40.513359Z"
    }
   },
   "outputs": [],
   "source": [
    "for i in range(5):\n",
    "    train=df[df['kfold']!=i].drop('kfold',axis=1).reset_index(drop=True)\n",
    "    x_train=train.drop('meter_reading',axis=1)\n",
    "    x_train=x_train[total_columns].values\n",
    "    y_train=np.log1p(train['meter_reading'].values)\n",
    "    del train\n",
    "    gc.collect()\n",
    "    test=df[df['kfold']==i].drop('kfold',axis=1).reset_index(drop=True)\n",
    "    x_test=test.drop('meter_reading',axis=1)\n",
    "    x_test=x_test[total_columns].values\n",
    "    y_test=np.log1p(test['meter_reading'].values)\n",
    "    del test\n",
    "    gc.collect()\n",
    "    model=XGBRegressor(**params)\n",
    "    model.fit(x_train, y_train,\n",
    "             eval_set=[(x_test, y_test)],\n",
    "             eval_metric='rmse',verbose=False)\n",
    "    del x_train,y_train,x_test,y_test\n",
    "    gc.collect()\n",
    "    score=model.evals_result()['validation_0']['rmse'][-1]\n",
    "    scores.append(score)\n",
    "    model.save_model(f'xgboost_{i}')\n",
    "    del model\n",
    "    gc.collect()"
   ]
  },
  {
   "cell_type": "code",
   "execution_count": 152,
   "metadata": {
    "execution": {
     "iopub.execute_input": "2021-07-30T13:02:43.599646Z",
     "iopub.status.busy": "2021-07-30T13:02:43.599308Z",
     "iopub.status.idle": "2021-07-30T13:02:43.605242Z",
     "shell.execute_reply": "2021-07-30T13:02:43.604157Z",
     "shell.execute_reply.started": "2021-07-30T13:02:43.599611Z"
    }
   },
   "outputs": [
    {
     "data": {
      "text/plain": [
       "1.2240435"
      ]
     },
     "execution_count": 152,
     "metadata": {},
     "output_type": "execute_result"
    }
   ],
   "source": [
    "np.mean(scores)"
   ]
  },
  {
   "cell_type": "code",
   "execution_count": 153,
   "metadata": {
    "execution": {
     "iopub.execute_input": "2021-07-30T13:02:43.607350Z",
     "iopub.status.busy": "2021-07-30T13:02:43.606953Z",
     "iopub.status.idle": "2021-07-30T13:02:43.764641Z",
     "shell.execute_reply": "2021-07-30T13:02:43.763509Z",
     "shell.execute_reply.started": "2021-07-30T13:02:43.607314Z"
    }
   },
   "outputs": [
    {
     "data": {
      "text/plain": [
       "44"
      ]
     },
     "execution_count": 153,
     "metadata": {},
     "output_type": "execute_result"
    }
   ],
   "source": [
    "del df,params,l,encoders,feature_changes\n",
    "import gc\n",
    "gc.collect()"
   ]
  },
  {
   "cell_type": "code",
   "execution_count": null,
   "metadata": {},
   "outputs": [],
   "source": []
  }
 ],
 "metadata": {
  "kernelspec": {
   "display_name": "Python 3 (ipykernel)",
   "language": "python",
   "name": "python3"
  },
  "language_info": {
   "codemirror_mode": {
    "name": "ipython",
    "version": 3
   },
   "file_extension": ".py",
   "mimetype": "text/x-python",
   "name": "python",
   "nbconvert_exporter": "python",
   "pygments_lexer": "ipython3",
   "version": "3.9.6"
  }
 },
 "nbformat": 4,
 "nbformat_minor": 4
}
