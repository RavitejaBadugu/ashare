{
 "cells": [
  {
   "cell_type": "code",
   "execution_count": 1,
   "metadata": {
    "execution": {
     "iopub.execute_input": "2021-07-30T13:55:40.933716Z",
     "iopub.status.busy": "2021-07-30T13:55:40.933151Z",
     "iopub.status.idle": "2021-07-30T13:55:41.999276Z",
     "shell.execute_reply": "2021-07-30T13:55:41.998176Z",
     "shell.execute_reply.started": "2021-07-30T13:55:40.933632Z"
    }
   },
   "outputs": [],
   "source": [
    "import numpy as np\n",
    "import pandas as pd\n",
    "import matplotlib.pyplot as plt\n",
    "import seaborn as sn\n",
    "import random as rn\n",
    "import pickle\n",
    "from tqdm import tqdm\n",
    "%matplotlib inline"
   ]
  },
  {
   "cell_type": "code",
   "execution_count": 2,
   "metadata": {
    "execution": {
     "iopub.execute_input": "2021-07-30T13:55:42.001463Z",
     "iopub.status.busy": "2021-07-30T13:55:42.001006Z",
     "iopub.status.idle": "2021-07-30T13:55:42.005357Z",
     "shell.execute_reply": "2021-07-30T13:55:42.004646Z",
     "shell.execute_reply.started": "2021-07-30T13:55:42.001414Z"
    }
   },
   "outputs": [],
   "source": [
    "import os\n",
    "os.environ['PYTHONHASHSEED'] = '0'"
   ]
  },
  {
   "cell_type": "code",
   "execution_count": 3,
   "metadata": {
    "execution": {
     "iopub.execute_input": "2021-07-30T13:55:42.007075Z",
     "iopub.status.busy": "2021-07-30T13:55:42.006662Z",
     "iopub.status.idle": "2021-07-30T13:55:42.021082Z",
     "shell.execute_reply": "2021-07-30T13:55:42.020284Z",
     "shell.execute_reply.started": "2021-07-30T13:55:42.007040Z"
    }
   },
   "outputs": [],
   "source": [
    "np.random.seed(42)"
   ]
  },
  {
   "cell_type": "code",
   "execution_count": 4,
   "metadata": {
    "execution": {
     "iopub.execute_input": "2021-07-30T13:55:42.421980Z",
     "iopub.status.busy": "2021-07-30T13:55:42.421448Z",
     "iopub.status.idle": "2021-07-30T13:55:42.427962Z",
     "shell.execute_reply": "2021-07-30T13:55:42.425032Z",
     "shell.execute_reply.started": "2021-07-30T13:55:42.421947Z"
    }
   },
   "outputs": [],
   "source": [
    "rn.seed(42)"
   ]
  },
  {
   "cell_type": "code",
   "execution_count": 5,
   "metadata": {
    "execution": {
     "iopub.execute_input": "2021-07-30T13:55:42.940721Z",
     "iopub.status.busy": "2021-07-30T13:55:42.940161Z",
     "iopub.status.idle": "2021-07-30T13:55:42.945427Z",
     "shell.execute_reply": "2021-07-30T13:55:42.944376Z",
     "shell.execute_reply.started": "2021-07-30T13:55:42.940687Z"
    }
   },
   "outputs": [],
   "source": [
    "pd.options.display.max_columns = None"
   ]
  },
  {
   "cell_type": "code",
   "execution_count": 6,
   "metadata": {
    "execution": {
     "iopub.execute_input": "2021-07-30T13:55:43.470789Z",
     "iopub.status.busy": "2021-07-30T13:55:43.470220Z",
     "iopub.status.idle": "2021-07-30T13:56:15.625397Z",
     "shell.execute_reply": "2021-07-30T13:56:15.624387Z",
     "shell.execute_reply.started": "2021-07-30T13:55:43.470753Z"
    }
   },
   "outputs": [],
   "source": [
    "build=pd.read_csv(\"../input/ashrae-energy-prediction/building_metadata.csv\")\n",
    "df=pd.read_csv(\"../input/ashrae-energy-prediction/test.csv\")\n",
    "weather=pd.read_csv(\"../input/ashrae-energy-prediction/weather_test.csv\")"
   ]
  },
  {
   "cell_type": "code",
   "execution_count": 7,
   "metadata": {
    "execution": {
     "iopub.execute_input": "2021-07-30T13:56:15.627229Z",
     "iopub.status.busy": "2021-07-30T13:56:15.626917Z",
     "iopub.status.idle": "2021-07-30T13:56:15.889662Z",
     "shell.execute_reply": "2021-07-30T13:56:15.888706Z",
     "shell.execute_reply.started": "2021-07-30T13:56:15.627200Z"
    }
   },
   "outputs": [],
   "source": [
    "from xgboost import XGBRegressor"
   ]
  },
  {
   "cell_type": "code",
   "execution_count": 8,
   "metadata": {
    "execution": {
     "iopub.execute_input": "2021-07-30T13:56:15.892067Z",
     "iopub.status.busy": "2021-07-30T13:56:15.891673Z",
     "iopub.status.idle": "2021-07-30T13:56:16.183089Z",
     "shell.execute_reply": "2021-07-30T13:56:16.182066Z",
     "shell.execute_reply.started": "2021-07-30T13:56:15.892035Z"
    }
   },
   "outputs": [],
   "source": [
    "with open('../input/ashare-v1/feature_changes','rb') as f:\n",
    "    feature_changes=pickle.load(f)\n",
    "with open(\"../input/ashare-v1/encoders.pkl\",'rb') as f:\n",
    "    encoders=pickle.load(f)\n",
    "with open(\"../input/ashare-v1/total_columns.pkl\",'rb') as f:\n",
    "    total_columns=pickle.load(f)\n",
    "with open('../input/ashare-v1/model_params.json','rb') as f:\n",
    "    model_params=pickle.load(f)\n",
    "xgb1=XGBRegressor(**model_params)\n",
    "xgb1.load_model('../input/ashare-v1/xgboost_0')\n",
    "xgb2=XGBRegressor(**model_params)\n",
    "xgb2.load_model('../input/ashare-v1/xgboost_1')\n",
    "xgb3=XGBRegressor(**model_params)\n",
    "xgb3.load_model('../input/ashare-v1/xgboost_2')\n",
    "xgb4=XGBRegressor(**model_params)\n",
    "xgb4.load_model('../input/ashare-v1/xgboost_3')\n",
    "xgb5=XGBRegressor(**model_params)\n",
    "xgb5.load_model('../input/ashare-v1/xgboost_4')"
   ]
  },
  {
   "cell_type": "code",
   "execution_count": 9,
   "metadata": {
    "execution": {
     "iopub.execute_input": "2021-07-30T13:56:16.185088Z",
     "iopub.status.busy": "2021-07-30T13:56:16.184751Z",
     "iopub.status.idle": "2021-07-30T13:56:16.190524Z",
     "shell.execute_reply": "2021-07-30T13:56:16.189578Z",
     "shell.execute_reply.started": "2021-07-30T13:56:16.185050Z"
    }
   },
   "outputs": [],
   "source": [
    "def fill_cloud(site):\n",
    "    if str(feature_changes['fill_null/weather/cloud_coverage'][site])=='nan':\n",
    "        return feature_changes['fill_null/weather/cloud_coverage_cloud_fill_nan']\n",
    "    else:\n",
    "        return feature_changes['fill_null/weather/cloud_coverage'][site]\n",
    "def fill_precip(site):\n",
    "    if str(feature_changes['fill_null/weather/precip_depth_1_hr'][site])=='nan':\n",
    "        return feature_changes['fill_null/weather/precip_depth_1_hr_precip_fill_nan']\n",
    "    else:\n",
    "        return feature_changes['fill_null/weather/precip_depth_1_hr'][site]"
   ]
  },
  {
   "cell_type": "code",
   "execution_count": 10,
   "metadata": {
    "execution": {
     "iopub.execute_input": "2021-07-30T13:56:16.192510Z",
     "iopub.status.busy": "2021-07-30T13:56:16.191920Z",
     "iopub.status.idle": "2021-07-30T13:56:24.051576Z",
     "shell.execute_reply": "2021-07-30T13:56:24.050588Z",
     "shell.execute_reply.started": "2021-07-30T13:56:16.192467Z"
    }
   },
   "outputs": [],
   "source": [
    "df=pd.merge(left=df,right=build,left_on='building_id',right_on='building_id',how='left')"
   ]
  },
  {
   "cell_type": "code",
   "execution_count": 11,
   "metadata": {
    "execution": {
     "iopub.execute_input": "2021-07-30T13:56:24.053282Z",
     "iopub.status.busy": "2021-07-30T13:56:24.052964Z",
     "iopub.status.idle": "2021-07-30T13:56:24.180788Z",
     "shell.execute_reply": "2021-07-30T13:56:24.179800Z",
     "shell.execute_reply.started": "2021-07-30T13:56:24.053252Z"
    }
   },
   "outputs": [
    {
     "data": {
      "text/plain": [
       "26"
      ]
     },
     "execution_count": 11,
     "metadata": {},
     "output_type": "execute_result"
    }
   ],
   "source": [
    "del build\n",
    "import gc\n",
    "gc.collect()"
   ]
  },
  {
   "cell_type": "code",
   "execution_count": 12,
   "metadata": {
    "execution": {
     "iopub.execute_input": "2021-07-30T13:56:24.182842Z",
     "iopub.status.busy": "2021-07-30T13:56:24.182258Z",
     "iopub.status.idle": "2021-07-30T13:56:38.205550Z",
     "shell.execute_reply": "2021-07-30T13:56:38.204510Z",
     "shell.execute_reply.started": "2021-07-30T13:56:24.182797Z"
    }
   },
   "outputs": [],
   "source": [
    "df=pd.merge(left=df,right=weather,left_on=['site_id','timestamp'],right_on=['site_id','timestamp'],how='left')"
   ]
  },
  {
   "cell_type": "code",
   "execution_count": 13,
   "metadata": {
    "execution": {
     "iopub.execute_input": "2021-07-30T13:56:38.208346Z",
     "iopub.status.busy": "2021-07-30T13:56:38.207996Z",
     "iopub.status.idle": "2021-07-30T13:56:38.323704Z",
     "shell.execute_reply": "2021-07-30T13:56:38.322625Z",
     "shell.execute_reply.started": "2021-07-30T13:56:38.208305Z"
    }
   },
   "outputs": [
    {
     "data": {
      "text/plain": [
       "44"
      ]
     },
     "execution_count": 13,
     "metadata": {},
     "output_type": "execute_result"
    }
   ],
   "source": [
    "del weather\n",
    "gc.collect()"
   ]
  },
  {
   "cell_type": "code",
   "execution_count": 14,
   "metadata": {
    "execution": {
     "iopub.execute_input": "2021-07-30T13:56:38.325710Z",
     "iopub.status.busy": "2021-07-30T13:56:38.325411Z",
     "iopub.status.idle": "2021-07-30T13:56:47.467492Z",
     "shell.execute_reply": "2021-07-30T13:56:47.466472Z",
     "shell.execute_reply.started": "2021-07-30T13:56:38.325681Z"
    }
   },
   "outputs": [
    {
     "data": {
      "text/plain": [
       "row_id                       0\n",
       "building_id                  0\n",
       "meter                        0\n",
       "timestamp                    0\n",
       "site_id                      0\n",
       "primary_use                  0\n",
       "square_feet                  0\n",
       "year_built            24598080\n",
       "floor_count           34444320\n",
       "air_temperature         221901\n",
       "cloud_coverage        19542180\n",
       "dew_temperature         260799\n",
       "precip_depth_1_hr      7801563\n",
       "sea_level_pressure     2516826\n",
       "wind_direction         2978663\n",
       "wind_speed              302089\n",
       "dtype: int64"
      ]
     },
     "execution_count": 14,
     "metadata": {},
     "output_type": "execute_result"
    }
   ],
   "source": [
    "df.isna().sum()"
   ]
  },
  {
   "cell_type": "code",
   "execution_count": 15,
   "metadata": {
    "execution": {
     "iopub.execute_input": "2021-07-30T13:56:47.468999Z",
     "iopub.status.busy": "2021-07-30T13:56:47.468674Z",
     "iopub.status.idle": "2021-07-30T13:56:57.411898Z",
     "shell.execute_reply": "2021-07-30T13:56:57.410910Z",
     "shell.execute_reply.started": "2021-07-30T13:56:47.468966Z"
    }
   },
   "outputs": [],
   "source": [
    "df['timestamp']=pd.to_datetime(df['timestamp'])\n",
    "df['air_temperature'].fillna(value=feature_changes['fill_null/weather/air_temperature'],inplace=True)\n",
    "df['sea_level_pressure'].fillna(value=feature_changes['fill_null/weather/sea_level_pressure'],inplace=True)\n",
    "df['wind_speed'].fillna(value=feature_changes['fill_null/weather/wind_speed'],inplace=True)\n",
    "df['dew_temperature'].fillna(value=feature_changes['fill_null/weather/dew_temperature'],inplace=True)\n",
    "df['wind_direction'].fillna(value=feature_changes['fill_null/weather/wind_direction'],inplace=True)"
   ]
  },
  {
   "cell_type": "code",
   "execution_count": 16,
   "metadata": {
    "execution": {
     "iopub.execute_input": "2021-07-30T13:56:57.413258Z",
     "iopub.status.busy": "2021-07-30T13:56:57.412964Z",
     "iopub.status.idle": "2021-07-30T13:57:24.262269Z",
     "shell.execute_reply": "2021-07-30T13:57:24.261319Z",
     "shell.execute_reply.started": "2021-07-30T13:56:57.413230Z"
    }
   },
   "outputs": [],
   "source": [
    "df['day_of_week']=df['timestamp'].dt.weekday\n",
    "df['hour']=df['timestamp'].dt.hour\n",
    "df['week_of_year']=df['timestamp'].dt.isocalendar().week\n",
    "df['week_end']=np.where(df['timestamp'].dt.weekday<=4,0,1)\n",
    "df.drop('timestamp',axis=1,inplace=True)"
   ]
  },
  {
   "cell_type": "code",
   "execution_count": 17,
   "metadata": {
    "execution": {
     "iopub.execute_input": "2021-07-30T13:57:24.263716Z",
     "iopub.status.busy": "2021-07-30T13:57:24.263438Z",
     "iopub.status.idle": "2021-07-30T13:57:30.442096Z",
     "shell.execute_reply": "2021-07-30T13:57:30.441072Z",
     "shell.execute_reply.started": "2021-07-30T13:57:24.263690Z"
    }
   },
   "outputs": [],
   "source": [
    "df.loc[df['floor_count'].isnull()==True,'floor_count']=df.loc[df['floor_count'].isnull()==True,'primary_use'].map(feature_changes['fill_null/build/floor_count'])"
   ]
  },
  {
   "cell_type": "code",
   "execution_count": 18,
   "metadata": {
    "execution": {
     "iopub.execute_input": "2021-07-30T13:57:30.443578Z",
     "iopub.status.busy": "2021-07-30T13:57:30.443293Z",
     "iopub.status.idle": "2021-07-30T13:57:32.722938Z",
     "shell.execute_reply": "2021-07-30T13:57:32.722195Z",
     "shell.execute_reply.started": "2021-07-30T13:57:30.443549Z"
    }
   },
   "outputs": [],
   "source": [
    "df.drop(feature_changes['remove_cols/build'],axis=1,inplace=True)"
   ]
  },
  {
   "cell_type": "code",
   "execution_count": 19,
   "metadata": {
    "execution": {
     "iopub.execute_input": "2021-07-30T13:57:32.724378Z",
     "iopub.status.busy": "2021-07-30T13:57:32.723939Z",
     "iopub.status.idle": "2021-07-30T13:58:04.008296Z",
     "shell.execute_reply": "2021-07-30T13:58:04.007219Z",
     "shell.execute_reply.started": "2021-07-30T13:57:32.724345Z"
    }
   },
   "outputs": [],
   "source": [
    "df.loc[df['cloud_coverage'].isnull()==True,'cloud_coverage']=df.loc[df['cloud_coverage'].isnull()==True,'site_id'].apply(fill_cloud)"
   ]
  },
  {
   "cell_type": "code",
   "execution_count": 20,
   "metadata": {
    "execution": {
     "iopub.execute_input": "2021-07-30T13:58:04.009878Z",
     "iopub.status.busy": "2021-07-30T13:58:04.009601Z",
     "iopub.status.idle": "2021-07-30T13:58:14.543357Z",
     "shell.execute_reply": "2021-07-30T13:58:14.542341Z",
     "shell.execute_reply.started": "2021-07-30T13:58:04.009852Z"
    }
   },
   "outputs": [],
   "source": [
    "df.loc[df['precip_depth_1_hr'].isnull()==True,'precip_depth_1_hr']=df.loc[df['precip_depth_1_hr'].isnull()==True,'site_id'].apply(fill_precip)"
   ]
  },
  {
   "cell_type": "code",
   "execution_count": 21,
   "metadata": {
    "execution": {
     "iopub.execute_input": "2021-07-30T13:58:14.544753Z",
     "iopub.status.busy": "2021-07-30T13:58:14.544492Z",
     "iopub.status.idle": "2021-07-30T13:58:19.769516Z",
     "shell.execute_reply": "2021-07-30T13:58:19.768489Z",
     "shell.execute_reply.started": "2021-07-30T13:58:14.544727Z"
    }
   },
   "outputs": [
    {
     "data": {
      "text/plain": [
       "row_id                0\n",
       "building_id           0\n",
       "meter                 0\n",
       "site_id               0\n",
       "primary_use           0\n",
       "square_feet           0\n",
       "floor_count           0\n",
       "air_temperature       0\n",
       "cloud_coverage        0\n",
       "dew_temperature       0\n",
       "precip_depth_1_hr     0\n",
       "sea_level_pressure    0\n",
       "wind_direction        0\n",
       "wind_speed            0\n",
       "day_of_week           0\n",
       "hour                  0\n",
       "week_of_year          0\n",
       "week_end              0\n",
       "dtype: int64"
      ]
     },
     "execution_count": 21,
     "metadata": {},
     "output_type": "execute_result"
    }
   ],
   "source": [
    "df.isna().sum()"
   ]
  },
  {
   "cell_type": "code",
   "execution_count": 22,
   "metadata": {
    "execution": {
     "iopub.execute_input": "2021-07-30T13:58:19.771268Z",
     "iopub.status.busy": "2021-07-30T13:58:19.770944Z",
     "iopub.status.idle": "2021-07-30T13:58:19.777257Z",
     "shell.execute_reply": "2021-07-30T13:58:19.776346Z",
     "shell.execute_reply.started": "2021-07-30T13:58:19.771238Z"
    }
   },
   "outputs": [
    {
     "data": {
      "text/plain": [
       "['building_id',\n",
       " 'meter',\n",
       " 'site_id',\n",
       " 'primary_use',\n",
       " 'square_feet',\n",
       " 'floor_count',\n",
       " 'air_temperature',\n",
       " 'cloud_coverage',\n",
       " 'dew_temperature',\n",
       " 'precip_depth_1_hr',\n",
       " 'sea_level_pressure',\n",
       " 'wind_direction',\n",
       " 'wind_speed',\n",
       " 'day_of_week',\n",
       " 'hour',\n",
       " 'week_of_year',\n",
       " 'week_end']"
      ]
     },
     "execution_count": 22,
     "metadata": {},
     "output_type": "execute_result"
    }
   ],
   "source": [
    "total_columns"
   ]
  },
  {
   "cell_type": "code",
   "execution_count": 35,
   "metadata": {
    "execution": {
     "iopub.execute_input": "2021-07-30T14:01:15.889515Z",
     "iopub.status.busy": "2021-07-30T14:01:15.889113Z",
     "iopub.status.idle": "2021-07-30T14:01:26.811453Z",
     "shell.execute_reply": "2021-07-30T14:01:26.810384Z",
     "shell.execute_reply.started": "2021-07-30T14:01:15.889481Z"
    }
   },
   "outputs": [],
   "source": [
    "sub=pd.read_csv('../input/ashrae-energy-prediction/sample_submission.csv')"
   ]
  },
  {
   "cell_type": "code",
   "execution_count": 24,
   "metadata": {
    "execution": {
     "iopub.execute_input": "2021-07-30T13:58:19.796896Z",
     "iopub.status.busy": "2021-07-30T13:58:19.796523Z",
     "iopub.status.idle": "2021-07-30T13:58:19.807640Z",
     "shell.execute_reply": "2021-07-30T13:58:19.806544Z",
     "shell.execute_reply.started": "2021-07-30T13:58:19.796865Z"
    }
   },
   "outputs": [],
   "source": [
    "final_sub=[]"
   ]
  },
  {
   "cell_type": "code",
   "execution_count": 25,
   "metadata": {
    "execution": {
     "iopub.execute_input": "2021-07-30T13:58:19.809951Z",
     "iopub.status.busy": "2021-07-30T13:58:19.809386Z",
     "iopub.status.idle": "2021-07-30T13:58:55.997868Z",
     "shell.execute_reply": "2021-07-30T13:58:55.996798Z",
     "shell.execute_reply.started": "2021-07-30T13:58:19.809906Z"
    }
   },
   "outputs": [],
   "source": [
    "for col,encoder in encoders.items():\n",
    "    df[col]=encoder.transform(df[col])"
   ]
  },
  {
   "cell_type": "code",
   "execution_count": 26,
   "metadata": {
    "execution": {
     "iopub.execute_input": "2021-07-30T13:58:55.999199Z",
     "iopub.status.busy": "2021-07-30T13:58:55.998913Z",
     "iopub.status.idle": "2021-07-30T13:58:56.028749Z",
     "shell.execute_reply": "2021-07-30T13:58:56.027681Z",
     "shell.execute_reply.started": "2021-07-30T13:58:55.999172Z"
    }
   },
   "outputs": [
    {
     "data": {
      "text/html": [
       "<div>\n",
       "<style scoped>\n",
       "    .dataframe tbody tr th:only-of-type {\n",
       "        vertical-align: middle;\n",
       "    }\n",
       "\n",
       "    .dataframe tbody tr th {\n",
       "        vertical-align: top;\n",
       "    }\n",
       "\n",
       "    .dataframe thead th {\n",
       "        text-align: right;\n",
       "    }\n",
       "</style>\n",
       "<table border=\"1\" class=\"dataframe\">\n",
       "  <thead>\n",
       "    <tr style=\"text-align: right;\">\n",
       "      <th></th>\n",
       "      <th>row_id</th>\n",
       "      <th>building_id</th>\n",
       "      <th>meter</th>\n",
       "      <th>site_id</th>\n",
       "      <th>primary_use</th>\n",
       "      <th>square_feet</th>\n",
       "      <th>floor_count</th>\n",
       "      <th>air_temperature</th>\n",
       "      <th>cloud_coverage</th>\n",
       "      <th>dew_temperature</th>\n",
       "      <th>precip_depth_1_hr</th>\n",
       "      <th>sea_level_pressure</th>\n",
       "      <th>wind_direction</th>\n",
       "      <th>wind_speed</th>\n",
       "      <th>day_of_week</th>\n",
       "      <th>hour</th>\n",
       "      <th>week_of_year</th>\n",
       "      <th>week_end</th>\n",
       "    </tr>\n",
       "  </thead>\n",
       "  <tbody>\n",
       "    <tr>\n",
       "      <th>0</th>\n",
       "      <td>0</td>\n",
       "      <td>0</td>\n",
       "      <td>0</td>\n",
       "      <td>0</td>\n",
       "      <td>0</td>\n",
       "      <td>7432</td>\n",
       "      <td>2.0</td>\n",
       "      <td>17.8</td>\n",
       "      <td>4.0</td>\n",
       "      <td>11.7</td>\n",
       "      <td>1.382557</td>\n",
       "      <td>1021.4</td>\n",
       "      <td>100.0</td>\n",
       "      <td>3.6</td>\n",
       "      <td>6</td>\n",
       "      <td>0</td>\n",
       "      <td>51</td>\n",
       "      <td>1</td>\n",
       "    </tr>\n",
       "    <tr>\n",
       "      <th>1</th>\n",
       "      <td>1</td>\n",
       "      <td>1</td>\n",
       "      <td>0</td>\n",
       "      <td>0</td>\n",
       "      <td>0</td>\n",
       "      <td>2720</td>\n",
       "      <td>2.0</td>\n",
       "      <td>17.8</td>\n",
       "      <td>4.0</td>\n",
       "      <td>11.7</td>\n",
       "      <td>1.382557</td>\n",
       "      <td>1021.4</td>\n",
       "      <td>100.0</td>\n",
       "      <td>3.6</td>\n",
       "      <td>6</td>\n",
       "      <td>0</td>\n",
       "      <td>51</td>\n",
       "      <td>1</td>\n",
       "    </tr>\n",
       "    <tr>\n",
       "      <th>2</th>\n",
       "      <td>2</td>\n",
       "      <td>2</td>\n",
       "      <td>0</td>\n",
       "      <td>0</td>\n",
       "      <td>0</td>\n",
       "      <td>5376</td>\n",
       "      <td>2.0</td>\n",
       "      <td>17.8</td>\n",
       "      <td>4.0</td>\n",
       "      <td>11.7</td>\n",
       "      <td>1.382557</td>\n",
       "      <td>1021.4</td>\n",
       "      <td>100.0</td>\n",
       "      <td>3.6</td>\n",
       "      <td>6</td>\n",
       "      <td>0</td>\n",
       "      <td>51</td>\n",
       "      <td>1</td>\n",
       "    </tr>\n",
       "    <tr>\n",
       "      <th>3</th>\n",
       "      <td>3</td>\n",
       "      <td>3</td>\n",
       "      <td>0</td>\n",
       "      <td>0</td>\n",
       "      <td>0</td>\n",
       "      <td>23685</td>\n",
       "      <td>2.0</td>\n",
       "      <td>17.8</td>\n",
       "      <td>4.0</td>\n",
       "      <td>11.7</td>\n",
       "      <td>1.382557</td>\n",
       "      <td>1021.4</td>\n",
       "      <td>100.0</td>\n",
       "      <td>3.6</td>\n",
       "      <td>6</td>\n",
       "      <td>0</td>\n",
       "      <td>51</td>\n",
       "      <td>1</td>\n",
       "    </tr>\n",
       "    <tr>\n",
       "      <th>4</th>\n",
       "      <td>4</td>\n",
       "      <td>4</td>\n",
       "      <td>0</td>\n",
       "      <td>0</td>\n",
       "      <td>0</td>\n",
       "      <td>116607</td>\n",
       "      <td>2.0</td>\n",
       "      <td>17.8</td>\n",
       "      <td>4.0</td>\n",
       "      <td>11.7</td>\n",
       "      <td>1.382557</td>\n",
       "      <td>1021.4</td>\n",
       "      <td>100.0</td>\n",
       "      <td>3.6</td>\n",
       "      <td>6</td>\n",
       "      <td>0</td>\n",
       "      <td>51</td>\n",
       "      <td>1</td>\n",
       "    </tr>\n",
       "  </tbody>\n",
       "</table>\n",
       "</div>"
      ],
      "text/plain": [
       "   row_id  building_id  meter  site_id  primary_use  square_feet  floor_count  \\\n",
       "0       0            0      0        0            0         7432          2.0   \n",
       "1       1            1      0        0            0         2720          2.0   \n",
       "2       2            2      0        0            0         5376          2.0   \n",
       "3       3            3      0        0            0        23685          2.0   \n",
       "4       4            4      0        0            0       116607          2.0   \n",
       "\n",
       "   air_temperature  cloud_coverage  dew_temperature  precip_depth_1_hr  \\\n",
       "0             17.8             4.0             11.7           1.382557   \n",
       "1             17.8             4.0             11.7           1.382557   \n",
       "2             17.8             4.0             11.7           1.382557   \n",
       "3             17.8             4.0             11.7           1.382557   \n",
       "4             17.8             4.0             11.7           1.382557   \n",
       "\n",
       "   sea_level_pressure  wind_direction  wind_speed  day_of_week  hour  \\\n",
       "0              1021.4           100.0         3.6            6     0   \n",
       "1              1021.4           100.0         3.6            6     0   \n",
       "2              1021.4           100.0         3.6            6     0   \n",
       "3              1021.4           100.0         3.6            6     0   \n",
       "4              1021.4           100.0         3.6            6     0   \n",
       "\n",
       "   week_of_year  week_end  \n",
       "0            51         1  \n",
       "1            51         1  \n",
       "2            51         1  \n",
       "3            51         1  \n",
       "4            51         1  "
      ]
     },
     "execution_count": 26,
     "metadata": {},
     "output_type": "execute_result"
    }
   ],
   "source": [
    "df.head()"
   ]
  },
  {
   "cell_type": "code",
   "execution_count": 36,
   "metadata": {
    "execution": {
     "iopub.execute_input": "2021-07-30T14:01:43.972402Z",
     "iopub.status.busy": "2021-07-30T14:01:43.972037Z",
     "iopub.status.idle": "2021-07-30T14:01:43.983183Z",
     "shell.execute_reply": "2021-07-30T14:01:43.981932Z",
     "shell.execute_reply.started": "2021-07-30T14:01:43.972372Z"
    }
   },
   "outputs": [
    {
     "data": {
      "text/html": [
       "<div>\n",
       "<style scoped>\n",
       "    .dataframe tbody tr th:only-of-type {\n",
       "        vertical-align: middle;\n",
       "    }\n",
       "\n",
       "    .dataframe tbody tr th {\n",
       "        vertical-align: top;\n",
       "    }\n",
       "\n",
       "    .dataframe thead th {\n",
       "        text-align: right;\n",
       "    }\n",
       "</style>\n",
       "<table border=\"1\" class=\"dataframe\">\n",
       "  <thead>\n",
       "    <tr style=\"text-align: right;\">\n",
       "      <th></th>\n",
       "      <th>row_id</th>\n",
       "      <th>meter_reading</th>\n",
       "    </tr>\n",
       "  </thead>\n",
       "  <tbody>\n",
       "    <tr>\n",
       "      <th>0</th>\n",
       "      <td>0</td>\n",
       "      <td>0</td>\n",
       "    </tr>\n",
       "    <tr>\n",
       "      <th>1</th>\n",
       "      <td>1</td>\n",
       "      <td>0</td>\n",
       "    </tr>\n",
       "    <tr>\n",
       "      <th>2</th>\n",
       "      <td>2</td>\n",
       "      <td>0</td>\n",
       "    </tr>\n",
       "    <tr>\n",
       "      <th>3</th>\n",
       "      <td>3</td>\n",
       "      <td>0</td>\n",
       "    </tr>\n",
       "    <tr>\n",
       "      <th>4</th>\n",
       "      <td>4</td>\n",
       "      <td>0</td>\n",
       "    </tr>\n",
       "  </tbody>\n",
       "</table>\n",
       "</div>"
      ],
      "text/plain": [
       "   row_id  meter_reading\n",
       "0       0              0\n",
       "1       1              0\n",
       "2       2              0\n",
       "3       3              0\n",
       "4       4              0"
      ]
     },
     "execution_count": 36,
     "metadata": {},
     "output_type": "execute_result"
    }
   ],
   "source": [
    "sub.head()"
   ]
  },
  {
   "cell_type": "code",
   "execution_count": 38,
   "metadata": {
    "execution": {
     "iopub.execute_input": "2021-07-30T14:03:27.052973Z",
     "iopub.status.busy": "2021-07-30T14:03:27.052553Z",
     "iopub.status.idle": "2021-07-30T14:32:35.961738Z",
     "shell.execute_reply": "2021-07-30T14:32:35.960853Z",
     "shell.execute_reply.started": "2021-07-30T14:03:27.052937Z"
    }
   },
   "outputs": [
    {
     "name": "stderr",
     "output_type": "stream",
     "text": [
      "  0%|          | 0/417 [00:00<?, ?it/s]/opt/conda/lib/python3.7/site-packages/ipykernel_launcher.py:19: SettingWithCopyWarning: \n",
      "A value is trying to be set on a copy of a slice from a DataFrame.\n",
      "Try using .loc[row_indexer,col_indexer] = value instead\n",
      "\n",
      "See the caveats in the documentation: https://pandas.pydata.org/pandas-docs/stable/user_guide/indexing.html#returning-a-view-versus-a-copy\n",
      "100%|██████████| 417/417 [29:08<00:00,  4.19s/it]\n"
     ]
    }
   ],
   "source": [
    "batch_size=1_00_000\n",
    "n_batches=int(np.ceil(df.shape[0]/batch_size))\n",
    "b=df.shape[0]\n",
    "for batch in tqdm(range(n_batches)):\n",
    "    a=batch*batch_size\n",
    "    curr_b=(batch+1)*batch_size\n",
    "    if b<=curr_b:\n",
    "        curr_b=b\n",
    "    temp_data=df.iloc[a:curr_b,:].reset_index(drop=True)\n",
    "    temp_sub=sub.loc[sub['row_id'].isin(temp_data['row_id'].values),:]\n",
    "    temp_sub.reset_index(drop=True,inplace=True)\n",
    "    temp_data=temp_data[total_columns].values\n",
    "    p1=np.expm1(xgb1.predict(temp_data))\n",
    "    p2=np.expm1(xgb2.predict(temp_data))\n",
    "    p3=np.expm1(xgb3.predict(temp_data))\n",
    "    p4=np.expm1(xgb4.predict(temp_data))\n",
    "    p5=np.expm1(xgb5.predict(temp_data))\n",
    "    p=(p1+p2+p3+p4+p5)/5.0\n",
    "    temp_sub['meter_reading']=p\n",
    "    final_sub.append(temp_sub)"
   ]
  },
  {
   "cell_type": "code",
   "execution_count": 39,
   "metadata": {
    "execution": {
     "iopub.execute_input": "2021-07-30T14:32:35.967251Z",
     "iopub.status.busy": "2021-07-30T14:32:35.965535Z",
     "iopub.status.idle": "2021-07-30T14:32:36.548286Z",
     "shell.execute_reply": "2021-07-30T14:32:36.547277Z",
     "shell.execute_reply.started": "2021-07-30T14:32:35.967200Z"
    }
   },
   "outputs": [],
   "source": [
    "final_submission=pd.concat(final_sub,ignore_index=True)"
   ]
  },
  {
   "cell_type": "code",
   "execution_count": 40,
   "metadata": {
    "execution": {
     "iopub.execute_input": "2021-07-30T14:32:36.550545Z",
     "iopub.status.busy": "2021-07-30T14:32:36.550143Z",
     "iopub.status.idle": "2021-07-30T14:32:36.561959Z",
     "shell.execute_reply": "2021-07-30T14:32:36.560935Z",
     "shell.execute_reply.started": "2021-07-30T14:32:36.550502Z"
    }
   },
   "outputs": [
    {
     "data": {
      "text/html": [
       "<div>\n",
       "<style scoped>\n",
       "    .dataframe tbody tr th:only-of-type {\n",
       "        vertical-align: middle;\n",
       "    }\n",
       "\n",
       "    .dataframe tbody tr th {\n",
       "        vertical-align: top;\n",
       "    }\n",
       "\n",
       "    .dataframe thead th {\n",
       "        text-align: right;\n",
       "    }\n",
       "</style>\n",
       "<table border=\"1\" class=\"dataframe\">\n",
       "  <thead>\n",
       "    <tr style=\"text-align: right;\">\n",
       "      <th></th>\n",
       "      <th>row_id</th>\n",
       "      <th>meter_reading</th>\n",
       "    </tr>\n",
       "  </thead>\n",
       "  <tbody>\n",
       "    <tr>\n",
       "      <th>0</th>\n",
       "      <td>0</td>\n",
       "      <td>18.561251</td>\n",
       "    </tr>\n",
       "    <tr>\n",
       "      <th>1</th>\n",
       "      <td>1</td>\n",
       "      <td>14.361170</td>\n",
       "    </tr>\n",
       "    <tr>\n",
       "      <th>2</th>\n",
       "      <td>2</td>\n",
       "      <td>6.005300</td>\n",
       "    </tr>\n",
       "    <tr>\n",
       "      <th>3</th>\n",
       "      <td>3</td>\n",
       "      <td>42.369812</td>\n",
       "    </tr>\n",
       "    <tr>\n",
       "      <th>4</th>\n",
       "      <td>4</td>\n",
       "      <td>101.905449</td>\n",
       "    </tr>\n",
       "  </tbody>\n",
       "</table>\n",
       "</div>"
      ],
      "text/plain": [
       "   row_id  meter_reading\n",
       "0       0      18.561251\n",
       "1       1      14.361170\n",
       "2       2       6.005300\n",
       "3       3      42.369812\n",
       "4       4     101.905449"
      ]
     },
     "execution_count": 40,
     "metadata": {},
     "output_type": "execute_result"
    }
   ],
   "source": [
    "final_submission.head()"
   ]
  },
  {
   "cell_type": "code",
   "execution_count": null,
   "metadata": {},
   "outputs": [],
   "source": [
    "final_submission.isna().sum()"
   ]
  },
  {
   "cell_type": "code",
   "execution_count": 41,
   "metadata": {
    "execution": {
     "iopub.execute_input": "2021-07-30T14:32:42.371428Z",
     "iopub.status.busy": "2021-07-30T14:32:42.370901Z",
     "iopub.status.idle": "2021-07-30T14:34:50.809391Z",
     "shell.execute_reply": "2021-07-30T14:34:50.808361Z",
     "shell.execute_reply.started": "2021-07-30T14:32:42.371384Z"
    }
   },
   "outputs": [],
   "source": [
    "final_submission.to_csv('submission.csv',index=False)"
   ]
  },
  {
   "cell_type": "code",
   "execution_count": null,
   "metadata": {},
   "outputs": [],
   "source": []
  }
 ],
 "metadata": {
  "kernelspec": {
   "display_name": "Python 3 (ipykernel)",
   "language": "python",
   "name": "python3"
  },
  "language_info": {
   "codemirror_mode": {
    "name": "ipython",
    "version": 3
   },
   "file_extension": ".py",
   "mimetype": "text/x-python",
   "name": "python",
   "nbconvert_exporter": "python",
   "pygments_lexer": "ipython3",
   "version": "3.9.6"
  }
 },
 "nbformat": 4,
 "nbformat_minor": 4
}
